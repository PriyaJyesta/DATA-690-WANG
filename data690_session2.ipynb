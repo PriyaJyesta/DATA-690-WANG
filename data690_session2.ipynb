{
  "nbformat": 4,
  "nbformat_minor": 0,
  "metadata": {
    "colab": {
      "name": "data690_session2.ipynb",
      "provenance": [],
      "authorship_tag": "ABX9TyOzzru5I6+0eaHWke9DLoWe",
      "include_colab_link": true
    },
    "kernelspec": {
      "name": "python3",
      "display_name": "Python 3"
    }
  },
  "cells": [
    {
      "cell_type": "markdown",
      "metadata": {
        "id": "view-in-github",
        "colab_type": "text"
      },
      "source": [
        "<a href=\"https://colab.research.google.com/github/PriyaJyesta/DATA-690-WANG/blob/master/data690_session2.ipynb\" target=\"_parent\"><img src=\"https://colab.research.google.com/assets/colab-badge.svg\" alt=\"Open In Colab\"/></a>"
      ]
    },
    {
      "cell_type": "markdown",
      "metadata": {
        "id": "ZIqQM1tEZz8N",
        "colab_type": "text"
      },
      "source": [
        "#This is test notebook"
      ]
    },
    {
      "cell_type": "code",
      "metadata": {
        "id": "m5Ng-vUQamY2",
        "colab_type": "code",
        "colab": {
          "base_uri": "https://localhost:8080/",
          "height": 34
        },
        "outputId": "3291107a-7128-4295-895e-95a0fe674417"
      },
      "source": [
        "print(\"hello world\")"
      ],
      "execution_count": 1,
      "outputs": [
        {
          "output_type": "stream",
          "text": [
            "hello world\n"
          ],
          "name": "stdout"
        }
      ]
    },
    {
      "cell_type": "code",
      "metadata": {
        "id": "txM_5J0Jawzr",
        "colab_type": "code",
        "colab": {
          "base_uri": "https://localhost:8080/",
          "height": 51
        },
        "outputId": "4a41646f-10fb-4c3b-be1c-4c0e84a532c6"
      },
      "source": [
        "age=input(\"enter your age\")\n",
        "print(\"hello world\",age)"
      ],
      "execution_count": 4,
      "outputs": [
        {
          "output_type": "stream",
          "text": [
            "enter your age4\n",
            "hello world 4\n"
          ],
          "name": "stdout"
        }
      ]
    },
    {
      "cell_type": "markdown",
      "metadata": {
        "id": "GXYPbbPMbDvY",
        "colab_type": "text"
      },
      "source": [
        "#Learn Python Data Types"
      ]
    },
    {
      "cell_type": "code",
      "metadata": {
        "id": "PLUWHoMhaw2J",
        "colab_type": "code",
        "colab": {}
      },
      "source": [
        ""
      ],
      "execution_count": null,
      "outputs": []
    }
  ]
}