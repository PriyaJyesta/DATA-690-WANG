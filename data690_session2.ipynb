{
  "nbformat": 4,
  "nbformat_minor": 0,
  "metadata": {
    "colab": {
      "name": "data690_session2.ipynb",
      "provenance": [],
      "authorship_tag": "ABX9TyNo6OElbUOi08MDbLgd2YX3",
      "include_colab_link": true
    },
    "kernelspec": {
      "name": "python3",
      "display_name": "Python 3"
    }
  },
  "cells": [
    {
      "cell_type": "markdown",
      "metadata": {
        "id": "view-in-github",
        "colab_type": "text"
      },
      "source": [
        "<a href=\"https://colab.research.google.com/github/PriyaJyesta/DATA-690-WANG/blob/master/data690_session2.ipynb\" target=\"_parent\"><img src=\"https://colab.research.google.com/assets/colab-badge.svg\" alt=\"Open In Colab\"/></a>"
      ]
    },
    {
      "cell_type": "markdown",
      "metadata": {
        "id": "ZIqQM1tEZz8N",
        "colab_type": "text"
      },
      "source": [
        "#This is test notebook"
      ]
    }
  ]
}