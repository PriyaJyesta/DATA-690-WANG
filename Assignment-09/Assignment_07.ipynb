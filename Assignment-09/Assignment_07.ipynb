{
 "cells": [
  {
   "cell_type": "markdown",
   "metadata": {
    "id": "-2fQAV7J6oI1"
   },
   "source": [
    "### Assignment 8\n",
    "For this assignment , we will use the college scorecard dataset. \n",
    "<pre>\n",
    "From the 22 individual school year data files, randomly (using Python) select one file. \n",
    "Only read the column \"TUITIONFEE_IN\" frm this file into a data frame.\n",
    "Find out how many observations this data frame has.\n",
    "Find out how many observations that have missing value. Drop those observations.\n",
    "Find out how many observations that have value of zero. Drop those observations.\n",
    "Calculate the mean of the tuition.\n",
    "Randomly select one observation, find out the tuition of that observation.\n",
    "Calculate the different between the tuition of this observation and the average tuition (mean) off all observations above.\n",
    "Randomly select another observation and repeat the above.\n",
    "Randomly select another observation and repeat the above.\n",
    "Randomly select 5 observations, display the tuition of these observation.\n",
    "Calculate the average of these 5 observations\n",
    "Calculate the different between the average tuition of thes 5 observations and the average tuition (mean) off all observations above.\n",
    "Randomly select another 5 observations and repeat the above.\n",
    "Randomly select another 5 observation and repeat the above.\n",
    "\n",
    "Randomly select 10 observations, display the tuition of these observation.\n",
    "Calculate the average of these 10 observations\n",
    "Calculate the different between the average tuition of thes 10 observations and the average tuition (mean) off all observations above.\n",
    "Randomly select another 10 observations and repeat the above.\n",
    "Randomly select another 10 observation and repeat the above.\n",
    "\n",
    "\n",
    "Randomly select 20 observations, display the tuition of these observation.\n",
    "Calculate the average of these 20 observations\n",
    "Calculate the different between the average tuition of thes 10 observations and the average tuition (mean) off all observations above.\n",
    "Randomly select another 20 observations and repeat the above.\n",
    "Randomly select another 20 observation and repeat the above.\n",
    "\n",
    "Randomly select 30 observations, display the tuition of these observation.\n",
    "Calculate the average of these 30 observations\n",
    "Calculate the different between the average tuition of thes 10 observations and the average tuition (mean) off all observations above.\n",
    "Randomly select another 30 observations and repeat the above.\n",
    "Randomly select another 30 observation and repeat the above.\n",
    "\n",
    "Write a function that take an input x (number of observations). \n",
    "The function will perform the following:\n",
    "\n",
    "Randomly select x observations, display the tuition of these observations.\n",
    "Calculate the average of these x observations\n",
    "Calculate the different between the average tuition of these x observations and the average tuition (mean) off all observations above.\n",
    "Display the difference.\n",
    "<pre>\n"
   ]
  },
  {
   "cell_type": "code",
   "execution_count": 32,
   "metadata": {
    "id": "HpZckaJR6oI8"
   },
   "outputs": [],
   "source": [
    "# 1 - Import necessary libraries\n",
    "import os\n",
    "import pandas as pd\n",
    "import numpy as np\n",
    "import matplotlib.pyplot as plt\n",
    "import seaborn as sns\n",
    "import random\n",
    "%matplotlib inline \n",
    "sns.set(color_codes=True)"
   ]
  },
  {
   "cell_type": "code",
   "execution_count": 33,
   "metadata": {
    "colab": {
     "base_uri": "https://localhost:8080/",
     "height": 198
    },
    "id": "6qafjqpb6oJC",
    "outputId": "11bd9aba-5ce4-4338-ff91-f3c2d3b4420d"
   },
   "outputs": [
    {
     "data": {
      "text/plain": [
       "['MERGED1996_97_PP.csv',\n",
       " 'MERGED1997_98_PP.csv',\n",
       " 'MERGED1998_99_PP.csv',\n",
       " 'MERGED1999_00_PP.csv',\n",
       " 'MERGED2000_01_PP.csv',\n",
       " 'MERGED2001_02_PP.csv',\n",
       " 'MERGED2002_03_PP.csv',\n",
       " 'MERGED2003_04_PP.csv',\n",
       " 'MERGED2004_05_PP.csv',\n",
       " 'MERGED2005_06_PP.csv',\n",
       " 'MERGED2006_07_PP.csv',\n",
       " 'MERGED2007_08_PP.csv',\n",
       " 'MERGED2008_09_PP.csv',\n",
       " 'MERGED2009_10_PP.csv',\n",
       " 'MERGED2010_11_PP.csv',\n",
       " 'MERGED2011_12_PP.csv',\n",
       " 'MERGED2012_13_PP.csv',\n",
       " 'MERGED2013_14_PP.csv',\n",
       " 'MERGED2014_15_PP.csv',\n",
       " 'MERGED2015_16_PP.csv',\n",
       " 'MERGED2016_17_PP.csv',\n",
       " 'MERGED2017_18_PP.csv',\n",
       " 'MERGED2018_19_PP.csv']"
      ]
     },
     "execution_count": 33,
     "metadata": {},
     "output_type": "execute_result"
    }
   ],
   "source": [
    "# 2 - Retrieve the names of the 22 files and assign them to a List variable\n",
    "# You would need to filter out other files\n",
    "# Display the names of these 22 files\n",
    "file_names = os.listdir()\n",
    "csv_files = [name for name in file_names if name.endswith(\".csv\")]\n",
    "csv_files\n",
    "merged_files = [name for name in file_names if name.startswith(\"MERGED\")]\n",
    "\n",
    "merged_files.sort()\n",
    "merged_files"
   ]
  },
  {
   "cell_type": "code",
   "execution_count": 34,
   "metadata": {
    "id": "ft9Rn1lp6oJG"
   },
   "outputs": [
    {
     "data": {
      "text/plain": [
       "'MERGED2012_13_PP.csv'"
      ]
     },
     "execution_count": 34,
     "metadata": {},
     "output_type": "execute_result"
    }
   ],
   "source": [
    "# 3 - Write code to randomly select one file name out of the 22 files names. \n",
    "# Hint: generate a random integer between 0 and 21 first\n",
    "# Display the file name\n",
    "file = random.choice(merged_files)\n",
    "file"
   ]
  },
  {
   "cell_type": "code",
   "execution_count": 35,
   "metadata": {
    "id": "DJy1hmWM6oJN"
   },
   "outputs": [
    {
     "name": "stdout",
     "output_type": "stream",
     "text": [
      "<class 'pandas.core.frame.DataFrame'>\n",
      "RangeIndex: 7862 entries, 0 to 7861\n",
      "Data columns (total 2 columns):\n",
      "INSTNM           7862 non-null object\n",
      "TUITIONFEE_IN    4462 non-null float64\n",
      "dtypes: float64(1), object(1)\n",
      "memory usage: 123.0+ KB\n"
     ]
    }
   ],
   "source": [
    "# 4 - Only read the two columns: college name (INSTNM) and in state tution (\"TUITIONFEE_IN\")\n",
    "# from this file into a data frame aand display use info() function to display a summary information\n",
    "df = pd.read_csv(file, usecols=[\"INSTNM\", \"TUITIONFEE_IN\"])\n",
    "df.info()"
   ]
  },
  {
   "cell_type": "code",
   "execution_count": 36,
   "metadata": {
    "id": "wU5Ozu106oJR"
   },
   "outputs": [
    {
     "data": {
      "text/plain": [
       "INSTNM              0\n",
       "TUITIONFEE_IN    3400\n",
       "dtype: int64"
      ]
     },
     "execution_count": 36,
     "metadata": {},
     "output_type": "execute_result"
    }
   ],
   "source": [
    "# 5 - Find out how many observations have missing value.\n",
    "df.isna().sum()"
   ]
  },
  {
   "cell_type": "code",
   "execution_count": 37,
   "metadata": {
    "id": "V0MTbBwv6oJW"
   },
   "outputs": [
    {
     "data": {
      "text/plain": [
       "INSTNM           0\n",
       "TUITIONFEE_IN    0\n",
       "dtype: int64"
      ]
     },
     "execution_count": 37,
     "metadata": {},
     "output_type": "execute_result"
    }
   ],
   "source": [
    "# 6 - Drop those observations with missing value\n",
    "# Disaply the number of observations afterward\n",
    "df = df.dropna()\n",
    "df.isna().sum()"
   ]
  },
  {
   "cell_type": "code",
   "execution_count": 38,
   "metadata": {
    "id": "A-pfpASe6oJb"
   },
   "outputs": [
    {
     "data": {
      "text/plain": [
       "INSTNM           6\n",
       "TUITIONFEE_IN    6\n",
       "dtype: int64"
      ]
     },
     "execution_count": 38,
     "metadata": {},
     "output_type": "execute_result"
    }
   ],
   "source": [
    "# 7 - Find out how many observations have 0 tution. \n",
    "df_tution = df[df[\"TUITIONFEE_IN\"] == 0 ]\n",
    "df_tution.count()"
   ]
  },
  {
   "cell_type": "code",
   "execution_count": 39,
   "metadata": {
    "id": "UUp2iUlM6oJk"
   },
   "outputs": [
    {
     "data": {
      "text/plain": [
       "INSTNM           4456\n",
       "TUITIONFEE_IN    4456\n",
       "dtype: int64"
      ]
     },
     "execution_count": 39,
     "metadata": {},
     "output_type": "execute_result"
    }
   ],
   "source": [
    "# 8 - Drop those observations with 0 tuition\n",
    "# Disaply the number of observations afterward\n",
    "df.drop(df.index[df[\"TUITIONFEE_IN\"] == 0 ], inplace = True)\n",
    "df.count()"
   ]
  },
  {
   "cell_type": "code",
   "execution_count": 40,
   "metadata": {
    "id": "vXjrc9Km6oJq"
   },
   "outputs": [
    {
     "data": {
      "text/plain": [
       "13528.23698384201"
      ]
     },
     "execution_count": 40,
     "metadata": {},
     "output_type": "execute_result"
    }
   ],
   "source": [
    "# 9 - Calculate and display the mean (average) of the tuitions of all the remaining observations \n",
    "mean = df[\"TUITIONFEE_IN\"].mean()\n",
    "mean"
   ]
  },
  {
   "cell_type": "code",
   "execution_count": 41,
   "metadata": {
    "id": "Yyk1Kx456oJv"
   },
   "outputs": [
    {
     "data": {
      "text/plain": [
       "1352    26430.0\n",
       "Name: TUITIONFEE_IN, dtype: float64"
      ]
     },
     "execution_count": 41,
     "metadata": {},
     "output_type": "execute_result"
    }
   ],
   "source": [
    "# 10 - Randomly select just 1 observation from the data frame.\n",
    "# Display the tuition of that observation. \n",
    "rand_df = df.sample()\n",
    "rand_df['TUITIONFEE_IN']"
   ]
  },
  {
   "cell_type": "code",
   "execution_count": 42,
   "metadata": {
    "id": "2Jio5eDc6oJ0"
   },
   "outputs": [
    {
     "data": {
      "text/plain": [
       "1352    12901.763016\n",
       "Name: TUITIONFEE_IN, dtype: float64"
      ]
     },
     "execution_count": 42,
     "metadata": {},
     "output_type": "execute_result"
    }
   ],
   "source": [
    "# 11 - Calculate the different between the tuition of this observation and \n",
    "# the mean tuition off all observations calculated earlier.\n",
    "# Display the difference\n",
    "rand_df['TUITIONFEE_IN'] - mean"
   ]
  },
  {
   "cell_type": "code",
   "execution_count": 43,
   "metadata": {
    "id": "E7RIjD8E6oJ5"
   },
   "outputs": [
    {
     "name": "stdout",
     "output_type": "stream",
     "text": [
      "2584    19006.763016\n",
      "Name: TUITIONFEE_IN, dtype: float64\n"
     ]
    }
   ],
   "source": [
    "# 12 - Repeat 10 to 11 several times get the feel of the size of the difference in means\n",
    "rand_df_1 = df.sample()\n",
    "print(rand_df_1['TUITIONFEE_IN'] - mean)"
   ]
  },
  {
   "cell_type": "code",
   "execution_count": 44,
   "metadata": {
    "id": "X7P4DGbi6oJ-"
   },
   "outputs": [
    {
     "data": {
      "text/html": [
       "<div>\n",
       "<style scoped>\n",
       "    .dataframe tbody tr th:only-of-type {\n",
       "        vertical-align: middle;\n",
       "    }\n",
       "\n",
       "    .dataframe tbody tr th {\n",
       "        vertical-align: top;\n",
       "    }\n",
       "\n",
       "    .dataframe thead th {\n",
       "        text-align: right;\n",
       "    }\n",
       "</style>\n",
       "<table border=\"1\" class=\"dataframe\">\n",
       "  <thead>\n",
       "    <tr style=\"text-align: right;\">\n",
       "      <th></th>\n",
       "      <th>INSTNM</th>\n",
       "      <th>TUITIONFEE_IN</th>\n",
       "    </tr>\n",
       "  </thead>\n",
       "  <tbody>\n",
       "    <tr>\n",
       "      <td>3557</td>\n",
       "      <td>New England Institute of Technology</td>\n",
       "      <td>20685.0</td>\n",
       "    </tr>\n",
       "    <tr>\n",
       "      <td>7177</td>\n",
       "      <td>Globe University-Appleton</td>\n",
       "      <td>15300.0</td>\n",
       "    </tr>\n",
       "    <tr>\n",
       "      <td>1807</td>\n",
       "      <td>Regis College</td>\n",
       "      <td>33060.0</td>\n",
       "    </tr>\n",
       "    <tr>\n",
       "      <td>2696</td>\n",
       "      <td>SUNY College of Technology at Delhi</td>\n",
       "      <td>7090.0</td>\n",
       "    </tr>\n",
       "    <tr>\n",
       "      <td>3458</td>\n",
       "      <td>Peirce College</td>\n",
       "      <td>16500.0</td>\n",
       "    </tr>\n",
       "    <tr>\n",
       "      <td>7294</td>\n",
       "      <td>Virginia College-Columbus</td>\n",
       "      <td>4480.0</td>\n",
       "    </tr>\n",
       "    <tr>\n",
       "      <td>3893</td>\n",
       "      <td>Texas Southmost College</td>\n",
       "      <td>5488.0</td>\n",
       "    </tr>\n",
       "    <tr>\n",
       "      <td>3105</td>\n",
       "      <td>Brown Mackie College-Akron</td>\n",
       "      <td>12024.0</td>\n",
       "    </tr>\n",
       "    <tr>\n",
       "      <td>6860</td>\n",
       "      <td>Sanford-Brown College-Phoenix</td>\n",
       "      <td>15873.0</td>\n",
       "    </tr>\n",
       "    <tr>\n",
       "      <td>2828</td>\n",
       "      <td>Meredith College</td>\n",
       "      <td>29186.0</td>\n",
       "    </tr>\n",
       "    <tr>\n",
       "      <td>136</td>\n",
       "      <td>University of Arkansas at Little Rock</td>\n",
       "      <td>6854.0</td>\n",
       "    </tr>\n",
       "    <tr>\n",
       "      <td>3897</td>\n",
       "      <td>Prairie View A &amp; M University</td>\n",
       "      <td>6404.0</td>\n",
       "    </tr>\n",
       "    <tr>\n",
       "      <td>7796</td>\n",
       "      <td>Strayer University-Sand Lake Campus</td>\n",
       "      <td>14985.0</td>\n",
       "    </tr>\n",
       "    <tr>\n",
       "      <td>3454</td>\n",
       "      <td>Pennsylvania State University-Penn State Abington</td>\n",
       "      <td>13356.0</td>\n",
       "    </tr>\n",
       "    <tr>\n",
       "      <td>111</td>\n",
       "      <td>Mohave Community College</td>\n",
       "      <td>2016.0</td>\n",
       "    </tr>\n",
       "    <tr>\n",
       "      <td>6133</td>\n",
       "      <td>University of Phoenix-Northern Nevada Campus</td>\n",
       "      <td>11320.0</td>\n",
       "    </tr>\n",
       "    <tr>\n",
       "      <td>599</td>\n",
       "      <td>Spartan College of Aeronautics and Technology</td>\n",
       "      <td>14094.0</td>\n",
       "    </tr>\n",
       "    <tr>\n",
       "      <td>2340</td>\n",
       "      <td>duCret School of Arts</td>\n",
       "      <td>8850.0</td>\n",
       "    </tr>\n",
       "    <tr>\n",
       "      <td>1697</td>\n",
       "      <td>Anna Maria College</td>\n",
       "      <td>30676.0</td>\n",
       "    </tr>\n",
       "    <tr>\n",
       "      <td>6517</td>\n",
       "      <td>Bryan University</td>\n",
       "      <td>14415.0</td>\n",
       "    </tr>\n",
       "  </tbody>\n",
       "</table>\n",
       "</div>"
      ],
      "text/plain": [
       "                                                 INSTNM  TUITIONFEE_IN\n",
       "3557                New England Institute of Technology        20685.0\n",
       "7177                          Globe University-Appleton        15300.0\n",
       "1807                                      Regis College        33060.0\n",
       "2696                SUNY College of Technology at Delhi         7090.0\n",
       "3458                                     Peirce College        16500.0\n",
       "7294                          Virginia College-Columbus         4480.0\n",
       "3893                            Texas Southmost College         5488.0\n",
       "3105                         Brown Mackie College-Akron        12024.0\n",
       "6860                      Sanford-Brown College-Phoenix        15873.0\n",
       "2828                                   Meredith College        29186.0\n",
       "136               University of Arkansas at Little Rock         6854.0\n",
       "3897                      Prairie View A & M University         6404.0\n",
       "7796                Strayer University-Sand Lake Campus        14985.0\n",
       "3454  Pennsylvania State University-Penn State Abington        13356.0\n",
       "111                            Mohave Community College         2016.0\n",
       "6133       University of Phoenix-Northern Nevada Campus        11320.0\n",
       "599       Spartan College of Aeronautics and Technology        14094.0\n",
       "2340                              duCret School of Arts         8850.0\n",
       "1697                                 Anna Maria College        30676.0\n",
       "6517                                   Bryan University        14415.0"
      ]
     },
     "execution_count": 44,
     "metadata": {},
     "output_type": "execute_result"
    }
   ],
   "source": [
    "# 13 - Randomly select 20 observations, display the tuition of these observation. \n",
    "df_20 = df.sample(20)\n",
    "df_20"
   ]
  },
  {
   "cell_type": "code",
   "execution_count": 45,
   "metadata": {
    "id": "2kvz1whj6oKA"
   },
   "outputs": [
    {
     "data": {
      "text/plain": [
       "14132.8"
      ]
     },
     "execution_count": 45,
     "metadata": {},
     "output_type": "execute_result"
    }
   ],
   "source": [
    "# 14 - Calculate and displat the mean tuition of these 20 observations\n",
    "df_20_mean = df_20[\"TUITIONFEE_IN\"].mean()\n",
    "df_20_mean"
   ]
  },
  {
   "cell_type": "code",
   "execution_count": 46,
   "metadata": {
    "id": "7qZe_Xn-6oKE"
   },
   "outputs": [
    {
     "data": {
      "text/plain": [
       "604.5630161579884"
      ]
     },
     "execution_count": 46,
     "metadata": {},
     "output_type": "execute_result"
    }
   ],
   "source": [
    "# 15 - Calculate  the different between the average tuition of these 20 observations \n",
    "# and the mean tuition off all observations calculated earlier.\n",
    "# Display the difference\n",
    "df_20_mean - mean"
   ]
  },
  {
   "cell_type": "code",
   "execution_count": 47,
   "metadata": {
    "id": "V7xgI6GU6oKH"
   },
   "outputs": [
    {
     "data": {
      "text/plain": [
       "-392.1369838420105"
      ]
     },
     "execution_count": 47,
     "metadata": {},
     "output_type": "execute_result"
    }
   ],
   "source": [
    "# 16 - Repeat 13 to 15 several times and get the feel of the size of the difference in means \n",
    "# Compare these differences with the differences calculated earlier with just 1 observation\n",
    "# Describe your hunch/conclusion\n",
    "df_20_1 = df.sample(20)\n",
    "df_mean = df_20_1[\"TUITIONFEE_IN\"].mean()\n",
    "df_mean - mean"
   ]
  },
  {
   "cell_type": "code",
   "execution_count": 48,
   "metadata": {},
   "outputs": [
    {
     "data": {
      "text/plain": [
       "-1780.8869838420105"
      ]
     },
     "execution_count": 48,
     "metadata": {},
     "output_type": "execute_result"
    }
   ],
   "source": [
    "df_20_2 = df.sample(20)\n",
    "df_mean_1 = df_20_2[\"TUITIONFEE_IN\"].mean()\n",
    "df_mean_1 - mean"
   ]
  },
  {
   "cell_type": "markdown",
   "metadata": {
    "id": "0i4lLySc6oKK"
   },
   "source": [
    "Write a function that take two input parameters:\n",
    "- x (number of observations) \n",
    "- y (the name of the dataframe). \n",
    "\n",
    "The function will perform the following: \n",
    "- Randomly select x observations from y\n",
    "- Calculate the mean of these x observations \n",
    "- Calculate the mean of all observations\n",
    "- Calculate the difference between the two means \n",
    "- Return the difference"
   ]
  },
  {
   "cell_type": "code",
   "execution_count": 59,
   "metadata": {
    "id": "ZblkuSq46oKL"
   },
   "outputs": [],
   "source": [
    "# 17 - write function Code here\n",
    "\n",
    "def mean_diff(x, y):\n",
    "    rand = y.sample(x)\n",
    "    mean_x = rand[\"TUITIONFEE_IN\"].mean()\n",
    "    mean_all = y[\"TUITIONFEE_IN\"].mean()\n",
    "    mean_diffe = mean_x - mean_all\n",
    "    return mean_diffe"
   ]
  },
  {
   "cell_type": "code",
   "execution_count": 60,
   "metadata": {
    "id": "rCtsaGCy6oKN"
   },
   "outputs": [
    {
     "data": {
      "text/plain": [
       "-3561.236983842011"
      ]
     },
     "execution_count": 60,
     "metadata": {},
     "output_type": "execute_result"
    }
   ],
   "source": [
    "# 18 - test the function by passing a sample size and the name of the dataframe\n",
    "# Dsplay the return of the function\n",
    "mean_diff(15, df)"
   ]
  },
  {
   "cell_type": "code",
   "execution_count": 62,
   "metadata": {
    "id": "0I58wyGH6oKP"
   },
   "outputs": [
    {
     "data": {
      "text/plain": [
       "[1,\n",
       " 2,\n",
       " 3,\n",
       " 4,\n",
       " 5,\n",
       " 6,\n",
       " 7,\n",
       " 8,\n",
       " 9,\n",
       " 10,\n",
       " 11,\n",
       " 12,\n",
       " 13,\n",
       " 14,\n",
       " 15,\n",
       " 16,\n",
       " 17,\n",
       " 18,\n",
       " 19,\n",
       " 20,\n",
       " 21,\n",
       " 22,\n",
       " 23,\n",
       " 24,\n",
       " 25,\n",
       " 26,\n",
       " 27,\n",
       " 28,\n",
       " 29,\n",
       " 30,\n",
       " 31,\n",
       " 32,\n",
       " 33,\n",
       " 34,\n",
       " 35,\n",
       " 36,\n",
       " 37,\n",
       " 38,\n",
       " 39,\n",
       " 40,\n",
       " 41,\n",
       " 42,\n",
       " 43,\n",
       " 44,\n",
       " 45,\n",
       " 46,\n",
       " 47,\n",
       " 48,\n",
       " 49,\n",
       " 50]"
      ]
     },
     "execution_count": 62,
     "metadata": {},
     "output_type": "execute_result"
    }
   ],
   "source": [
    "# 19 - Create a list of sequence numbers from 1 to 50, name it \"sample_sizes\";\n",
    "# display it to make sure its members are from 1 to 50\n",
    "sample_sizes = list(range(1, 51))\n",
    "sample_sizes"
   ]
  },
  {
   "cell_type": "code",
   "execution_count": 64,
   "metadata": {
    "id": "sBWwbejh6oKR"
   },
   "outputs": [
    {
     "data": {
      "text/plain": [
       "[-13897.76301615799,\n",
       " 3393.236983842011,\n",
       " 5630.570317175344,\n",
       " 7480.986983842011,\n",
       " 2750.6369838420105,\n",
       " 1817.7369838420109,\n",
       " 6895.094126699154,\n",
       " 6490.986983842011,\n",
       " -2345.8741272691004,\n",
       " 614.9369838420116,\n",
       " 1050.146074751101,\n",
       " -477.6796828246552,\n",
       " 238.77544538047187,\n",
       " 3379.236983842011,\n",
       " -2099.1630161579887,\n",
       " 324.3619838420109,\n",
       " 1276.6487485478938,\n",
       " 1302.1258727308996,\n",
       " -2744.973542473779,\n",
       " 3522.53698384201,\n",
       " 2963.3798409848678,\n",
       " 1730.5551656601929,\n",
       " 29.84567949418488,\n",
       " -950.346349491323,\n",
       " 1037.4369838420116,\n",
       " 1562.0831376881652,\n",
       " -2045.1333865283596,\n",
       " -1275.6915875865598,\n",
       " 1094.8231907385634,\n",
       " 504.6036505086777,\n",
       " -204.1501129321823,\n",
       " 1929.5182338420109,\n",
       " -548.7630161579891,\n",
       " 213.44286619495142,\n",
       " 268.35126955629676,\n",
       " 558.403650508677,\n",
       " 944.6964433014709,\n",
       " -1850.3419635264108,\n",
       " 186.85236845739564,\n",
       " 36.41198384201016,\n",
       " -666.8605771335988,\n",
       " 1289.4988886039155,\n",
       " -2074.367667320779,\n",
       " -22.808470703443163,\n",
       " -915.0519050468774,\n",
       " -1331.3282335492931,\n",
       " -1441.9332289239464,\n",
       " 1650.6328171753448,\n",
       " -541.3548528926822,\n",
       " 296.2569838420113]"
      ]
     },
     "execution_count": 64,
     "metadata": {},
     "output_type": "execute_result"
    }
   ],
   "source": [
    "# 20 - Create an empty list and name it \"means_diff\" for differences of population mean and sample means;\n",
    "# Loop through the list sample_sizes:\n",
    "# For each element in the sample size list, obtain a random sample of that size from the data frame;\n",
    "# Calculate the sample mean \n",
    "# Calculate the difference between the population mean and the sample mean\n",
    "# Append the difference to the list \"means_diff\"\n",
    "# Display the list \"means_diff\" after the loop is completed\n",
    "\n",
    "means_diff = []\n",
    "        \n",
    "for i in sample_sizes: \n",
    "    df_rand_sample= df.sample(i)\n",
    "    df_rand_sample_mean = df_rand_sample[\"TUITIONFEE_IN\"].mean()\n",
    "    df_mean = df[\"TUITIONFEE_IN\"].mean()\n",
    "    difference = df_mean - df_rand_sample_mean\n",
    "    means_diff.append(difference)\n",
    "\n",
    "means_diff"
   ]
  },
  {
   "cell_type": "code",
   "execution_count": 65,
   "metadata": {
    "id": "CZxUYK6b6oKU"
   },
   "outputs": [
    {
     "data": {
      "text/plain": [
       "<matplotlib.collections.PathCollection at 0x1a1d0d8a10>"
      ]
     },
     "execution_count": 65,
     "metadata": {},
     "output_type": "execute_result"
    },
    {
     "data": {
      "image/png": "[encoded data removed]",
      "text/plain": [
       "<Figure size 432x288 with 1 Axes>"
      ]
     },
     "metadata": {},
     "output_type": "display_data"
    }
   ],
   "source": [
    "# 21 - Make a scatter plot with sample size on the x-axs and  mean difference on the y-axis\n",
    "# Observe as the sample size increases, the sample means converge to the population mean.\n",
    "# Make sure you make the plot large enough \n",
    "plt.scatter(sample_sizes, means_diff)"
   ]
  },
  {
   "cell_type": "code",
   "execution_count": 66,
   "metadata": {
    "id": "tD8z_VyB6oKW"
   },
   "outputs": [
    {
     "data": {
      "text/plain": [
       "<matplotlib.collections.PathCollection at 0x1a1bd20910>"
      ]
     },
     "execution_count": 66,
     "metadata": {},
     "output_type": "execute_result"
    },
    {
     "data": {
      "image/png": "[encoded data removed]",
      "text/plain": [
       "<Figure size 432x288 with 1 Axes>"
      ]
     },
     "metadata": {},
     "output_type": "display_data"
    }
   ],
   "source": [
    "# 22 - repeat 18 to 21 by replacing 50 with a larger number. For example, 300, or even 1000.\n",
    "# and see how the plot looks.\n",
    "sample_sizes_2 = []\n",
    "means_diff_2 = []\n",
    "\n",
    "for i in range(1, 1001):\n",
    "    sample_sizes_2.append(i)\n",
    "    \n",
    "for i in sample_sizes_2: \n",
    "    df_rand_sample_2= df.sample(i)\n",
    "    df_rand_sample_mean = df_rand_sample_2[\"TUITIONFEE_IN\"].mean()\n",
    "    df_mean = df[\"TUITIONFEE_IN\"].mean()\n",
    "    difference = df_mean - df_rand_sample_mean\n",
    "    means_diff_2.append(difference)\n",
    "\n",
    "plt.scatter(sample_sizes_2, means_diff_2)\n"
   ]
  },
  {
   "cell_type": "code",
   "execution_count": 55,
   "metadata": {
    "id": "MjqbewGC6oKZ"
   },
   "outputs": [],
   "source": [
    "# The end - Give yourself a pat on the back!"
   ]
  }
 ],
 "metadata": {
  "colab": {
   "name": "Assignment-07",
   "provenance": [],
   "toc_visible": true
  },
  "kernelspec": {
   "display_name": "Python 3",
   "language": "python",
   "name": "python3"
  },
  "language_info": {
   "codemirror_mode": {
    "name": "ipython",
    "version": 3
   },
   "file_extension": ".py",
   "mimetype": "text/x-python",
   "name": "python",
   "nbconvert_exporter": "python",
   "pygments_lexer": "ipython3",
   "version": "3.7.4"
  }
 },
 "nbformat": 4,
 "nbformat_minor": 1
}
