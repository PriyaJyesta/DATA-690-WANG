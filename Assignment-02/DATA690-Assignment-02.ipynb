{
 "cells": [
  {
   "cell_type": "markdown",
   "metadata": {},
   "source": [
    "# DATA 690 - Python-Stats-Dataviz \n",
    "\n",
    "## Assignment 02\n",
    "\n",
    "### Prompts a user to enter 10 integers. If the user enters anything other than integers, remind her that only integers are allowed and let her retry. Don't allow the user to enter more than 10 or less than 10 integers. Display the 10 integers back to the user at the end. Calculate the following statistics from the 10 integers entered:\n",
    "\n",
    "- Minimum\n",
    "- Maximum\n",
    "- Range\n",
    "- Mean\n",
    "- Variance\n",
    "- Standard Deviation\n",
    "\n",
    "\n",
    "**Note:**\n",
    "\n",
    "- Use the basic Python concepts and methods. Special Python libraries such as statistics, scipy, or numpy are not allowed. You may need to use:\n",
    "\n",
    "*loops (finite and/or infinite loop)*\n",
    "\n",
    "*break/continue*\n",
    "\n",
    "*try/except*\n",
    "\n",
    "*input() function*\n",
    "\n",
    "*int() function*\n",
    "\n",
    "- Implement the solution in the following two different formats:\n",
    "\n",
    "A Jupyter Notebook (.ipynb)\n",
    "\n",
    "A Python script (.py)\n",
    "\n",
    "Your source code should be well formatted and easy to read and understand.\n",
    "\n",
    "\n",
    "- Provide good comments/documentations:\n",
    "\n",
    "Use both Markdown and comments in the Jupyter Notebook.\n",
    "Use comments in the Python script.\n",
    "Your user prompts, use inputs and output displays should be nicely formatted when users run your program.\n",
    "\n",
    "- Create a subfolder named \"Assignment-02\" in your GitHub repository and upload the two files to the subfolder.\n",
    "\n",
    "- Copy your GitHub repository URL to your assignment submission in Blackboard. No files should be uploaded to the BB."
   ]
  },
  {
   "cell_type": "code",
   "execution_count": 1,
   "metadata": {},
   "outputs": [
    {
     "name": "stdout",
     "output_type": "stream",
     "text": [
      "Please enter 10 integers:23\n",
      "Please enter 10 integers:3\n",
      "Please enter 10 integers:456\n",
      "Please enter 10 integers:89\n",
      "Please enter 10 integers:324\n",
      "Please enter 10 integers:56\n",
      "Please enter 10 integers:23\n",
      "Please enter 10 integers:67\n",
      "Please enter 10 integers:34\n",
      "Please enter 10 integers:78\n",
      "The 10 integer values enteredare  [23, 3, 456, 89, 324, 56, 23, 67, 34, 78]\n"
     ]
    }
   ],
   "source": [
    "# DECLARING AN EMPPTY LIST \n",
    "list_of_integers=[]\n",
    "# RUNNING AN FOR LOOP WITH 10 AS RANGE\n",
    "for i in range(10):\n",
    "    try:\n",
    "# USING INPUT TAG, ALLOWING USER TO ENTER 10 INTEGERS\n",
    "        user_input=int(input(\"Please enter 10 integers:\"))\n",
    "#IF THE USER ENTERS ANY NON INTEGER-VALUES IT WILL GO INTO THIS EXCEPT BLOCK AND PRINT AN VALIDATING MESSAGE\n",
    "    except ValueError:\n",
    "        print(\"Invalid integer entered. Please enter 10 integers.\")\n",
    "        user_input=int(input(\"Please enter your integers: \"))\n",
    "# USING THE LIST DECLARED ABOVE TO SAVE ALL THE ENTERED INTEGER VALUES\n",
    "    list_of_integers.append(user_input)\n",
    "# DISPLAYING ALL THE INTEGER VALUES IN THE LIST \n",
    "print(\"The 10 integer values enteredare \", list_of_integers)"
   ]
  },
  {
   "cell_type": "markdown",
   "metadata": {},
   "source": [
    "### Calculated the statistics mentioned in the question from the 10 integers entered by user."
   ]
  },
  {
   "cell_type": "code",
   "execution_count": 2,
   "metadata": {},
   "outputs": [
    {
     "name": "stdout",
     "output_type": "stream",
     "text": [
      "The Minimum Value among the 10 integers entered is 3\n"
     ]
    }
   ],
   "source": [
    "min_val = list_of_integers[0]\n",
    "for i in range(len(list_of_integers)):\n",
    "    if list_of_integers[i] < min_val:  \n",
    "        min_val = list_of_integers[i]\n",
    "print(\"The Minimum Value among the 10 integers entered is\",min_val)"
   ]
  },
  {
   "cell_type": "code",
   "execution_count": 3,
   "metadata": {},
   "outputs": [
    {
     "name": "stdout",
     "output_type": "stream",
     "text": [
      "The Maximum Value among the 10 integers entered is 456\n"
     ]
    }
   ],
   "source": [
    "max_val = list_of_integers[0]\n",
    "for i in range(len(list_of_integers)):\n",
    "    if list_of_integers[i] > max_val:  \n",
    "        max_val = list_of_integers[i]\n",
    "print(\"The Maximum Value among the 10 integers entered is\",max_val)"
   ]
  },
  {
   "cell_type": "code",
   "execution_count": 4,
   "metadata": {},
   "outputs": [
    {
     "name": "stdout",
     "output_type": "stream",
     "text": [
      "The Range of the 10 integers entered is 453\n"
     ]
    }
   ],
   "source": [
    "range = max_val - min_val\n",
    "print(\"The Range of the 10 integers entered is\",range)"
   ]
  },
  {
   "cell_type": "code",
   "execution_count": 5,
   "metadata": {},
   "outputs": [
    {
     "name": "stdout",
     "output_type": "stream",
     "text": [
      "The Mean Value of the 10 integers entered is 115.3\n"
     ]
    }
   ],
   "source": [
    "total = 0\n",
    "for i in list_of_integers:\n",
    "    total+=i\n",
    "mean = total/len(list_of_integers)\n",
    "print(\"The Mean Value of the 10 integers entered is\",mean)"
   ]
  },
  {
   "cell_type": "code",
   "execution_count": 6,
   "metadata": {},
   "outputs": [
    {
     "name": "stdout",
     "output_type": "stream",
     "text": [
      "The Varience of the 10 integers entered is 20382.41\n"
     ]
    }
   ],
   "source": [
    "total=0\n",
    "for i in list_of_integers:\n",
    "    total = total + (i - mean) ** 2\n",
    "variance = total/len(list_of_integers)\n",
    "print(\"The Varience of the 10 integers entered is\",variance)"
   ]
  },
  {
   "cell_type": "code",
   "execution_count": 7,
   "metadata": {},
   "outputs": [
    {
     "name": "stdout",
     "output_type": "stream",
     "text": [
      "The Standard Deviation of the 10 integers entered is 142.76697797460028\n"
     ]
    }
   ],
   "source": [
    "sd  = variance ** 0.5\n",
    "print(\"The Standard Deviation of the 10 integers entered is\",sd)"
   ]
  }
 ],
 "metadata": {
  "kernelspec": {
   "display_name": "Python 3",
   "language": "python",
   "name": "python3"
  },
  "language_info": {
   "codemirror_mode": {
    "name": "ipython",
    "version": 3
   },
   "file_extension": ".py",
   "mimetype": "text/x-python",
   "name": "python",
   "nbconvert_exporter": "python",
   "pygments_lexer": "ipython3",
   "version": "3.7.4"
  }
 },
 "nbformat": 4,
 "nbformat_minor": 2
}
