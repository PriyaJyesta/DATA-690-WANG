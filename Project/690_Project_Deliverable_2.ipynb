{
  "nbformat": 4,
  "nbformat_minor": 0,
  "metadata": {
    "colab": {
      "name": "690_Project_Deliverable#2.ipynb",
      "provenance": [],
      "collapsed_sections": []
    },
    "kernelspec": {
      "name": "python3",
      "display_name": "Python 3"
    }
  },
  "cells": [
    {
      "cell_type": "markdown",
      "metadata": {
        "id": "R3PdYDZdhvFE"
      },
      "source": [
        "**Importing necessary libraries**"
      ]
    },
    {
      "cell_type": "code",
      "metadata": {
        "id": "KuYJuw-YGpxO"
      },
      "source": [
        "import numpy as np\n",
        "import pandas as pd\n",
        "import matplotlib.pyplot as plt\n",
        "import seaborn as sns\n",
        "%matplotlib inline \n",
        "sns.set(color_codes=True)\n",
        "from itertools import cycle, islice"
      ],
      "execution_count": 124,
      "outputs": []
    },
    {
      "cell_type": "markdown",
      "metadata": {
        "id": "oSqPmzSeh8Ja"
      },
      "source": [
        "**Reading data from the csv file using pandas and loading the data**"
      ]
    },
    {
      "cell_type": "code",
      "metadata": {
        "id": "HtvuwNmAWat3"
      },
      "source": [
        "df = pd.read_csv('WHO-COVID-19-global-data-3.csv')"
      ],
      "execution_count": 125,
      "outputs": []
    },
    {
      "cell_type": "markdown",
      "metadata": {
        "id": "ZIXaYGF9h92R"
      },
      "source": [
        "**Using shape, able to identify the size of the data frame which gives in the format of (rows,columns)**"
      ]
    },
    {
      "cell_type": "code",
      "metadata": {
        "id": "AJ_qETDmW4Oy",
        "outputId": "406b92e5-f37b-440d-ab1f-476455aed1bb",
        "colab": {
          "base_uri": "https://localhost:8080/",
          "height": 34
        }
      },
      "source": [
        "df.shape"
      ],
      "execution_count": 126,
      "outputs": [
        {
          "output_type": "execute_result",
          "data": {
            "text/plain": [
              "(70030, 8)"
            ]
          },
          "metadata": {
            "tags": []
          },
          "execution_count": 126
        }
      ]
    },
    {
      "cell_type": "markdown",
      "metadata": {
        "id": "JnHHZwQB2qBK"
      },
      "source": [
        "**There are 68855 rows and 8 columns**"
      ]
    },
    {
      "cell_type": "markdown",
      "metadata": {
        "id": "wwrT2qkxiDGp"
      },
      "source": [
        "**Identifying the data types of all the columns in the dataframe**"
      ]
    },
    {
      "cell_type": "code",
      "metadata": {
        "id": "xVMCHA0pW-T6",
        "outputId": "a5525a1d-eb74-4044-db49-527ed0f09b1a",
        "colab": {
          "base_uri": "https://localhost:8080/",
          "height": 170
        }
      },
      "source": [
        "df.dtypes"
      ],
      "execution_count": 127,
      "outputs": [
        {
          "output_type": "execute_result",
          "data": {
            "text/plain": [
              "Date_reported         object\n",
              " Country_code         object\n",
              " Country              object\n",
              " WHO_region           object\n",
              " New_cases             int64\n",
              " Cumulative_cases      int64\n",
              " New_deaths            int64\n",
              " Cumulative_deaths     int64\n",
              "dtype: object"
            ]
          },
          "metadata": {
            "tags": []
          },
          "execution_count": 127
        }
      ]
    },
    {
      "cell_type": "markdown",
      "metadata": {
        "id": "_pVRmLNviIar"
      },
      "source": [
        "**Using head function, identifying the first 5 rows of the data frame**"
      ]
    },
    {
      "cell_type": "code",
      "metadata": {
        "id": "lhB2mld1XGUp",
        "outputId": "832a27d8-4674-4b6b-b704-e8db281fa95f",
        "colab": {
          "base_uri": "https://localhost:8080/",
          "height": 204
        }
      },
      "source": [
        "df.head(5) "
      ],
      "execution_count": 128,
      "outputs": [
        {
          "output_type": "execute_result",
          "data": {
            "text/html": [
              "<div>\n",
              "<style scoped>\n",
              "    .dataframe tbody tr th:only-of-type {\n",
              "        vertical-align: middle;\n",
              "    }\n",
              "\n",
              "    .dataframe tbody tr th {\n",
              "        vertical-align: top;\n",
              "    }\n",
              "\n",
              "    .dataframe thead th {\n",
              "        text-align: right;\n",
              "    }\n",
              "</style>\n",
              "<table border=\"1\" class=\"dataframe\">\n",
              "  <thead>\n",
              "    <tr style=\"text-align: right;\">\n",
              "      <th></th>\n",
              "      <th>Date_reported</th>\n",
              "      <th>Country_code</th>\n",
              "      <th>Country</th>\n",
              "      <th>WHO_region</th>\n",
              "      <th>New_cases</th>\n",
              "      <th>Cumulative_cases</th>\n",
              "      <th>New_deaths</th>\n",
              "      <th>Cumulative_deaths</th>\n",
              "    </tr>\n",
              "  </thead>\n",
              "  <tbody>\n",
              "    <tr>\n",
              "      <th>0</th>\n",
              "      <td>2020-01-03</td>\n",
              "      <td>AF</td>\n",
              "      <td>Afghanistan</td>\n",
              "      <td>EMRO</td>\n",
              "      <td>0</td>\n",
              "      <td>0</td>\n",
              "      <td>0</td>\n",
              "      <td>0</td>\n",
              "    </tr>\n",
              "    <tr>\n",
              "      <th>1</th>\n",
              "      <td>2020-01-04</td>\n",
              "      <td>AF</td>\n",
              "      <td>Afghanistan</td>\n",
              "      <td>EMRO</td>\n",
              "      <td>0</td>\n",
              "      <td>0</td>\n",
              "      <td>0</td>\n",
              "      <td>0</td>\n",
              "    </tr>\n",
              "    <tr>\n",
              "      <th>2</th>\n",
              "      <td>2020-01-05</td>\n",
              "      <td>AF</td>\n",
              "      <td>Afghanistan</td>\n",
              "      <td>EMRO</td>\n",
              "      <td>0</td>\n",
              "      <td>0</td>\n",
              "      <td>0</td>\n",
              "      <td>0</td>\n",
              "    </tr>\n",
              "    <tr>\n",
              "      <th>3</th>\n",
              "      <td>2020-01-06</td>\n",
              "      <td>AF</td>\n",
              "      <td>Afghanistan</td>\n",
              "      <td>EMRO</td>\n",
              "      <td>0</td>\n",
              "      <td>0</td>\n",
              "      <td>0</td>\n",
              "      <td>0</td>\n",
              "    </tr>\n",
              "    <tr>\n",
              "      <th>4</th>\n",
              "      <td>2020-01-07</td>\n",
              "      <td>AF</td>\n",
              "      <td>Afghanistan</td>\n",
              "      <td>EMRO</td>\n",
              "      <td>0</td>\n",
              "      <td>0</td>\n",
              "      <td>0</td>\n",
              "      <td>0</td>\n",
              "    </tr>\n",
              "  </tbody>\n",
              "</table>\n",
              "</div>"
            ],
            "text/plain": [
              "  Date_reported  Country_code  ...  New_deaths  Cumulative_deaths\n",
              "0    2020-01-03            AF  ...           0                  0\n",
              "1    2020-01-04            AF  ...           0                  0\n",
              "2    2020-01-05            AF  ...           0                  0\n",
              "3    2020-01-06            AF  ...           0                  0\n",
              "4    2020-01-07            AF  ...           0                  0\n",
              "\n",
              "[5 rows x 8 columns]"
            ]
          },
          "metadata": {
            "tags": []
          },
          "execution_count": 128
        }
      ]
    },
    {
      "cell_type": "markdown",
      "metadata": {
        "id": "LOQfv3Sd22hk"
      },
      "source": [
        "**Using head function, identifying the last 5 rows of the data frame**"
      ]
    },
    {
      "cell_type": "code",
      "metadata": {
        "id": "56ByPwrlc6l_",
        "outputId": "5f90030d-67c3-412f-eb1a-3f13d763f7bc",
        "colab": {
          "base_uri": "https://localhost:8080/",
          "height": 204
        }
      },
      "source": [
        "df.tail(5)"
      ],
      "execution_count": 129,
      "outputs": [
        {
          "output_type": "execute_result",
          "data": {
            "text/html": [
              "<div>\n",
              "<style scoped>\n",
              "    .dataframe tbody tr th:only-of-type {\n",
              "        vertical-align: middle;\n",
              "    }\n",
              "\n",
              "    .dataframe tbody tr th {\n",
              "        vertical-align: top;\n",
              "    }\n",
              "\n",
              "    .dataframe thead th {\n",
              "        text-align: right;\n",
              "    }\n",
              "</style>\n",
              "<table border=\"1\" class=\"dataframe\">\n",
              "  <thead>\n",
              "    <tr style=\"text-align: right;\">\n",
              "      <th></th>\n",
              "      <th>Date_reported</th>\n",
              "      <th>Country_code</th>\n",
              "      <th>Country</th>\n",
              "      <th>WHO_region</th>\n",
              "      <th>New_cases</th>\n",
              "      <th>Cumulative_cases</th>\n",
              "      <th>New_deaths</th>\n",
              "      <th>Cumulative_deaths</th>\n",
              "    </tr>\n",
              "  </thead>\n",
              "  <tbody>\n",
              "    <tr>\n",
              "      <th>70025</th>\n",
              "      <td>2020-10-22</td>\n",
              "      <td>ZW</td>\n",
              "      <td>Zimbabwe</td>\n",
              "      <td>AFRO</td>\n",
              "      <td>28</td>\n",
              "      <td>8215</td>\n",
              "      <td>3</td>\n",
              "      <td>236</td>\n",
              "    </tr>\n",
              "    <tr>\n",
              "      <th>70026</th>\n",
              "      <td>2020-10-23</td>\n",
              "      <td>ZW</td>\n",
              "      <td>Zimbabwe</td>\n",
              "      <td>AFRO</td>\n",
              "      <td>27</td>\n",
              "      <td>8242</td>\n",
              "      <td>0</td>\n",
              "      <td>236</td>\n",
              "    </tr>\n",
              "    <tr>\n",
              "      <th>70027</th>\n",
              "      <td>2020-10-24</td>\n",
              "      <td>ZW</td>\n",
              "      <td>Zimbabwe</td>\n",
              "      <td>AFRO</td>\n",
              "      <td>15</td>\n",
              "      <td>8257</td>\n",
              "      <td>0</td>\n",
              "      <td>236</td>\n",
              "    </tr>\n",
              "    <tr>\n",
              "      <th>70028</th>\n",
              "      <td>2020-10-25</td>\n",
              "      <td>ZW</td>\n",
              "      <td>Zimbabwe</td>\n",
              "      <td>AFRO</td>\n",
              "      <td>12</td>\n",
              "      <td>8269</td>\n",
              "      <td>0</td>\n",
              "      <td>236</td>\n",
              "    </tr>\n",
              "    <tr>\n",
              "      <th>70029</th>\n",
              "      <td>2020-10-26</td>\n",
              "      <td>ZW</td>\n",
              "      <td>Zimbabwe</td>\n",
              "      <td>AFRO</td>\n",
              "      <td>7</td>\n",
              "      <td>8276</td>\n",
              "      <td>1</td>\n",
              "      <td>237</td>\n",
              "    </tr>\n",
              "  </tbody>\n",
              "</table>\n",
              "</div>"
            ],
            "text/plain": [
              "      Date_reported  Country_code  ...  New_deaths  Cumulative_deaths\n",
              "70025    2020-10-22            ZW  ...           3                236\n",
              "70026    2020-10-23            ZW  ...           0                236\n",
              "70027    2020-10-24            ZW  ...           0                236\n",
              "70028    2020-10-25            ZW  ...           0                236\n",
              "70029    2020-10-26            ZW  ...           1                237\n",
              "\n",
              "[5 rows x 8 columns]"
            ]
          },
          "metadata": {
            "tags": []
          },
          "execution_count": 129
        }
      ]
    },
    {
      "cell_type": "markdown",
      "metadata": {
        "id": "gN4uzlLu26FQ"
      },
      "source": [
        "**Using sample and specifying n = 5 ,Looking at a random sample of 5**"
      ]
    },
    {
      "cell_type": "code",
      "metadata": {
        "id": "fjzfsU-Eew6U",
        "outputId": "02c8685e-7312-41fe-854c-3dde8fb9aa08",
        "colab": {
          "base_uri": "https://localhost:8080/",
          "height": 238
        }
      },
      "source": [
        "df.sample(n=5, random_state=0)"
      ],
      "execution_count": 130,
      "outputs": [
        {
          "output_type": "execute_result",
          "data": {
            "text/html": [
              "<div>\n",
              "<style scoped>\n",
              "    .dataframe tbody tr th:only-of-type {\n",
              "        vertical-align: middle;\n",
              "    }\n",
              "\n",
              "    .dataframe tbody tr th {\n",
              "        vertical-align: top;\n",
              "    }\n",
              "\n",
              "    .dataframe thead th {\n",
              "        text-align: right;\n",
              "    }\n",
              "</style>\n",
              "<table border=\"1\" class=\"dataframe\">\n",
              "  <thead>\n",
              "    <tr style=\"text-align: right;\">\n",
              "      <th></th>\n",
              "      <th>Date_reported</th>\n",
              "      <th>Country_code</th>\n",
              "      <th>Country</th>\n",
              "      <th>WHO_region</th>\n",
              "      <th>New_cases</th>\n",
              "      <th>Cumulative_cases</th>\n",
              "      <th>New_deaths</th>\n",
              "      <th>Cumulative_deaths</th>\n",
              "    </tr>\n",
              "  </thead>\n",
              "  <tbody>\n",
              "    <tr>\n",
              "      <th>21825</th>\n",
              "      <td>2020-03-14</td>\n",
              "      <td>GF</td>\n",
              "      <td>French Guiana</td>\n",
              "      <td>AMRO</td>\n",
              "      <td>1</td>\n",
              "      <td>7</td>\n",
              "      <td>0</td>\n",
              "      <td>0</td>\n",
              "    </tr>\n",
              "    <tr>\n",
              "      <th>55064</th>\n",
              "      <td>2020-08-22</td>\n",
              "      <td>WS</td>\n",
              "      <td>Samoa</td>\n",
              "      <td>WPRO</td>\n",
              "      <td>0</td>\n",
              "      <td>0</td>\n",
              "      <td>0</td>\n",
              "      <td>0</td>\n",
              "    </tr>\n",
              "    <tr>\n",
              "      <th>35544</th>\n",
              "      <td>2020-03-25</td>\n",
              "      <td>LY</td>\n",
              "      <td>Libya</td>\n",
              "      <td>EMRO</td>\n",
              "      <td>1</td>\n",
              "      <td>1</td>\n",
              "      <td>0</td>\n",
              "      <td>0</td>\n",
              "    </tr>\n",
              "    <tr>\n",
              "      <th>7768</th>\n",
              "      <td>2020-01-23</td>\n",
              "      <td>BA</td>\n",
              "      <td>Bosnia and Herzegovina</td>\n",
              "      <td>EURO</td>\n",
              "      <td>0</td>\n",
              "      <td>0</td>\n",
              "      <td>0</td>\n",
              "      <td>0</td>\n",
              "    </tr>\n",
              "    <tr>\n",
              "      <th>48370</th>\n",
              "      <td>2020-04-06</td>\n",
              "      <td>PG</td>\n",
              "      <td>Papua New Guinea</td>\n",
              "      <td>WPRO</td>\n",
              "      <td>0</td>\n",
              "      <td>1</td>\n",
              "      <td>0</td>\n",
              "      <td>0</td>\n",
              "    </tr>\n",
              "  </tbody>\n",
              "</table>\n",
              "</div>"
            ],
            "text/plain": [
              "      Date_reported  Country_code  ...  New_deaths  Cumulative_deaths\n",
              "21825    2020-03-14            GF  ...           0                  0\n",
              "55064    2020-08-22            WS  ...           0                  0\n",
              "35544    2020-03-25            LY  ...           0                  0\n",
              "7768     2020-01-23            BA  ...           0                  0\n",
              "48370    2020-04-06            PG  ...           0                  0\n",
              "\n",
              "[5 rows x 8 columns]"
            ]
          },
          "metadata": {
            "tags": []
          },
          "execution_count": 130
        }
      ]
    },
    {
      "cell_type": "code",
      "metadata": {
        "id": "L2Err8iwA5ep",
        "outputId": "b656ae35-a642-40a7-c8f8-21ea5a8077ac",
        "colab": {
          "base_uri": "https://localhost:8080/",
          "height": 272
        }
      },
      "source": [
        "df.info()"
      ],
      "execution_count": 131,
      "outputs": [
        {
          "output_type": "stream",
          "text": [
            "<class 'pandas.core.frame.DataFrame'>\n",
            "RangeIndex: 70030 entries, 0 to 70029\n",
            "Data columns (total 8 columns):\n",
            " #   Column              Non-Null Count  Dtype \n",
            "---  ------              --------------  ----- \n",
            " 0   Date_reported       70030 non-null  object\n",
            " 1    Country_code       69732 non-null  object\n",
            " 2    Country            70030 non-null  object\n",
            " 3    WHO_region         70030 non-null  object\n",
            " 4    New_cases          70030 non-null  int64 \n",
            " 5    Cumulative_cases   70030 non-null  int64 \n",
            " 6    New_deaths         70030 non-null  int64 \n",
            " 7    Cumulative_deaths  70030 non-null  int64 \n",
            "dtypes: int64(4), object(4)\n",
            "memory usage: 4.3+ MB\n"
          ],
          "name": "stdout"
        }
      ]
    },
    {
      "cell_type": "markdown",
      "metadata": {
        "id": "_Fzxc4X9BTdI"
      },
      "source": [
        "**Using describe function**\n",
        "\n",
        "**The describe() method returns the general stats of the numeric columns in the dataframe.This function returns the count, mean, standard deviation, minimum and maximum values and the quantiles of the data**"
      ]
    },
    {
      "cell_type": "code",
      "metadata": {
        "id": "tAuKcYoCBNv3",
        "outputId": "e1ce2c62-8c63-4344-82f0-8699ea494f0d",
        "colab": {
          "base_uri": "https://localhost:8080/",
          "height": 297
        }
      },
      "source": [
        "df.describe()"
      ],
      "execution_count": 132,
      "outputs": [
        {
          "output_type": "execute_result",
          "data": {
            "text/html": [
              "<div>\n",
              "<style scoped>\n",
              "    .dataframe tbody tr th:only-of-type {\n",
              "        vertical-align: middle;\n",
              "    }\n",
              "\n",
              "    .dataframe tbody tr th {\n",
              "        vertical-align: top;\n",
              "    }\n",
              "\n",
              "    .dataframe thead th {\n",
              "        text-align: right;\n",
              "    }\n",
              "</style>\n",
              "<table border=\"1\" class=\"dataframe\">\n",
              "  <thead>\n",
              "    <tr style=\"text-align: right;\">\n",
              "      <th></th>\n",
              "      <th>New_cases</th>\n",
              "      <th>Cumulative_cases</th>\n",
              "      <th>New_deaths</th>\n",
              "      <th>Cumulative_deaths</th>\n",
              "    </tr>\n",
              "  </thead>\n",
              "  <tbody>\n",
              "    <tr>\n",
              "      <th>count</th>\n",
              "      <td>70030.000000</td>\n",
              "      <td>7.003000e+04</td>\n",
              "      <td>70030.000000</td>\n",
              "      <td>70030.000000</td>\n",
              "    </tr>\n",
              "    <tr>\n",
              "      <th>mean</th>\n",
              "      <td>613.541968</td>\n",
              "      <td>4.853669e+04</td>\n",
              "      <td>16.458718</td>\n",
              "      <td>1776.001157</td>\n",
              "    </tr>\n",
              "    <tr>\n",
              "      <th>std</th>\n",
              "      <td>4125.177235</td>\n",
              "      <td>3.543839e+05</td>\n",
              "      <td>108.368638</td>\n",
              "      <td>10862.687168</td>\n",
              "    </tr>\n",
              "    <tr>\n",
              "      <th>min</th>\n",
              "      <td>-8261.000000</td>\n",
              "      <td>0.000000e+00</td>\n",
              "      <td>-514.000000</td>\n",
              "      <td>0.000000</td>\n",
              "    </tr>\n",
              "    <tr>\n",
              "      <th>25%</th>\n",
              "      <td>0.000000</td>\n",
              "      <td>0.000000e+00</td>\n",
              "      <td>0.000000</td>\n",
              "      <td>0.000000</td>\n",
              "    </tr>\n",
              "    <tr>\n",
              "      <th>50%</th>\n",
              "      <td>0.000000</td>\n",
              "      <td>2.520000e+02</td>\n",
              "      <td>0.000000</td>\n",
              "      <td>4.000000</td>\n",
              "    </tr>\n",
              "    <tr>\n",
              "      <th>75%</th>\n",
              "      <td>75.000000</td>\n",
              "      <td>5.900000e+03</td>\n",
              "      <td>1.000000</td>\n",
              "      <td>111.000000</td>\n",
              "    </tr>\n",
              "    <tr>\n",
              "      <th>max</th>\n",
              "      <td>97894.000000</td>\n",
              "      <td>8.485747e+06</td>\n",
              "      <td>6409.000000</td>\n",
              "      <td>223328.000000</td>\n",
              "    </tr>\n",
              "  </tbody>\n",
              "</table>\n",
              "</div>"
            ],
            "text/plain": [
              "          New_cases   Cumulative_cases    New_deaths   Cumulative_deaths\n",
              "count  70030.000000       7.003000e+04  70030.000000        70030.000000\n",
              "mean     613.541968       4.853669e+04     16.458718         1776.001157\n",
              "std     4125.177235       3.543839e+05    108.368638        10862.687168\n",
              "min    -8261.000000       0.000000e+00   -514.000000            0.000000\n",
              "25%        0.000000       0.000000e+00      0.000000            0.000000\n",
              "50%        0.000000       2.520000e+02      0.000000            4.000000\n",
              "75%       75.000000       5.900000e+03      1.000000          111.000000\n",
              "max    97894.000000       8.485747e+06   6409.000000       223328.000000"
            ]
          },
          "metadata": {
            "tags": []
          },
          "execution_count": 132
        }
      ]
    },
    {
      "cell_type": "code",
      "metadata": {
        "id": "G-lLojR8Hvo2"
      },
      "source": [
        "df.columns = df.columns.str.strip()"
      ],
      "execution_count": 133,
      "outputs": []
    },
    {
      "cell_type": "markdown",
      "metadata": {
        "id": "VwPeD0eMIwWU"
      },
      "source": [
        "**The duplicated() method returns a boolean series which is then used as a mask on the original dataframe. The output shows that no two records have the same country, state and date. So we can conclude that all observations in the dataset are unique.**"
      ]
    },
    {
      "cell_type": "code",
      "metadata": {
        "id": "kHTPV5ZoIMqH",
        "outputId": "b8d05f62-0aed-4d5f-fd56-5df6e99db31c",
        "colab": {
          "base_uri": "https://localhost:8080/",
          "height": 49
        }
      },
      "source": [
        "#checking for duplicate rows\n",
        "duplicate_rows=df.duplicated(['Country','Country_code','Date_reported'])\n",
        "df[duplicate_rows]"
      ],
      "execution_count": 134,
      "outputs": [
        {
          "output_type": "execute_result",
          "data": {
            "text/html": [
              "<div>\n",
              "<style scoped>\n",
              "    .dataframe tbody tr th:only-of-type {\n",
              "        vertical-align: middle;\n",
              "    }\n",
              "\n",
              "    .dataframe tbody tr th {\n",
              "        vertical-align: top;\n",
              "    }\n",
              "\n",
              "    .dataframe thead th {\n",
              "        text-align: right;\n",
              "    }\n",
              "</style>\n",
              "<table border=\"1\" class=\"dataframe\">\n",
              "  <thead>\n",
              "    <tr style=\"text-align: right;\">\n",
              "      <th></th>\n",
              "      <th>Date_reported</th>\n",
              "      <th>Country_code</th>\n",
              "      <th>Country</th>\n",
              "      <th>WHO_region</th>\n",
              "      <th>New_cases</th>\n",
              "      <th>Cumulative_cases</th>\n",
              "      <th>New_deaths</th>\n",
              "      <th>Cumulative_deaths</th>\n",
              "    </tr>\n",
              "  </thead>\n",
              "  <tbody>\n",
              "  </tbody>\n",
              "</table>\n",
              "</div>"
            ],
            "text/plain": [
              "Empty DataFrame\n",
              "Columns: [Date_reported, Country_code, Country, WHO_region, New_cases, Cumulative_cases, New_deaths, Cumulative_deaths]\n",
              "Index: []"
            ]
          },
          "metadata": {
            "tags": []
          },
          "execution_count": 134
        }
      ]
    },
    {
      "cell_type": "markdown",
      "metadata": {
        "id": "zUxhbkzWtQFz"
      },
      "source": [
        "**There are no duplicate rows in this dataset.**"
      ]
    },
    {
      "cell_type": "markdown",
      "metadata": {
        "id": "aIgKXF5ltiCC"
      },
      "source": [
        "**The unique() method returns a unique values on the original dataframe. The output shows that the list of unique values in the dataset.**"
      ]
    },
    {
      "cell_type": "code",
      "metadata": {
        "id": "FSpmsldvGQDa",
        "outputId": "65c9a26d-dcf2-4505-801a-6912ed51c4b3",
        "colab": {
          "base_uri": "https://localhost:8080/",
          "height": 71
        }
      },
      "source": [
        "#listing all the countries where the virus has spread to\n",
        "country_list=list(df['Country'].unique())\n",
        "print(country_list)\n",
        "print(len(country_list))"
      ],
      "execution_count": 135,
      "outputs": [
        {
          "output_type": "stream",
          "text": [
            "['Afghanistan', 'Albania', 'Algeria', 'American Samoa', 'Andorra', 'Angola', 'Anguilla', 'Antigua and Barbuda', 'Argentina', 'Armenia', 'Aruba', 'Australia', 'Austria', 'Azerbaijan', 'Bahamas', 'Bahrain', 'Bangladesh', 'Barbados', 'Belarus', 'Belgium', 'Belize', 'Benin', 'Bermuda', 'Bhutan', 'Bolivia (Plurinational State of)', 'Bonaire, Sint Eustatius and Saba', 'Bosnia and Herzegovina', 'Botswana', 'Brazil', 'British Virgin Islands', 'Brunei Darussalam', 'Bulgaria', 'Burkina Faso', 'Burundi', 'Cabo Verde', 'Cambodia', 'Cameroon', 'Canada', 'Cayman Islands', 'Central African Republic', 'Chad', 'Chile', 'China', 'Colombia', 'Comoros', 'Congo', 'Cook Islands', 'Costa Rica', 'Côte d’Ivoire', 'Croatia', 'Cuba', 'Curaçao', 'Cyprus', 'Czechia', \"Democratic People's Republic of Korea\", 'Democratic Republic of the Congo', 'Denmark', 'Djibouti', 'Dominica', 'Dominican Republic', 'Ecuador', 'Egypt', 'El Salvador', 'Equatorial Guinea', 'Eritrea', 'Estonia', 'Eswatini', 'Ethiopia', 'Falkland Islands (Malvinas)', 'Faroe Islands', 'Fiji', 'Finland', 'France', 'French Guiana', 'French Polynesia', 'Gabon', 'Gambia', 'Georgia', 'Germany', 'Ghana', 'Gibraltar', 'Greece', 'Greenland', 'Grenada', 'Guadeloupe', 'Guam', 'Guatemala', 'Guernsey', 'Guinea', 'Guinea-Bissau', 'Guyana', 'Haiti', 'Holy See', 'Honduras', 'Hungary', 'Iceland', 'India', 'Indonesia', 'Iran (Islamic Republic of)', 'Iraq', 'Ireland', 'Isle of Man', 'Israel', 'Italy', 'Jamaica', 'Japan', 'Jersey', 'Jordan', 'Kazakhstan', 'Kenya', 'Kiribati', 'Kosovo[1]', 'Kuwait', 'Kyrgyzstan', \"Lao People's Democratic Republic\", 'Latvia', 'Lebanon', 'Lesotho', 'Liberia', 'Libya', 'Liechtenstein', 'Lithuania', 'Luxembourg', 'Madagascar', 'Malawi', 'Malaysia', 'Maldives', 'Mali', 'Malta', 'Marshall Islands', 'Martinique', 'Mauritania', 'Mauritius', 'Mayotte', 'Mexico', 'Micronesia (Federated States of)', 'Monaco', 'Mongolia', 'Montenegro', 'Montserrat', 'Morocco', 'Mozambique', 'Myanmar', 'Namibia', 'Nauru', 'Nepal', 'Netherlands', 'New Caledonia', 'New Zealand', 'Nicaragua', 'Niger', 'Nigeria', 'Niue', 'North Macedonia', 'Northern Mariana Islands (Commonwealth of the)', 'Norway', 'occupied Palestinian territory, including east Jerusalem', 'Oman', 'Other', 'Pakistan', 'Palau', 'Panama', 'Papua New Guinea', 'Paraguay', 'Peru', 'Philippines', 'Pitcairn Islands', 'Poland', 'Portugal', 'Puerto Rico', 'Qatar', 'Republic of Korea', 'Republic of Moldova', 'Réunion', 'Romania', 'Russian Federation', 'Rwanda', 'Saint Barthélemy', 'Saint Helena', 'Saint Kitts and Nevis', 'Saint Lucia', 'Saint Martin', 'Saint Pierre and Miquelon', 'Saint Vincent and the Grenadines', 'Samoa', 'San Marino', 'Sao Tome and Principe', 'Saudi Arabia', 'Senegal', 'Serbia', 'Seychelles', 'Sierra Leone', 'Singapore', 'Sint Maarten', 'Slovakia', 'Slovenia', 'Solomon Islands', 'Somalia', 'South Africa', 'South Sudan', 'Spain', 'Sri Lanka', 'Sudan', 'Suriname', 'Sweden', 'Switzerland', 'Syrian Arab Republic', 'Tajikistan', 'Thailand', 'The United Kingdom', 'Timor-Leste', 'Togo', 'Tokelau', 'Tonga', 'Trinidad and Tobago', 'Tunisia', 'Turkey', 'Turkmenistan', 'Turks and Caicos Islands', 'Tuvalu', 'Uganda', 'Ukraine', 'United Arab Emirates', 'United Republic of Tanzania', 'United States of America', 'United States Virgin Islands', 'Uruguay', 'Uzbekistan', 'Vanuatu', 'Venezuela (Bolivarian Republic of)', 'Viet Nam', 'Wallis and Futuna', 'Yemen', 'Zambia', 'Zimbabwe']\n",
            "235\n"
          ],
          "name": "stdout"
        }
      ]
    },
    {
      "cell_type": "markdown",
      "metadata": {
        "id": "itVHGG20t0cp"
      },
      "source": [
        "**There are 235 countries which have covid cases.**"
      ]
    },
    {
      "cell_type": "markdown",
      "metadata": {
        "id": "-94Zq2AkuKFB"
      },
      "source": [
        "**Changing date in date format and creating a column with month and year.**"
      ]
    },
    {
      "cell_type": "code",
      "metadata": {
        "id": "OmSLZ1SBDEVs"
      },
      "source": [
        "df['Date_reported'] = pd.to_datetime(df['Date_reported'])\n",
        "df['year_month'] = df['Date_reported'].dt.strftime('%b-%Y')"
      ],
      "execution_count": 137,
      "outputs": []
    },
    {
      "cell_type": "markdown",
      "metadata": {
        "id": "JemRA6B1uYik"
      },
      "source": [
        "**Country which has highest cases in the country using idmax**"
      ]
    },
    {
      "cell_type": "code",
      "metadata": {
        "id": "29KLW8h8U3iU",
        "outputId": "2458ca91-a14a-4758-8496-9e1f524ab466",
        "colab": {
          "base_uri": "https://localhost:8080/",
          "height": 187
        }
      },
      "source": [
        "df.iloc[df['Cumulative_cases'].idxmax()]"
      ],
      "execution_count": 138,
      "outputs": [
        {
          "output_type": "execute_result",
          "data": {
            "text/plain": [
              "Date_reported             2020-10-26 00:00:00\n",
              "Country_code                               US\n",
              "Country              United States of America\n",
              "WHO_region                               AMRO\n",
              "New_cases                               82626\n",
              "Cumulative_cases                      8485747\n",
              "New_deaths                                821\n",
              "Cumulative_deaths                      223328\n",
              "year_month                           Oct-2020\n",
              "Name: 67049, dtype: object"
            ]
          },
          "metadata": {
            "tags": []
          },
          "execution_count": 138
        }
      ]
    },
    {
      "cell_type": "markdown",
      "metadata": {
        "id": "WZaRN-Gguo_4"
      },
      "source": [
        "**Creating a bar displaying the number of cases with specific to months.**"
      ]
    },
    {
      "cell_type": "code",
      "metadata": {
        "id": "NyHfV6uoVkfC",
        "outputId": "9100c2be-1657-4e4f-b862-558277674a1f",
        "colab": {
          "base_uri": "https://localhost:8080/",
          "height": 329
        }
      },
      "source": [
        "#sns.axes_style(\"whitegrid\")\n",
        "sns.barplot(\n",
        "x=\"year_month\", \n",
        "y=\"Cumulative_cases\", data=df.groupby(['year_month']).sum().reset_index(drop=None).sort_values('Cumulative_cases'),palette = 'rocket_r')\n",
        "plt.xticks(rotation=60)\n",
        "plt.ylabel('Number of confirmed cases',fontsize=15)\n",
        "plt.xlabel('Dates',fontsize=15)\n",
        "plt.ticklabel_format(style='plain', axis='y')\n"
      ],
      "execution_count": 139,
      "outputs": [
        {
          "output_type": "display_data",
          "data": {
            "image/png": "[encoded data removed]",
            "text/plain": [
              "<Figure size 432x288 with 1 Axes>"
            ]
          },
          "metadata": {
            "tags": []
          }
        }
      ]
    },
    {
      "cell_type": "markdown",
      "metadata": {
        "id": "XSfbhLhUu8wn"
      },
      "source": [
        "**Creating a bar displaying the number of Death cases with specific to months.**"
      ]
    },
    {
      "cell_type": "code",
      "metadata": {
        "id": "-Afw8ntnVK8g",
        "outputId": "312f5567-8fc4-4b5c-cb60-2a82e3d527ee",
        "colab": {
          "base_uri": "https://localhost:8080/",
          "height": 329
        }
      },
      "source": [
        "#sns.axes_style(\"whitegrid\")\n",
        "sns.barplot(\n",
        "x=\"year_month\", \n",
        "y=\"Cumulative_deaths\", data=df.groupby(['year_month']).sum().reset_index(drop=None).sort_values('Cumulative_deaths'),palette = 'crest')\n",
        "plt.xticks(rotation=60)\n",
        "plt.ylabel('Number of Death cases',fontsize=15)\n",
        "plt.xlabel('Dates',fontsize=15)\n",
        "plt.ticklabel_format(style='plain', axis='y')\n"
      ],
      "execution_count": 140,
      "outputs": [
        {
          "output_type": "display_data",
          "data": {
            "image/png": "[encoded data removed]",
            "text/plain": [
              "<Figure size 432x288 with 1 Axes>"
            ]
          },
          "metadata": {
            "tags": []
          }
        }
      ]
    },
    {
      "cell_type": "markdown",
      "metadata": {
        "id": "JwsbnT3cvF7L"
      },
      "source": [
        "**Displaying the top 5 countries which have covid cases.**"
      ]
    },
    {
      "cell_type": "code",
      "metadata": {
        "id": "-aD-RyhOVYEC"
      },
      "source": [
        "data = df.groupby('Country')['Cumulative_cases'].sum().sort_values(ascending=False)[:5]"
      ],
      "execution_count": 141,
      "outputs": []
    },
    {
      "cell_type": "code",
      "metadata": {
        "id": "PyYxj6B4bpFe",
        "outputId": "1b8db315-011a-461d-dab6-44efba2af7bd",
        "colab": {
          "base_uri": "https://localhost:8080/",
          "height": 361
        }
      },
      "source": [
        "#plot the bar graph with different color to identify the highest number of dialysis centres\n",
        "plt.figure(figsize=(10,5))\n",
        "for i,v in data.iteritems():\n",
        "    if i == 'United States of America':\n",
        "        _=plt.bar(i,v,color='red')\n",
        "    else:\n",
        "        _=plt.bar(i,v,color='orange')\n",
        "\n",
        "#Setting the titles, x and y labels        \n",
        "_=plt.xlabel('Country',fontsize=15)\n",
        "_=plt.ylabel('Number of Cases',fontsize=15)\n",
        "_=plt.title('Highest number of covid cases in world',fontsize=18)\n",
        "_=plt.xticks(rotation=0)\n",
        "_=plt.ticklabel_format(style='plain', axis='y')\n",
        "plt.show()"
      ],
      "execution_count": 142,
      "outputs": [
        {
          "output_type": "display_data",
          "data": {
            "image/png": "[encoded data removed]",
            "text/plain": [
              "<Figure size 720x360 with 1 Axes>"
            ]
          },
          "metadata": {
            "tags": []
          }
        }
      ]
    },
    {
      "cell_type": "markdown",
      "metadata": {
        "id": "fJ5SpFIYvQZB"
      },
      "source": [
        "**United States of America has highest number of cases in the world.**"
      ]
    },
    {
      "cell_type": "markdown",
      "metadata": {
        "id": "Zn-5lc8Evev9"
      },
      "source": [
        "**Specifying the Mortality Rate.**"
      ]
    },
    {
      "cell_type": "code",
      "metadata": {
        "id": "3ezP4fGpYCHM"
      },
      "source": [
        "df['mrate'] = df['Cumulative_deaths']*100/df['Cumulative_cases']"
      ],
      "execution_count": 143,
      "outputs": []
    },
    {
      "cell_type": "code",
      "metadata": {
        "id": "FbiwGC-vSczq",
        "outputId": "2ed3f2c4-384c-4ec5-f9d4-7050061cd9ef",
        "colab": {
          "base_uri": "https://localhost:8080/",
          "height": 327
        }
      },
      "source": [
        "sns.lineplot(x = \"year_month\", y = \"mrate\", data=df,color = 'red')\n",
        "plt.xticks(rotation=60)\n",
        "plt.show()"
      ],
      "execution_count": 144,
      "outputs": [
        {
          "output_type": "display_data",
          "data": {
            "image/png": "[encoded data removed]",
            "text/plain": [
              "<Figure size 432x288 with 1 Axes>"
            ]
          },
          "metadata": {
            "tags": []
          }
        }
      ]
    },
    {
      "cell_type": "markdown",
      "metadata": {
        "id": "X5ZQ6DazvkbE"
      },
      "source": [
        "**The mortality rate went above 3.5 in the month of April, May and June. Present, the rate is decreasing.**"
      ]
    },
    {
      "cell_type": "markdown",
      "metadata": {
        "id": "cgCclfABv153"
      },
      "source": [
        "**Calculating the Percentage Increase in Covid cases.**"
      ]
    },
    {
      "cell_type": "code",
      "metadata": {
        "id": "z_Cmu9KidPOo",
        "outputId": "67fddc92-2b58-4f8c-fcc0-1d739080ed9d",
        "colab": {
          "base_uri": "https://localhost:8080/",
          "height": 359
        }
      },
      "source": [
        "data=df.groupby(['year_month']).sum().reset_index(drop=None).sort_values('year_month')\n",
        "data"
      ],
      "execution_count": 145,
      "outputs": [
        {
          "output_type": "execute_result",
          "data": {
            "text/html": [
              "<div>\n",
              "<style scoped>\n",
              "    .dataframe tbody tr th:only-of-type {\n",
              "        vertical-align: middle;\n",
              "    }\n",
              "\n",
              "    .dataframe tbody tr th {\n",
              "        vertical-align: top;\n",
              "    }\n",
              "\n",
              "    .dataframe thead th {\n",
              "        text-align: right;\n",
              "    }\n",
              "</style>\n",
              "<table border=\"1\" class=\"dataframe\">\n",
              "  <thead>\n",
              "    <tr style=\"text-align: right;\">\n",
              "      <th></th>\n",
              "      <th>year_month</th>\n",
              "      <th>New_cases</th>\n",
              "      <th>Cumulative_cases</th>\n",
              "      <th>New_deaths</th>\n",
              "      <th>Cumulative_deaths</th>\n",
              "      <th>mrate</th>\n",
              "    </tr>\n",
              "  </thead>\n",
              "  <tbody>\n",
              "    <tr>\n",
              "      <th>0</th>\n",
              "      <td>Apr-2020</td>\n",
              "      <td>2336737</td>\n",
              "      <td>59254097</td>\n",
              "      <td>183788</td>\n",
              "      <td>4063819</td>\n",
              "      <td>23509.261743</td>\n",
              "    </tr>\n",
              "    <tr>\n",
              "      <th>1</th>\n",
              "      <td>Aug-2020</td>\n",
              "      <td>8045496</td>\n",
              "      <td>658873264</td>\n",
              "      <td>181174</td>\n",
              "      <td>23503114</td>\n",
              "      <td>18831.458801</td>\n",
              "    </tr>\n",
              "    <tr>\n",
              "      <th>2</th>\n",
              "      <td>Feb-2020</td>\n",
              "      <td>75897</td>\n",
              "      <td>1636370</td>\n",
              "      <td>2722</td>\n",
              "      <td>45160</td>\n",
              "      <td>1634.947822</td>\n",
              "    </tr>\n",
              "    <tr>\n",
              "      <th>3</th>\n",
              "      <td>Jan-2020</td>\n",
              "      <td>9906</td>\n",
              "      <td>37907</td>\n",
              "      <td>213</td>\n",
              "      <td>872</td>\n",
              "      <td>52.577470</td>\n",
              "    </tr>\n",
              "    <tr>\n",
              "      <th>4</th>\n",
              "      <td>Jul-2020</td>\n",
              "      <td>6933575</td>\n",
              "      <td>419285024</td>\n",
              "      <td>162843</td>\n",
              "      <td>17987872</td>\n",
              "      <td>21180.800319</td>\n",
              "    </tr>\n",
              "    <tr>\n",
              "      <th>5</th>\n",
              "      <td>Jun-2020</td>\n",
              "      <td>4235289</td>\n",
              "      <td>238584717</td>\n",
              "      <td>134345</td>\n",
              "      <td>13020726</td>\n",
              "      <td>22334.904823</td>\n",
              "    </tr>\n",
              "    <tr>\n",
              "      <th>6</th>\n",
              "      <td>Mar-2020</td>\n",
              "      <td>682941</td>\n",
              "      <td>8191025</td>\n",
              "      <td>37947</td>\n",
              "      <td>383421</td>\n",
              "      <td>7355.212270</td>\n",
              "    </tr>\n",
              "    <tr>\n",
              "      <th>7</th>\n",
              "      <td>May-2020</td>\n",
              "      <td>2835742</td>\n",
              "      <td>139384030</td>\n",
              "      <td>141931</td>\n",
              "      <td>9340845</td>\n",
              "      <td>26331.829454</td>\n",
              "    </tr>\n",
              "    <tr>\n",
              "      <th>8</th>\n",
              "      <td>Oct-2020</td>\n",
              "      <td>9398962</td>\n",
              "      <td>991038252</td>\n",
              "      <td>147189</td>\n",
              "      <td>28142054</td>\n",
              "      <td>12892.077881</td>\n",
              "    </tr>\n",
              "    <tr>\n",
              "      <th>9</th>\n",
              "      <td>Sep-2020</td>\n",
              "      <td>8411799</td>\n",
              "      <td>882739408</td>\n",
              "      <td>160452</td>\n",
              "      <td>27885478</td>\n",
              "      <td>16368.868167</td>\n",
              "    </tr>\n",
              "  </tbody>\n",
              "</table>\n",
              "</div>"
            ],
            "text/plain": [
              "  year_month  New_cases  ...  Cumulative_deaths         mrate\n",
              "0   Apr-2020    2336737  ...            4063819  23509.261743\n",
              "1   Aug-2020    8045496  ...           23503114  18831.458801\n",
              "2   Feb-2020      75897  ...              45160   1634.947822\n",
              "3   Jan-2020       9906  ...                872     52.577470\n",
              "4   Jul-2020    6933575  ...           17987872  21180.800319\n",
              "5   Jun-2020    4235289  ...           13020726  22334.904823\n",
              "6   Mar-2020     682941  ...             383421   7355.212270\n",
              "7   May-2020    2835742  ...            9340845  26331.829454\n",
              "8   Oct-2020    9398962  ...           28142054  12892.077881\n",
              "9   Sep-2020    8411799  ...           27885478  16368.868167\n",
              "\n",
              "[10 rows x 6 columns]"
            ]
          },
          "metadata": {
            "tags": []
          },
          "execution_count": 145
        }
      ]
    },
    {
      "cell_type": "code",
      "metadata": {
        "id": "yWcG9r7oqp3i",
        "outputId": "3ed3a20d-9896-44a2-b4b1-3e857eed3751",
        "colab": {
          "base_uri": "https://localhost:8080/",
          "height": 34
        }
      },
      "source": [
        "Increase = ((data['Cumulative_cases'].max() - data['Cumulative_cases'].min()) / data['Cumulative_cases'].max()) * 100\n",
        "print(\"The percentage increase in the number of cases till now from Jan :\" , Increase)"
      ],
      "execution_count": 152,
      "outputs": [
        {
          "output_type": "stream",
          "text": [
            "The percentage increase in the number of cases till now from Jan : 99.99617502150664\n"
          ],
          "name": "stdout"
        }
      ]
    },
    {
      "cell_type": "markdown",
      "metadata": {
        "id": "8QZq0YjCv8XZ"
      },
      "source": [
        "**There is 99% increase in covid cases since Jan.**"
      ]
    },
    {
      "cell_type": "markdown",
      "metadata": {
        "id": "4tWC7idbwCWe"
      },
      "source": [
        "**Conclusions:**\n",
        "* There are 235 countries which have covid cases.\n",
        "* United States of America has highest number of cases in the world.\n",
        "* The mortality rate went above 3.5 in the month of April, May and June. Present, the rate is decreasing.\n",
        "* There is 99% increase in Covid cases since Jan 2020."
      ]
    },
    {
      "cell_type": "markdown",
      "metadata": {
        "id": "FDjxqDLzw3l6"
      },
      "source": [
        "**Learned:**\n",
        "* Different visualization techniques\n",
        "* Setting individual bar labels\n",
        "* Using functions in pandas"
      ]
    }
  ]
}