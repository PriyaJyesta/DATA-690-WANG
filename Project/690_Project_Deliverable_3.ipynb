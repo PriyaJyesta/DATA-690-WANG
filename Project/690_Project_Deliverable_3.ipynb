{
  "nbformat": 4,
  "nbformat_minor": 0,
  "metadata": {
    "colab": {
      "name": "690_Project_Deliverable_3.ipynb",
      "provenance": [],
      "collapsed_sections": []
    },
    "kernelspec": {
      "name": "python3",
      "display_name": "Python 3"
    }
  },
  "cells": [
    {
      "cell_type": "markdown",
      "metadata": {
        "id": "PoPqdfMPhFPd"
      },
      "source": [
        "## **PROJECT PROPOSAL**\n",
        "\n",
        "*What is your issue of interest (provide sufficient background information)?*\n",
        "- Exploration and in-depth Analysis of the Novel Corona Virus Dataset data to perform visualization and analysis.I have taken the data source from  https://covid19.who.int/table. The Novel Corona Virus Dataset has been collected by the WHO.\n",
        "\n",
        "*Why is this issue important to you and/or to others?*\n",
        "-I have been interested in working with such data which would help us to understand the data source easily and encouraged me to know more about the Novel Corona Virus Dataset. In current scenario, I feel such exploration and indepth analysis would be useful.\n",
        "\n",
        "*What questions do you have in mind and would like to answer?*\n",
        "- Which country are having the highest no. of new confirmed COVID cases currently?\n",
        "- Secondly, In which country deaths are more due to COVID?\n",
        "- And, How much percentage of the cases increased from the begining ?\n",
        "- What is the Mortality rate over time?\n",
        "\n",
        "*Where do you get the data to help answer your questions?*\n",
        "- I have taken the data source from  https://covid19.who.int/table.\n",
        "\n",
        "*What will be your unit of analysis (for example, patient, organization, or country)? Roughly how many units (observations) do you expect to analyze?*\n",
        "- My units of anaylsis is the confirmed cases of COVID and Death cases and also country. I would analysis the whole dataset with help of bar chart using 66272 rows related to units mentioned above.\n",
        "\n",
        "*What variables/measures do you plan to use in your analysis (variables should be tied to the questions in #3)?*\n",
        "Variables I plan to use in my anaylsis are country, confirmed cases and death cases and date.\n",
        "\n",
        "*What kinds of techniques do you plan to use (for example, summary statistics, scatter plot, bar chart, chi-squared test)?*\n",
        "- All the above analysis and hypothesis would be achieved by plotting bar charts, histogram, summary statistics and line charts with good visualization.\n",
        "\n",
        "\n",
        "\n",
        "\n"
      ]
    },
    {
      "cell_type": "markdown",
      "metadata": {
        "id": "R3PdYDZdhvFE"
      },
      "source": [
        "**Importing necessary libraries**"
      ]
    },
    {
      "cell_type": "code",
      "metadata": {
        "id": "KuYJuw-YGpxO"
      },
      "source": [
        "import numpy as np\n",
        "import pandas as pd\n",
        "import matplotlib.pyplot as plt\n",
        "import seaborn as sns\n",
        "%matplotlib inline \n",
        "sns.set(color_codes=True)\n",
        "from itertools import cycle, islice"
      ],
      "execution_count": 1,
      "outputs": []
    },
    {
      "cell_type": "markdown",
      "metadata": {
        "id": "oSqPmzSeh8Ja"
      },
      "source": [
        "**Reading data from the csv file using pandas and loading the data**"
      ]
    },
    {
      "cell_type": "code",
      "metadata": {
        "id": "HtvuwNmAWat3"
      },
      "source": [
        "df = pd.read_csv('WHO-COVID-19-global-data-2.csv')"
      ],
      "execution_count": 2,
      "outputs": []
    },
    {
      "cell_type": "markdown",
      "metadata": {
        "id": "ZIXaYGF9h92R"
      },
      "source": [
        "**Using shape, able to identify the size of the data frame which gives in the format of (rows,columns)**"
      ]
    },
    {
      "cell_type": "code",
      "metadata": {
        "id": "AJ_qETDmW4Oy",
        "outputId": "f71312de-12ac-426b-9310-6757ffaf1830",
        "colab": {
          "base_uri": "https://localhost:8080/"
        }
      },
      "source": [
        "df.shape"
      ],
      "execution_count": 3,
      "outputs": [
        {
          "output_type": "execute_result",
          "data": {
            "text/plain": [
              "(68855, 8)"
            ]
          },
          "metadata": {
            "tags": []
          },
          "execution_count": 3
        }
      ]
    },
    {
      "cell_type": "markdown",
      "metadata": {
        "id": "JnHHZwQB2qBK"
      },
      "source": [
        "**There are 68855 rows and 8 columns**"
      ]
    },
    {
      "cell_type": "markdown",
      "metadata": {
        "id": "wwrT2qkxiDGp"
      },
      "source": [
        "**Identifying the data types of all the columns in the dataframe**"
      ]
    },
    {
      "cell_type": "code",
      "metadata": {
        "id": "xVMCHA0pW-T6",
        "outputId": "038dcb16-c3f2-4f2c-f5f2-8be90d571078",
        "colab": {
          "base_uri": "https://localhost:8080/"
        }
      },
      "source": [
        "df.dtypes"
      ],
      "execution_count": 4,
      "outputs": [
        {
          "output_type": "execute_result",
          "data": {
            "text/plain": [
              "Date_reported         object\n",
              " Country_code         object\n",
              " Country              object\n",
              " WHO_region           object\n",
              " New_cases             int64\n",
              " Cumulative_cases      int64\n",
              " New_deaths            int64\n",
              " Cumulative_deaths     int64\n",
              "dtype: object"
            ]
          },
          "metadata": {
            "tags": []
          },
          "execution_count": 4
        }
      ]
    },
    {
      "cell_type": "markdown",
      "metadata": {
        "id": "_pVRmLNviIar"
      },
      "source": [
        "**Using head function, identifying the first 5 rows of the data frame**"
      ]
    },
    {
      "cell_type": "code",
      "metadata": {
        "id": "lhB2mld1XGUp",
        "outputId": "30802afd-06b9-4355-9a80-a7376960adb8",
        "colab": {
          "base_uri": "https://localhost:8080/",
          "height": 224
        }
      },
      "source": [
        "df.head(5) "
      ],
      "execution_count": 5,
      "outputs": [
        {
          "output_type": "execute_result",
          "data": {
            "text/html": [
              "<div>\n",
              "<style scoped>\n",
              "    .dataframe tbody tr th:only-of-type {\n",
              "        vertical-align: middle;\n",
              "    }\n",
              "\n",
              "    .dataframe tbody tr th {\n",
              "        vertical-align: top;\n",
              "    }\n",
              "\n",
              "    .dataframe thead th {\n",
              "        text-align: right;\n",
              "    }\n",
              "</style>\n",
              "<table border=\"1\" class=\"dataframe\">\n",
              "  <thead>\n",
              "    <tr style=\"text-align: right;\">\n",
              "      <th></th>\n",
              "      <th>Date_reported</th>\n",
              "      <th>Country_code</th>\n",
              "      <th>Country</th>\n",
              "      <th>WHO_region</th>\n",
              "      <th>New_cases</th>\n",
              "      <th>Cumulative_cases</th>\n",
              "      <th>New_deaths</th>\n",
              "      <th>Cumulative_deaths</th>\n",
              "    </tr>\n",
              "  </thead>\n",
              "  <tbody>\n",
              "    <tr>\n",
              "      <th>0</th>\n",
              "      <td>2020-01-03</td>\n",
              "      <td>AF</td>\n",
              "      <td>Afghanistan</td>\n",
              "      <td>EMRO</td>\n",
              "      <td>0</td>\n",
              "      <td>0</td>\n",
              "      <td>0</td>\n",
              "      <td>0</td>\n",
              "    </tr>\n",
              "    <tr>\n",
              "      <th>1</th>\n",
              "      <td>2020-01-04</td>\n",
              "      <td>AF</td>\n",
              "      <td>Afghanistan</td>\n",
              "      <td>EMRO</td>\n",
              "      <td>0</td>\n",
              "      <td>0</td>\n",
              "      <td>0</td>\n",
              "      <td>0</td>\n",
              "    </tr>\n",
              "    <tr>\n",
              "      <th>2</th>\n",
              "      <td>2020-01-05</td>\n",
              "      <td>AF</td>\n",
              "      <td>Afghanistan</td>\n",
              "      <td>EMRO</td>\n",
              "      <td>0</td>\n",
              "      <td>0</td>\n",
              "      <td>0</td>\n",
              "      <td>0</td>\n",
              "    </tr>\n",
              "    <tr>\n",
              "      <th>3</th>\n",
              "      <td>2020-01-06</td>\n",
              "      <td>AF</td>\n",
              "      <td>Afghanistan</td>\n",
              "      <td>EMRO</td>\n",
              "      <td>0</td>\n",
              "      <td>0</td>\n",
              "      <td>0</td>\n",
              "      <td>0</td>\n",
              "    </tr>\n",
              "    <tr>\n",
              "      <th>4</th>\n",
              "      <td>2020-01-07</td>\n",
              "      <td>AF</td>\n",
              "      <td>Afghanistan</td>\n",
              "      <td>EMRO</td>\n",
              "      <td>0</td>\n",
              "      <td>0</td>\n",
              "      <td>0</td>\n",
              "      <td>0</td>\n",
              "    </tr>\n",
              "  </tbody>\n",
              "</table>\n",
              "</div>"
            ],
            "text/plain": [
              "  Date_reported  Country_code  ...  New_deaths  Cumulative_deaths\n",
              "0    2020-01-03            AF  ...           0                  0\n",
              "1    2020-01-04            AF  ...           0                  0\n",
              "2    2020-01-05            AF  ...           0                  0\n",
              "3    2020-01-06            AF  ...           0                  0\n",
              "4    2020-01-07            AF  ...           0                  0\n",
              "\n",
              "[5 rows x 8 columns]"
            ]
          },
          "metadata": {
            "tags": []
          },
          "execution_count": 5
        }
      ]
    },
    {
      "cell_type": "markdown",
      "metadata": {
        "id": "LOQfv3Sd22hk"
      },
      "source": [
        "**Using head function, identifying the last 5 rows of the data frame**"
      ]
    },
    {
      "cell_type": "code",
      "metadata": {
        "id": "56ByPwrlc6l_",
        "outputId": "7cab5538-85f3-4835-9a5c-a75790cdd974",
        "colab": {
          "base_uri": "https://localhost:8080/",
          "height": 224
        }
      },
      "source": [
        "df.tail(5)"
      ],
      "execution_count": 6,
      "outputs": [
        {
          "output_type": "execute_result",
          "data": {
            "text/html": [
              "<div>\n",
              "<style scoped>\n",
              "    .dataframe tbody tr th:only-of-type {\n",
              "        vertical-align: middle;\n",
              "    }\n",
              "\n",
              "    .dataframe tbody tr th {\n",
              "        vertical-align: top;\n",
              "    }\n",
              "\n",
              "    .dataframe thead th {\n",
              "        text-align: right;\n",
              "    }\n",
              "</style>\n",
              "<table border=\"1\" class=\"dataframe\">\n",
              "  <thead>\n",
              "    <tr style=\"text-align: right;\">\n",
              "      <th></th>\n",
              "      <th>Date_reported</th>\n",
              "      <th>Country_code</th>\n",
              "      <th>Country</th>\n",
              "      <th>WHO_region</th>\n",
              "      <th>New_cases</th>\n",
              "      <th>Cumulative_cases</th>\n",
              "      <th>New_deaths</th>\n",
              "      <th>Cumulative_deaths</th>\n",
              "    </tr>\n",
              "  </thead>\n",
              "  <tbody>\n",
              "    <tr>\n",
              "      <th>68850</th>\n",
              "      <td>2020-10-17</td>\n",
              "      <td>ZW</td>\n",
              "      <td>Zimbabwe</td>\n",
              "      <td>AFRO</td>\n",
              "      <td>24</td>\n",
              "      <td>8099</td>\n",
              "      <td>0</td>\n",
              "      <td>231</td>\n",
              "    </tr>\n",
              "    <tr>\n",
              "      <th>68851</th>\n",
              "      <td>2020-10-18</td>\n",
              "      <td>ZW</td>\n",
              "      <td>Zimbabwe</td>\n",
              "      <td>AFRO</td>\n",
              "      <td>11</td>\n",
              "      <td>8110</td>\n",
              "      <td>0</td>\n",
              "      <td>231</td>\n",
              "    </tr>\n",
              "    <tr>\n",
              "      <th>68852</th>\n",
              "      <td>2020-10-19</td>\n",
              "      <td>ZW</td>\n",
              "      <td>Zimbabwe</td>\n",
              "      <td>AFRO</td>\n",
              "      <td>37</td>\n",
              "      <td>8147</td>\n",
              "      <td>0</td>\n",
              "      <td>231</td>\n",
              "    </tr>\n",
              "    <tr>\n",
              "      <th>68853</th>\n",
              "      <td>2020-10-20</td>\n",
              "      <td>ZW</td>\n",
              "      <td>Zimbabwe</td>\n",
              "      <td>AFRO</td>\n",
              "      <td>12</td>\n",
              "      <td>8159</td>\n",
              "      <td>1</td>\n",
              "      <td>232</td>\n",
              "    </tr>\n",
              "    <tr>\n",
              "      <th>68854</th>\n",
              "      <td>2020-10-21</td>\n",
              "      <td>ZW</td>\n",
              "      <td>Zimbabwe</td>\n",
              "      <td>AFRO</td>\n",
              "      <td>28</td>\n",
              "      <td>8187</td>\n",
              "      <td>1</td>\n",
              "      <td>233</td>\n",
              "    </tr>\n",
              "  </tbody>\n",
              "</table>\n",
              "</div>"
            ],
            "text/plain": [
              "      Date_reported  Country_code  ...  New_deaths  Cumulative_deaths\n",
              "68850    2020-10-17            ZW  ...           0                231\n",
              "68851    2020-10-18            ZW  ...           0                231\n",
              "68852    2020-10-19            ZW  ...           0                231\n",
              "68853    2020-10-20            ZW  ...           1                232\n",
              "68854    2020-10-21            ZW  ...           1                233\n",
              "\n",
              "[5 rows x 8 columns]"
            ]
          },
          "metadata": {
            "tags": []
          },
          "execution_count": 6
        }
      ]
    },
    {
      "cell_type": "markdown",
      "metadata": {
        "id": "gN4uzlLu26FQ"
      },
      "source": [
        "**Using sample and specifying n = 5 ,Looking at a random sample of 5**"
      ]
    },
    {
      "cell_type": "code",
      "metadata": {
        "id": "fjzfsU-Eew6U",
        "outputId": "7bc17a0c-3b01-473d-f40c-2a397385f4f3",
        "colab": {
          "base_uri": "https://localhost:8080/",
          "height": 258
        }
      },
      "source": [
        "df.sample(n=5, random_state=0)"
      ],
      "execution_count": 7,
      "outputs": [
        {
          "output_type": "execute_result",
          "data": {
            "text/html": [
              "<div>\n",
              "<style scoped>\n",
              "    .dataframe tbody tr th:only-of-type {\n",
              "        vertical-align: middle;\n",
              "    }\n",
              "\n",
              "    .dataframe tbody tr th {\n",
              "        vertical-align: top;\n",
              "    }\n",
              "\n",
              "    .dataframe thead th {\n",
              "        text-align: right;\n",
              "    }\n",
              "</style>\n",
              "<table border=\"1\" class=\"dataframe\">\n",
              "  <thead>\n",
              "    <tr style=\"text-align: right;\">\n",
              "      <th></th>\n",
              "      <th>Date_reported</th>\n",
              "      <th>Country_code</th>\n",
              "      <th>Country</th>\n",
              "      <th>WHO_region</th>\n",
              "      <th>New_cases</th>\n",
              "      <th>Cumulative_cases</th>\n",
              "      <th>New_deaths</th>\n",
              "      <th>Cumulative_deaths</th>\n",
              "    </tr>\n",
              "  </thead>\n",
              "  <tbody>\n",
              "    <tr>\n",
              "      <th>6135</th>\n",
              "      <td>2020-10-04</td>\n",
              "      <td>BZ</td>\n",
              "      <td>Belize</td>\n",
              "      <td>AMRO</td>\n",
              "      <td>54</td>\n",
              "      <td>2080</td>\n",
              "      <td>1</td>\n",
              "      <td>28</td>\n",
              "    </tr>\n",
              "    <tr>\n",
              "      <th>29640</th>\n",
              "      <td>2020-02-19</td>\n",
              "      <td>IM</td>\n",
              "      <td>Isle of Man</td>\n",
              "      <td>EURO</td>\n",
              "      <td>0</td>\n",
              "      <td>0</td>\n",
              "      <td>0</td>\n",
              "      <td>0</td>\n",
              "    </tr>\n",
              "    <tr>\n",
              "      <th>15027</th>\n",
              "      <td>2020-03-27</td>\n",
              "      <td>CW</td>\n",
              "      <td>Curaçao</td>\n",
              "      <td>AMRO</td>\n",
              "      <td>0</td>\n",
              "      <td>7</td>\n",
              "      <td>0</td>\n",
              "      <td>1</td>\n",
              "    </tr>\n",
              "    <tr>\n",
              "      <th>47328</th>\n",
              "      <td>2020-06-06</td>\n",
              "      <td>PA</td>\n",
              "      <td>Panama</td>\n",
              "      <td>AMRO</td>\n",
              "      <td>435</td>\n",
              "      <td>15044</td>\n",
              "      <td>6</td>\n",
              "      <td>363</td>\n",
              "    </tr>\n",
              "    <tr>\n",
              "      <th>43081</th>\n",
              "      <td>2020-01-13</td>\n",
              "      <td>NC</td>\n",
              "      <td>New Caledonia</td>\n",
              "      <td>WPRO</td>\n",
              "      <td>0</td>\n",
              "      <td>0</td>\n",
              "      <td>0</td>\n",
              "      <td>0</td>\n",
              "    </tr>\n",
              "  </tbody>\n",
              "</table>\n",
              "</div>"
            ],
            "text/plain": [
              "      Date_reported  Country_code  ...  New_deaths  Cumulative_deaths\n",
              "6135     2020-10-04            BZ  ...           1                 28\n",
              "29640    2020-02-19            IM  ...           0                  0\n",
              "15027    2020-03-27            CW  ...           0                  1\n",
              "47328    2020-06-06            PA  ...           6                363\n",
              "43081    2020-01-13            NC  ...           0                  0\n",
              "\n",
              "[5 rows x 8 columns]"
            ]
          },
          "metadata": {
            "tags": []
          },
          "execution_count": 7
        }
      ]
    },
    {
      "cell_type": "code",
      "metadata": {
        "id": "L2Err8iwA5ep",
        "outputId": "8ab6b46d-d9d0-497a-b3f6-4bb3e1462cbf",
        "colab": {
          "base_uri": "https://localhost:8080/"
        }
      },
      "source": [
        "df.info()"
      ],
      "execution_count": 8,
      "outputs": [
        {
          "output_type": "stream",
          "text": [
            "<class 'pandas.core.frame.DataFrame'>\n",
            "RangeIndex: 68855 entries, 0 to 68854\n",
            "Data columns (total 8 columns):\n",
            " #   Column              Non-Null Count  Dtype \n",
            "---  ------              --------------  ----- \n",
            " 0   Date_reported       68855 non-null  object\n",
            " 1    Country_code       68562 non-null  object\n",
            " 2    Country            68855 non-null  object\n",
            " 3    WHO_region         68855 non-null  object\n",
            " 4    New_cases          68855 non-null  int64 \n",
            " 5    Cumulative_cases   68855 non-null  int64 \n",
            " 6    New_deaths         68855 non-null  int64 \n",
            " 7    Cumulative_deaths  68855 non-null  int64 \n",
            "dtypes: int64(4), object(4)\n",
            "memory usage: 4.2+ MB\n"
          ],
          "name": "stdout"
        }
      ]
    },
    {
      "cell_type": "markdown",
      "metadata": {
        "id": "_Fzxc4X9BTdI"
      },
      "source": [
        "**Using describe function**\n",
        "\n",
        "**The describe() method returns the general stats of the numeric columns in the dataframe.This function returns the count, mean, standard deviation, minimum and maximum values and the quantiles of the data**"
      ]
    },
    {
      "cell_type": "code",
      "metadata": {
        "id": "tAuKcYoCBNv3",
        "outputId": "578a32cd-f8ff-4baa-d615-3ed75347a0b1",
        "colab": {
          "base_uri": "https://localhost:8080/",
          "height": 297
        }
      },
      "source": [
        "df.describe()"
      ],
      "execution_count": 9,
      "outputs": [
        {
          "output_type": "execute_result",
          "data": {
            "text/html": [
              "<div>\n",
              "<style scoped>\n",
              "    .dataframe tbody tr th:only-of-type {\n",
              "        vertical-align: middle;\n",
              "    }\n",
              "\n",
              "    .dataframe tbody tr th {\n",
              "        vertical-align: top;\n",
              "    }\n",
              "\n",
              "    .dataframe thead th {\n",
              "        text-align: right;\n",
              "    }\n",
              "</style>\n",
              "<table border=\"1\" class=\"dataframe\">\n",
              "  <thead>\n",
              "    <tr style=\"text-align: right;\">\n",
              "      <th></th>\n",
              "      <th>New_cases</th>\n",
              "      <th>Cumulative_cases</th>\n",
              "      <th>New_deaths</th>\n",
              "      <th>Cumulative_deaths</th>\n",
              "    </tr>\n",
              "  </thead>\n",
              "  <tbody>\n",
              "    <tr>\n",
              "      <th>count</th>\n",
              "      <td>68855.000000</td>\n",
              "      <td>6.885500e+04</td>\n",
              "      <td>68855.000000</td>\n",
              "      <td>68855.000000</td>\n",
              "    </tr>\n",
              "    <tr>\n",
              "      <th>mean</th>\n",
              "      <td>590.595280</td>\n",
              "      <td>4.630728e+04</td>\n",
              "      <td>16.292833</td>\n",
              "      <td>1723.343388</td>\n",
              "    </tr>\n",
              "    <tr>\n",
              "      <th>std</th>\n",
              "      <td>4046.975799</td>\n",
              "      <td>3.399579e+05</td>\n",
              "      <td>108.554217</td>\n",
              "      <td>10605.033483</td>\n",
              "    </tr>\n",
              "    <tr>\n",
              "      <th>min</th>\n",
              "      <td>-8261.000000</td>\n",
              "      <td>0.000000e+00</td>\n",
              "      <td>-514.000000</td>\n",
              "      <td>0.000000</td>\n",
              "    </tr>\n",
              "    <tr>\n",
              "      <th>25%</th>\n",
              "      <td>0.000000</td>\n",
              "      <td>0.000000e+00</td>\n",
              "      <td>0.000000</td>\n",
              "      <td>0.000000</td>\n",
              "    </tr>\n",
              "    <tr>\n",
              "      <th>50%</th>\n",
              "      <td>0.000000</td>\n",
              "      <td>2.300000e+02</td>\n",
              "      <td>0.000000</td>\n",
              "      <td>4.000000</td>\n",
              "    </tr>\n",
              "    <tr>\n",
              "      <th>75%</th>\n",
              "      <td>71.000000</td>\n",
              "      <td>5.484000e+03</td>\n",
              "      <td>1.000000</td>\n",
              "      <td>106.000000</td>\n",
              "    </tr>\n",
              "    <tr>\n",
              "      <th>max</th>\n",
              "      <td>97894.000000</td>\n",
              "      <td>8.124633e+06</td>\n",
              "      <td>6409.000000</td>\n",
              "      <td>218641.000000</td>\n",
              "    </tr>\n",
              "  </tbody>\n",
              "</table>\n",
              "</div>"
            ],
            "text/plain": [
              "          New_cases   Cumulative_cases    New_deaths   Cumulative_deaths\n",
              "count  68855.000000       6.885500e+04  68855.000000        68855.000000\n",
              "mean     590.595280       4.630728e+04     16.292833         1723.343388\n",
              "std     4046.975799       3.399579e+05    108.554217        10605.033483\n",
              "min    -8261.000000       0.000000e+00   -514.000000            0.000000\n",
              "25%        0.000000       0.000000e+00      0.000000            0.000000\n",
              "50%        0.000000       2.300000e+02      0.000000            4.000000\n",
              "75%       71.000000       5.484000e+03      1.000000          106.000000\n",
              "max    97894.000000       8.124633e+06   6409.000000       218641.000000"
            ]
          },
          "metadata": {
            "tags": []
          },
          "execution_count": 9
        }
      ]
    },
    {
      "cell_type": "code",
      "metadata": {
        "id": "G-lLojR8Hvo2"
      },
      "source": [
        "df.columns = df.columns.str.strip()"
      ],
      "execution_count": 10,
      "outputs": []
    },
    {
      "cell_type": "markdown",
      "metadata": {
        "id": "VwPeD0eMIwWU"
      },
      "source": [
        "**The duplicated() method returns a boolean series which is then used as a mask on the original dataframe. The output shows that no two records have the same country, state and date. So we can conclude that all observations in the dataset are unique.**"
      ]
    },
    {
      "cell_type": "code",
      "metadata": {
        "id": "kHTPV5ZoIMqH",
        "outputId": "2a638122-1333-4bea-fa7f-fc3f36543229",
        "colab": {
          "base_uri": "https://localhost:8080/",
          "height": 69
        }
      },
      "source": [
        "#checking for duplicate rows\n",
        "duplicate_rows=df.duplicated(['Country','Country_code','Date_reported'])\n",
        "df[duplicate_rows]"
      ],
      "execution_count": 11,
      "outputs": [
        {
          "output_type": "execute_result",
          "data": {
            "text/html": [
              "<div>\n",
              "<style scoped>\n",
              "    .dataframe tbody tr th:only-of-type {\n",
              "        vertical-align: middle;\n",
              "    }\n",
              "\n",
              "    .dataframe tbody tr th {\n",
              "        vertical-align: top;\n",
              "    }\n",
              "\n",
              "    .dataframe thead th {\n",
              "        text-align: right;\n",
              "    }\n",
              "</style>\n",
              "<table border=\"1\" class=\"dataframe\">\n",
              "  <thead>\n",
              "    <tr style=\"text-align: right;\">\n",
              "      <th></th>\n",
              "      <th>Date_reported</th>\n",
              "      <th>Country_code</th>\n",
              "      <th>Country</th>\n",
              "      <th>WHO_region</th>\n",
              "      <th>New_cases</th>\n",
              "      <th>Cumulative_cases</th>\n",
              "      <th>New_deaths</th>\n",
              "      <th>Cumulative_deaths</th>\n",
              "    </tr>\n",
              "  </thead>\n",
              "  <tbody>\n",
              "  </tbody>\n",
              "</table>\n",
              "</div>"
            ],
            "text/plain": [
              "Empty DataFrame\n",
              "Columns: [Date_reported, Country_code, Country, WHO_region, New_cases, Cumulative_cases, New_deaths, Cumulative_deaths]\n",
              "Index: []"
            ]
          },
          "metadata": {
            "tags": []
          },
          "execution_count": 11
        }
      ]
    },
    {
      "cell_type": "markdown",
      "metadata": {
        "id": "zUxhbkzWtQFz"
      },
      "source": [
        "**There are no duplicate rows in this dataset.**"
      ]
    },
    {
      "cell_type": "markdown",
      "metadata": {
        "id": "aIgKXF5ltiCC"
      },
      "source": [
        "**The unique() method returns a unique values on the original dataframe. The output shows that the list of unique values in the dataset.**"
      ]
    },
    {
      "cell_type": "code",
      "metadata": {
        "id": "FSpmsldvGQDa",
        "outputId": "994f8d06-1ca3-4d71-e3f5-139173390a39",
        "colab": {
          "base_uri": "https://localhost:8080/"
        }
      },
      "source": [
        "#listing all the countries where the virus has spread to\n",
        "country_list=list(df['Country'].unique())\n",
        "print(country_list)\n",
        "print(len(country_list))"
      ],
      "execution_count": 12,
      "outputs": [
        {
          "output_type": "stream",
          "text": [
            "['Afghanistan', 'Albania', 'Algeria', 'American Samoa', 'Andorra', 'Angola', 'Anguilla', 'Antigua and Barbuda', 'Argentina', 'Armenia', 'Aruba', 'Australia', 'Austria', 'Azerbaijan', 'Bahamas', 'Bahrain', 'Bangladesh', 'Barbados', 'Belarus', 'Belgium', 'Belize', 'Benin', 'Bermuda', 'Bhutan', 'Bolivia (Plurinational State of)', 'Bonaire, Sint Eustatius and Saba', 'Bosnia and Herzegovina', 'Botswana', 'Brazil', 'British Virgin Islands', 'Brunei Darussalam', 'Bulgaria', 'Burkina Faso', 'Burundi', 'Cabo Verde', 'Cambodia', 'Cameroon', 'Canada', 'Cayman Islands', 'Central African Republic', 'Chad', 'Chile', 'China', 'Colombia', 'Comoros', 'Congo', 'Cook Islands', 'Costa Rica', 'Côte d’Ivoire', 'Croatia', 'Cuba', 'Curaçao', 'Cyprus', 'Czechia', \"Democratic People's Republic of Korea\", 'Democratic Republic of the Congo', 'Denmark', 'Djibouti', 'Dominica', 'Dominican Republic', 'Ecuador', 'Egypt', 'El Salvador', 'Equatorial Guinea', 'Eritrea', 'Estonia', 'Eswatini', 'Ethiopia', 'Falkland Islands (Malvinas)', 'Faroe Islands', 'Fiji', 'Finland', 'France', 'French Guiana', 'French Polynesia', 'Gabon', 'Gambia', 'Georgia', 'Germany', 'Ghana', 'Gibraltar', 'Greece', 'Greenland', 'Grenada', 'Guadeloupe', 'Guam', 'Guatemala', 'Guernsey', 'Guinea', 'Guinea-Bissau', 'Guyana', 'Haiti', 'Holy See', 'Honduras', 'Hungary', 'Iceland', 'India', 'Indonesia', 'Iran (Islamic Republic of)', 'Iraq', 'Ireland', 'Isle of Man', 'Israel', 'Italy', 'Jamaica', 'Japan', 'Jersey', 'Jordan', 'Kazakhstan', 'Kenya', 'Kiribati', 'Kosovo[1]', 'Kuwait', 'Kyrgyzstan', \"Lao People's Democratic Republic\", 'Latvia', 'Lebanon', 'Lesotho', 'Liberia', 'Libya', 'Liechtenstein', 'Lithuania', 'Luxembourg', 'Madagascar', 'Malawi', 'Malaysia', 'Maldives', 'Mali', 'Malta', 'Marshall Islands', 'Martinique', 'Mauritania', 'Mauritius', 'Mayotte', 'Mexico', 'Micronesia (Federated States of)', 'Monaco', 'Mongolia', 'Montenegro', 'Montserrat', 'Morocco', 'Mozambique', 'Myanmar', 'Namibia', 'Nauru', 'Nepal', 'Netherlands', 'New Caledonia', 'New Zealand', 'Nicaragua', 'Niger', 'Nigeria', 'Niue', 'North Macedonia', 'Northern Mariana Islands (Commonwealth of the)', 'Norway', 'occupied Palestinian territory, including east Jerusalem', 'Oman', 'Other', 'Pakistan', 'Palau', 'Panama', 'Papua New Guinea', 'Paraguay', 'Peru', 'Philippines', 'Pitcairn Islands', 'Poland', 'Portugal', 'Puerto Rico', 'Qatar', 'Republic of Korea', 'Republic of Moldova', 'Réunion', 'Romania', 'Russian Federation', 'Rwanda', 'Saint Barthélemy', 'Saint Helena', 'Saint Kitts and Nevis', 'Saint Lucia', 'Saint Martin', 'Saint Pierre and Miquelon', 'Saint Vincent and the Grenadines', 'Samoa', 'San Marino', 'Sao Tome and Principe', 'Saudi Arabia', 'Senegal', 'Serbia', 'Seychelles', 'Sierra Leone', 'Singapore', 'Sint Maarten', 'Slovakia', 'Slovenia', 'Solomon Islands', 'Somalia', 'South Africa', 'South Sudan', 'Spain', 'Sri Lanka', 'Sudan', 'Suriname', 'Sweden', 'Switzerland', 'Syrian Arab Republic', 'Tajikistan', 'Thailand', 'The United Kingdom', 'Timor-Leste', 'Togo', 'Tokelau', 'Tonga', 'Trinidad and Tobago', 'Tunisia', 'Turkey', 'Turkmenistan', 'Turks and Caicos Islands', 'Tuvalu', 'Uganda', 'Ukraine', 'United Arab Emirates', 'United Republic of Tanzania', 'United States of America', 'United States Virgin Islands', 'Uruguay', 'Uzbekistan', 'Vanuatu', 'Venezuela (Bolivarian Republic of)', 'Viet Nam', 'Wallis and Futuna', 'Yemen', 'Zambia', 'Zimbabwe']\n",
            "235\n"
          ],
          "name": "stdout"
        }
      ]
    },
    {
      "cell_type": "markdown",
      "metadata": {
        "id": "itVHGG20t0cp"
      },
      "source": [
        "**There are 235 countries which have covid cases.**"
      ]
    },
    {
      "cell_type": "markdown",
      "metadata": {
        "id": "-94Zq2AkuKFB"
      },
      "source": [
        "**Changing date in date format and creating a column with month and year.**"
      ]
    },
    {
      "cell_type": "code",
      "metadata": {
        "id": "OmSLZ1SBDEVs"
      },
      "source": [
        "df['Date_reported'] = pd.to_datetime(df['Date_reported'])\n",
        "df['year_month'] = df['Date_reported'].dt.strftime('%b-%Y')"
      ],
      "execution_count": 13,
      "outputs": []
    },
    {
      "cell_type": "markdown",
      "metadata": {
        "id": "JemRA6B1uYik"
      },
      "source": [
        "**Country which has highest cases in the country using idmax**"
      ]
    },
    {
      "cell_type": "code",
      "metadata": {
        "id": "29KLW8h8U3iU",
        "outputId": "2af47cee-2797-4e2c-fdfc-4ec29e03f187",
        "colab": {
          "base_uri": "https://localhost:8080/"
        }
      },
      "source": [
        "df.iloc[df['Cumulative_cases'].idxmax()]"
      ],
      "execution_count": 14,
      "outputs": [
        {
          "output_type": "execute_result",
          "data": {
            "text/plain": [
              "Date_reported             2020-10-21 00:00:00\n",
              "Country_code                               US\n",
              "Country              United States of America\n",
              "WHO_region                               AMRO\n",
              "New_cases                               59018\n",
              "Cumulative_cases                      8124633\n",
              "New_deaths                                510\n",
              "Cumulative_deaths                      218641\n",
              "year_month                           Oct-2020\n",
              "Name: 65924, dtype: object"
            ]
          },
          "metadata": {
            "tags": []
          },
          "execution_count": 14
        }
      ]
    },
    {
      "cell_type": "markdown",
      "metadata": {
        "id": "WZaRN-Gguo_4"
      },
      "source": [
        "**Creating a bar displaying the number of cases with specific to months.**"
      ]
    },
    {
      "cell_type": "code",
      "metadata": {
        "id": "NyHfV6uoVkfC",
        "outputId": "a533db4b-1b87-471e-feaa-de78eb492e2c",
        "colab": {
          "base_uri": "https://localhost:8080/",
          "height": 329
        }
      },
      "source": [
        "#sns.axes_style(\"whitegrid\")\n",
        "sns.barplot(\n",
        "x=\"year_month\", \n",
        "y=\"Cumulative_cases\", data=df.groupby(['year_month']).sum().reset_index(drop=None).sort_values('Cumulative_cases'),palette = 'rocket_r')\n",
        "plt.xticks(rotation=60)\n",
        "plt.ylabel('Number of confirmed cases',fontsize=15)\n",
        "plt.xlabel('Dates',fontsize=15)\n",
        "plt.ticklabel_format(style='plain', axis='y')\n"
      ],
      "execution_count": 15,
      "outputs": [
        {
          "output_type": "display_data",
          "data": {
            "image/png": "[encoded data removed]",
            "text/plain": [
              "<Figure size 432x288 with 1 Axes>"
            ]
          },
          "metadata": {
            "tags": [],
            "needs_background": "light"
          }
        }
      ]
    },
    {
      "cell_type": "markdown",
      "metadata": {
        "id": "XSfbhLhUu8wn"
      },
      "source": [
        "**Creating a bar displaying the number of Death cases with specific to months.**"
      ]
    },
    {
      "cell_type": "code",
      "metadata": {
        "id": "-Afw8ntnVK8g",
        "outputId": "0a4c62fe-0a64-49cb-bd02-cce91569ce48",
        "colab": {
          "base_uri": "https://localhost:8080/",
          "height": 329
        }
      },
      "source": [
        "#sns.axes_style(\"whitegrid\")\n",
        "sns.barplot(\n",
        "x=\"year_month\", \n",
        "y=\"Cumulative_deaths\", data=df.groupby(['year_month']).sum().reset_index(drop=None).sort_values('Cumulative_deaths'),palette = 'crest')\n",
        "plt.xticks(rotation=60)\n",
        "plt.ylabel('Number of Death cases',fontsize=15)\n",
        "plt.xlabel('Dates',fontsize=15)\n",
        "plt.ticklabel_format(style='plain', axis='y')\n"
      ],
      "execution_count": 16,
      "outputs": [
        {
          "output_type": "display_data",
          "data": {
            "image/png": "[encoded data removed]",
            "text/plain": [
              "<Figure size 432x288 with 1 Axes>"
            ]
          },
          "metadata": {
            "tags": [],
            "needs_background": "light"
          }
        }
      ]
    },
    {
      "cell_type": "markdown",
      "metadata": {
        "id": "JwsbnT3cvF7L"
      },
      "source": [
        "**Displaying the top 5 countries which have covid cases.**"
      ]
    },
    {
      "cell_type": "code",
      "metadata": {
        "id": "-aD-RyhOVYEC"
      },
      "source": [
        "data = df.groupby('Country')['Cumulative_cases'].sum().sort_values(ascending=False)[:5]"
      ],
      "execution_count": 17,
      "outputs": []
    },
    {
      "cell_type": "code",
      "metadata": {
        "id": "PyYxj6B4bpFe",
        "outputId": "228fbe20-b746-45b9-954d-f986ad1985d5",
        "colab": {
          "base_uri": "https://localhost:8080/",
          "height": 361
        }
      },
      "source": [
        "#plot the bar graph with different color to identify the highest number of dialysis centres\n",
        "plt.figure(figsize=(10,5))\n",
        "for i,v in data.iteritems():\n",
        "    if i == 'United States of America':\n",
        "        _=plt.bar(i,v,color='red')\n",
        "    else:\n",
        "        _=plt.bar(i,v,color='orange')\n",
        "\n",
        "#Setting the titles, x and y labels        \n",
        "_=plt.xlabel('Country',fontsize=15)\n",
        "_=plt.ylabel('Number of Cases',fontsize=15)\n",
        "_=plt.title('Highest number of covid cases in world',fontsize=18)\n",
        "_=plt.xticks(rotation=0)\n",
        "_=plt.ticklabel_format(style='plain', axis='y')\n",
        "plt.show()"
      ],
      "execution_count": 18,
      "outputs": [
        {
          "output_type": "display_data",
          "data": {
            "image/png": "[encoded data removed]",
            "text/plain": [
              "<Figure size 720x360 with 1 Axes>"
            ]
          },
          "metadata": {
            "tags": [],
            "needs_background": "light"
          }
        }
      ]
    },
    {
      "cell_type": "markdown",
      "metadata": {
        "id": "fJ5SpFIYvQZB"
      },
      "source": [
        "**United States of America has highest number of cases in the world.**"
      ]
    },
    {
      "cell_type": "markdown",
      "metadata": {
        "id": "Zn-5lc8Evev9"
      },
      "source": [
        "**Specifying the Mortality Rate.**"
      ]
    },
    {
      "cell_type": "code",
      "metadata": {
        "id": "3ezP4fGpYCHM"
      },
      "source": [
        "df['mrate'] = df['Cumulative_deaths']*100/df['Cumulative_cases']"
      ],
      "execution_count": 19,
      "outputs": []
    },
    {
      "cell_type": "code",
      "metadata": {
        "id": "FbiwGC-vSczq",
        "outputId": "5512bf59-0df1-4608-a1d1-8dfac4816bab",
        "colab": {
          "base_uri": "https://localhost:8080/",
          "height": 327
        }
      },
      "source": [
        "sns.lineplot(x = \"year_month\", y = \"mrate\", data=df,color = 'red')\n",
        "plt.xticks(rotation=60)\n",
        "plt.show()"
      ],
      "execution_count": 20,
      "outputs": [
        {
          "output_type": "display_data",
          "data": {
            "image/png": "[encoded data removed]",
            "text/plain": [
              "<Figure size 432x288 with 1 Axes>"
            ]
          },
          "metadata": {
            "tags": [],
            "needs_background": "light"
          }
        }
      ]
    },
    {
      "cell_type": "markdown",
      "metadata": {
        "id": "X5ZQ6DazvkbE"
      },
      "source": [
        "**The mortality rate went above 3.5 in the month of April, May and June. Present, the rate is decreasing.**"
      ]
    },
    {
      "cell_type": "markdown",
      "metadata": {
        "id": "cgCclfABv153"
      },
      "source": [
        "**Calculating the Percentage Increase in Covid cases.**"
      ]
    },
    {
      "cell_type": "code",
      "metadata": {
        "id": "z_Cmu9KidPOo",
        "outputId": "518447bc-de05-4a27-efff-d3f7bf5e3ce7",
        "colab": {
          "base_uri": "https://localhost:8080/",
          "height": 359
        }
      },
      "source": [
        "data=df.groupby(['year_month']).sum().reset_index(drop=None).sort_values('year_month')\n",
        "data"
      ],
      "execution_count": 21,
      "outputs": [
        {
          "output_type": "execute_result",
          "data": {
            "text/html": [
              "<div>\n",
              "<style scoped>\n",
              "    .dataframe tbody tr th:only-of-type {\n",
              "        vertical-align: middle;\n",
              "    }\n",
              "\n",
              "    .dataframe tbody tr th {\n",
              "        vertical-align: top;\n",
              "    }\n",
              "\n",
              "    .dataframe thead th {\n",
              "        text-align: right;\n",
              "    }\n",
              "</style>\n",
              "<table border=\"1\" class=\"dataframe\">\n",
              "  <thead>\n",
              "    <tr style=\"text-align: right;\">\n",
              "      <th></th>\n",
              "      <th>year_month</th>\n",
              "      <th>New_cases</th>\n",
              "      <th>Cumulative_cases</th>\n",
              "      <th>New_deaths</th>\n",
              "      <th>Cumulative_deaths</th>\n",
              "      <th>mrate</th>\n",
              "    </tr>\n",
              "  </thead>\n",
              "  <tbody>\n",
              "    <tr>\n",
              "      <th>0</th>\n",
              "      <td>Apr-2020</td>\n",
              "      <td>2337026</td>\n",
              "      <td>59254005</td>\n",
              "      <td>183750</td>\n",
              "      <td>4061244</td>\n",
              "      <td>23485.711241</td>\n",
              "    </tr>\n",
              "    <tr>\n",
              "      <th>1</th>\n",
              "      <td>Aug-2020</td>\n",
              "      <td>8045155</td>\n",
              "      <td>658854647</td>\n",
              "      <td>181146</td>\n",
              "      <td>23502513</td>\n",
              "      <td>18835.353887</td>\n",
              "    </tr>\n",
              "    <tr>\n",
              "      <th>2</th>\n",
              "      <td>Feb-2020</td>\n",
              "      <td>75940</td>\n",
              "      <td>1636554</td>\n",
              "      <td>2722</td>\n",
              "      <td>45161</td>\n",
              "      <td>1606.636761</td>\n",
              "    </tr>\n",
              "    <tr>\n",
              "      <th>3</th>\n",
              "      <td>Jan-2020</td>\n",
              "      <td>9910</td>\n",
              "      <td>37941</td>\n",
              "      <td>213</td>\n",
              "      <td>872</td>\n",
              "      <td>52.577470</td>\n",
              "    </tr>\n",
              "    <tr>\n",
              "      <th>4</th>\n",
              "      <td>Jul-2020</td>\n",
              "      <td>6933345</td>\n",
              "      <td>419282803</td>\n",
              "      <td>162897</td>\n",
              "      <td>17987393</td>\n",
              "      <td>21178.382076</td>\n",
              "    </tr>\n",
              "    <tr>\n",
              "      <th>5</th>\n",
              "      <td>Jun-2020</td>\n",
              "      <td>4235128</td>\n",
              "      <td>238582577</td>\n",
              "      <td>134349</td>\n",
              "      <td>13019649</td>\n",
              "      <td>22329.726350</td>\n",
              "    </tr>\n",
              "    <tr>\n",
              "      <th>6</th>\n",
              "      <td>Mar-2020</td>\n",
              "      <td>682605</td>\n",
              "      <td>8203411</td>\n",
              "      <td>37901</td>\n",
              "      <td>383659</td>\n",
              "      <td>7345.788490</td>\n",
              "    </tr>\n",
              "    <tr>\n",
              "      <th>7</th>\n",
              "      <td>May-2020</td>\n",
              "      <td>2835662</td>\n",
              "      <td>139383291</td>\n",
              "      <td>141971</td>\n",
              "      <td>9339686</td>\n",
              "      <td>26325.988655</td>\n",
              "    </tr>\n",
              "    <tr>\n",
              "      <th>8</th>\n",
              "      <td>Oct-2020</td>\n",
              "      <td>7099708</td>\n",
              "      <td>780556446</td>\n",
              "      <td>116464</td>\n",
              "      <td>22435969</td>\n",
              "      <td>10528.060028</td>\n",
              "    </tr>\n",
              "    <tr>\n",
              "      <th>9</th>\n",
              "      <td>Sep-2020</td>\n",
              "      <td>8410959</td>\n",
              "      <td>882696297</td>\n",
              "      <td>160430</td>\n",
              "      <td>27884663</td>\n",
              "      <td>16370.308755</td>\n",
              "    </tr>\n",
              "  </tbody>\n",
              "</table>\n",
              "</div>"
            ],
            "text/plain": [
              "  year_month  New_cases  ...  Cumulative_deaths         mrate\n",
              "0   Apr-2020    2337026  ...            4061244  23485.711241\n",
              "1   Aug-2020    8045155  ...           23502513  18835.353887\n",
              "2   Feb-2020      75940  ...              45161   1606.636761\n",
              "3   Jan-2020       9910  ...                872     52.577470\n",
              "4   Jul-2020    6933345  ...           17987393  21178.382076\n",
              "5   Jun-2020    4235128  ...           13019649  22329.726350\n",
              "6   Mar-2020     682605  ...             383659   7345.788490\n",
              "7   May-2020    2835662  ...            9339686  26325.988655\n",
              "8   Oct-2020    7099708  ...           22435969  10528.060028\n",
              "9   Sep-2020    8410959  ...           27884663  16370.308755\n",
              "\n",
              "[10 rows x 6 columns]"
            ]
          },
          "metadata": {
            "tags": []
          },
          "execution_count": 21
        }
      ]
    },
    {
      "cell_type": "code",
      "metadata": {
        "id": "yWcG9r7oqp3i",
        "outputId": "73d6d7df-e400-4f23-b3ec-050cc509ead1",
        "colab": {
          "base_uri": "https://localhost:8080/"
        }
      },
      "source": [
        "Increase = ((data['Cumulative_cases'].max() - data['Cumulative_cases'].min()) / data['Cumulative_cases'].max()) * 100\n",
        "print(\"The percentage increase in the number of cases till now from Jan :\" , Increase)"
      ],
      "execution_count": 22,
      "outputs": [
        {
          "output_type": "stream",
          "text": [
            "The percentage increase in the number of cases till now from Jan : 99.99570169262871\n"
          ],
          "name": "stdout"
        }
      ]
    },
    {
      "cell_type": "markdown",
      "metadata": {
        "id": "8QZq0YjCv8XZ"
      },
      "source": [
        "**There is 99% increase in covid cases since Jan.**"
      ]
    },
    {
      "cell_type": "code",
      "metadata": {
        "id": "Q_U2Ybrwi99N",
        "outputId": "51c24abf-ed24-41c1-ab4a-69f159cba54e",
        "colab": {
          "base_uri": "https://localhost:8080/",
          "height": 327
        }
      },
      "source": [
        "sns.barplot(x = \"year_month\", y = \"mrate\", data=data.sort_values('year_month'),palette = 'magma')\n",
        "plt.xticks(rotation=60)\n",
        "plt.show()"
      ],
      "execution_count": 30,
      "outputs": [
        {
          "output_type": "display_data",
          "data": {
            "image/png": "[encoded data removed]",
            "text/plain": [
              "<Figure size 432x288 with 1 Axes>"
            ]
          },
          "metadata": {
            "tags": [],
            "needs_background": "light"
          }
        }
      ]
    },
    {
      "cell_type": "markdown",
      "metadata": {
        "id": "7rMA7tN6jtF_"
      },
      "source": [
        "**There was highest mortality rate in the Month of May and April due to Covid-19.**"
      ]
    },
    {
      "cell_type": "markdown",
      "metadata": {
        "id": "4tWC7idbwCWe"
      },
      "source": [
        "**Conclusions:**\n",
        "* There are 235 countries which have covid cases.\n",
        "* United States of America has highest number of cases in the world.\n",
        "* The mortality rate went above 3.5 in the month of April, May and June. Present, the rate is decreasing.\n",
        "* There is 99% increase in Covid cases since Jan 2020.\n",
        "* There was highest mortality rate in Month of May and April due to Covid 19."
      ]
    },
    {
      "cell_type": "markdown",
      "metadata": {
        "id": "FDjxqDLzw3l6"
      },
      "source": [
        "**Learned:**\n",
        "* Different visualization techniques\n",
        "* Setting individual bar labels\n",
        "* Using functions in pandas"
      ]
    }
  ]
}