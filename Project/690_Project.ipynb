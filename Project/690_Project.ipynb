{
  "nbformat": 4,
  "nbformat_minor": 0,
  "metadata": {
    "colab": {
      "name": "690_Project.ipynb",
      "provenance": []
    },
    "kernelspec": {
      "name": "python3",
      "display_name": "Python 3"
    }
  },
  "cells": [
    {
      "cell_type": "markdown",
      "metadata": {
        "id": "jiotPzbOAHlt"
      },
      "source": [
        "## **PROJECT PROPOSAL**\n",
        "\n",
        "**AIM** \n",
        "\n",
        "*What is your issue of interest?*\n",
        "\n",
        "- Exploration and in-depth Analysis of the Novel Corona Virus Dataset data to perform visualization and analysis.\n",
        "\n",
        "**DESCRIPTION AND MY UNDERSTANDING FROM CONTENT OF DATA**\n",
        "\n",
        "*Why is this issue important?*\n",
        "\n",
        "- The Novel Corona Virus Dataset has been collected by the WHO.\n",
        "I have been interested in working with such data which would help us to understand the data source easily and encouraged me to know more about the Novel Corona Virus Dataset. In current scenario, I feel such exploration and indepth analysis would be useful.\n",
        "\n",
        "**ABOUT THE DATA**\n",
        "\n",
        "*What variables/measures will you use in your analysis?*\n",
        "\n",
        "- The data source size is 2.8 MB and also includes different types of entries like string, int with 66272 rows and 8 columns.\n",
        "\n",
        "**GENERAL RULES AND JUSTIFICATION**\n",
        "\n",
        "- Data is free to download and legal to access.\n",
        "\n",
        "**DATA SOURCE**\n",
        "\n",
        "*Where do you get the data?*\n",
        "\n",
        "- I have taken the data source from  https://covid19.who.int/table.\n",
        "\n",
        "**HYPOTHESIS & QUESTIONS**\n",
        "\n",
        "*What questions do you try to answer?*\n",
        "\n",
        "- I would visualize and analysis the no. of new confirmed COVID cases.\n",
        "Secondly, would also do analysis about the no. of cases and deaths due to COVID.\n",
        "And, would do analysis related to the majority number of cases based on countries.\n",
        "\n",
        "**VISUALISATION AND ANALYSIS**\n",
        "\n",
        "*What kinds of techniques will you use in your analysis?*\n",
        "\n",
        "- All the above analysis and hypothesis would be achieved by plotting bar charts, histogram, summary statistics and line charts with good visualization.\n",
        "\n",
        "\n",
        "\n",
        "\n"
      ]
    },
    {
      "cell_type": "code",
      "metadata": {
        "id": "z_M5HeQWAyR0"
      },
      "source": [
        ""
      ],
      "execution_count": null,
      "outputs": []
    }
  ]
}