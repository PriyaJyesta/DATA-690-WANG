{
  "nbformat": 4,
  "nbformat_minor": 0,
  "metadata": {
    "colab": {
      "name": "690_Project.ipynb",
      "provenance": []
    },
    "kernelspec": {
      "name": "python3",
      "display_name": "Python 3"
    }
  },
  "cells": [
    {
      "cell_type": "markdown",
      "metadata": {
        "id": "jiotPzbOAHlt"
      },
      "source": [
        "## **PROJECT PROPOSAL**\n",
        "\n",
        "**AIM** \n",
        "\n",
        "*What is your issue of interest?*\n",
        "\n",
        "- Exploration and in-depth Analysis of the Novel Corona Virus Dataset data to perform visualization and analysis.\n",
        "\n",
        "**DESCRIPTION AND MY UNDERSTANDING FROM CONTENT OF DATA**\n",
        "\n",
        "*Why is this issue important?*\n",
        "\n",
        "- The Novel Corona Virus Dataset has been collected by the WHO.\n",
        "I have been interested in working with such data which would help us to understand the data source easily and encouraged me to know more about the Novel Corona Virus Dataset. In current scenario, I feel such exploration and indepth analysis would be useful.\n",
        "\n",
        "**ABOUT THE DATA**\n",
        "\n",
        "*What variables/measures will you use in your analysis?*\n",
        "\n",
        "- The data source size is 2.8 MB and also includes different types of entries like string, int with 66272 rows and 8 columns.\n",
        "\n",
        "**GENERAL RULES AND JUSTIFICATION**\n",
        "\n",
        "- Data is free to download and legal to access.\n",
        "\n",
        "**DATA SOURCE**\n",
        "\n",
        "*Where do you get the data to help answer your questions?*\n",
        "\n",
        "- I have taken the data source from  https://covid19.who.int/table.\n",
        "\n",
        "**HYPOTHESIS & QUESTIONS**\n",
        "\n",
        "*What will be your unit of analysis (for example, patient, organization, or country)? Roughly how many units do you expect to analyze?*\n",
        " *What variables/measures do you plan to use in your analysis?*\n",
        "- My units of anaylsis is the confirmed cases of COVID and Death cases and also country. I would analysis the whole dataset with help of bar chart using 66272 rows related to units mentioned above.\n",
        "\n",
        "*What questions do you have in mind and wouyld like to answer?*\n",
        "\n",
        "- Which country are having the highest no. of new confirmed COVID cases currently?\n",
        "- Secondly, In which country deaths are more due to COVID?\n",
        "- And, How much percentage of the cases increased from the begining ?\n",
        "- What is the Mortality rate over time?\n",
        "\n",
        "**VISUALISATION AND ANALYSIS**\n",
        "\n",
        "*What kinds of techniques will you use in your analysis?*\n",
        "\n",
        "- All the above analysis and hypothesis would be achieved by plotting bar charts, histogram, summary statistics and line charts with good visualization.\n",
        "\n",
        "\n",
        "\n",
        "\n"
      ]
    },
    {
      "cell_type": "code",
      "metadata": {
        "id": "z_M5HeQWAyR0"
      },
      "source": [
        ""
      ],
      "execution_count": null,
      "outputs": []
    }
  ]
}