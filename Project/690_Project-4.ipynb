{
  "nbformat": 4,
  "nbformat_minor": 0,
  "metadata": {
    "colab": {
      "name": "690_Project.ipynb",
      "provenance": []
    },
    "kernelspec": {
      "name": "python3",
      "display_name": "Python 3"
    }
  },
  "cells": [
    {
      "cell_type": "markdown",
      "metadata": {
        "id": "jiotPzbOAHlt"
      },
      "source": [
        "\n",
        "1. What is your issue of interest (provide sufficient background information)?\n",
        "  - Exploration and in-depth Analysis of the Novel Corona Virus Dataset data to perform visualization and analysis.I have taken the data source from https://covid19.who.int/table. The Novel Corona Virus Dataset has been collected by the WHO.\n",
        "\n",
        "2. Why is this issue important to you and/or to others? \n",
        "  - I have been interested in working with such data which would help us to understand the data source easily and encouraged me to know more about the Novel Corona Virus Dataset. In current scenario, I feel such exploration and indepth analysis would be useful.\n",
        "\n",
        "3. What questions do you have in mind and would like to answer?\n",
        " - Which country are having the highest no. of new confirmed COVID cases currently?\n",
        " - Secondly, In which country deaths are more due to COVID?\n",
        " - And, How much percentage of the cases increased from the begining ?\n",
        " - What is the Mortality rate over time?\n",
        "\n",
        "4. Where do you get the data to help answer your questions?\n",
        "  - I have taken the data source from https://covid19.who.int/table.\n",
        "\n",
        "5. What will be your unit of analysis (for example, patient, organization, or country)? Roughly how many units (observations) do you expect to analyze?\n",
        " - My units of anaylsis is the confirmed cases of COVID and Death cases , Date and also country. I would analysis the whole dataset with help of bar chart using 66272 rows related to units mentioned above.\n",
        "\n",
        "6. What variables/measures do you plan to use in your analysis (variables should be tied to the questions in #3)? \n",
        " - Variables I plan to use in my anaylsis are country, confirmed cases and death cases and date.\n",
        "\n",
        "7. What kinds of techniques do you plan to use (for example, summary statistics, scatter plot, bar chart, chi-squared test)?\n",
        "  - All the above analysis and hypothesis would be achieved by plotting bar charts, histogram, summary statistics and line charts with good visualization.\n",
        "\n",
        "\n"
      ]
    },
    {
      "cell_type": "code",
      "metadata": {
        "id": "z_M5HeQWAyR0"
      },
      "source": [
        ""
      ],
      "execution_count": null,
      "outputs": []
    }
  ]
}