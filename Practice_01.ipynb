{
  "nbformat": 4,
  "nbformat_minor": 0,
  "metadata": {
    "colab": {
      "name": "Practice-01.ipynb",
      "provenance": [],
      "collapsed_sections": []
    },
    "kernelspec": {
      "name": "python3",
      "display_name": "Python 3"
    }
  },
  "cells": [
    {
      "cell_type": "code",
      "metadata": {
        "id": "nvtDuhRETLUZ",
        "colab_type": "code",
        "colab": {
          "base_uri": "https://localhost:8080/",
          "height": 34
        },
        "outputId": "6297c903-4770-4324-a372-9f971e902de8"
      },
      "source": [
        "a = 5\n",
        "print(a)"
      ],
      "execution_count": 1,
      "outputs": [
        {
          "output_type": "stream",
          "text": [
            "5\n"
          ],
          "name": "stdout"
        }
      ]
    },
    {
      "cell_type": "code",
      "metadata": {
        "id": "wNedYr_OTVSu",
        "colab_type": "code",
        "colab": {
          "base_uri": "https://localhost:8080/",
          "height": 34
        },
        "outputId": "7c4d8846-20b1-4b3c-ae55-35b9f89632ed"
      },
      "source": [
        "print('Hello world')"
      ],
      "execution_count": 2,
      "outputs": [
        {
          "output_type": "stream",
          "text": [
            "Hello world\n"
          ],
          "name": "stdout"
        }
      ]
    },
    {
      "cell_type": "code",
      "metadata": {
        "id": "ZlEEqne_Tpnm",
        "colab_type": "code",
        "colab": {
          "base_uri": "https://localhost:8080/",
          "height": 187
        },
        "outputId": "ec326ef1-0ae7-4feb-d43a-b16dd7e3f286"
      },
      "source": [
        "import numpy as np\n",
        "data_random = {x : np.random.randn() for x in range(10)}\n",
        "data_random"
      ],
      "execution_count": 3,
      "outputs": [
        {
          "output_type": "execute_result",
          "data": {
            "text/plain": [
              "{0: 1.8040042740917897,\n",
              " 1: 0.41587895153492965,\n",
              " 2: 0.7983424934644178,\n",
              " 3: 0.10318408118652843,\n",
              " 4: 0.3933425450872005,\n",
              " 5: -0.27031916851577165,\n",
              " 6: -1.5161363139345585,\n",
              " 7: -1.116726649519092,\n",
              " 8: -0.5533656582633298,\n",
              " 9: -1.9394829227777883}"
            ]
          },
          "metadata": {
            "tags": []
          },
          "execution_count": 3
        }
      ]
    },
    {
      "cell_type": "code",
      "metadata": {
        "id": "lPeB5FUuT73D",
        "colab_type": "code",
        "colab": {
          "base_uri": "https://localhost:8080/",
          "height": 187
        },
        "outputId": "6d9cbf95-1c20-4fd9-a106-bc078c3140a3"
      },
      "source": [
        "from numpy.random import randn\n",
        "data = {a : randn() for a in range(10)}\n",
        "data"
      ],
      "execution_count": 5,
      "outputs": [
        {
          "output_type": "execute_result",
          "data": {
            "text/plain": [
              "{0: 1.2565672917190398,\n",
              " 1: 0.11776458829018378,\n",
              " 2: -0.565596965317185,\n",
              " 3: -2.656388353360022,\n",
              " 4: 1.2257553427777215,\n",
              " 5: 0.6819763254745652,\n",
              " 6: 1.2545723476371067,\n",
              " 7: 0.5928127830566624,\n",
              " 8: 0.20627892911931822,\n",
              " 9: 1.2644524157955326}"
            ]
          },
          "metadata": {
            "tags": []
          },
          "execution_count": 5
        }
      ]
    },
    {
      "cell_type": "markdown",
      "metadata": {
        "id": "e7f4uOXxUvPI",
        "colab_type": "text"
      },
      "source": [
        "In the above two examples, import numpy as np , from numpy.random import randn any one of them can be used. randn is the sub-library of numpy library."
      ]
    },
    {
      "cell_type": "code",
      "metadata": {
        "id": "TeiEb9lIUaMl",
        "colab_type": "code",
        "colab": {}
      },
      "source": [
        "b = [1, 2, 3]"
      ],
      "execution_count": 8,
      "outputs": []
    },
    {
      "cell_type": "markdown",
      "metadata": {
        "id": "hw8HYG1ol4mv",
        "colab_type": "text"
      },
      "source": [
        "Using a question mark (?) before or after a variable will display some general infor‐ mation about the object"
      ]
    },
    {
      "cell_type": "code",
      "metadata": {
        "id": "_cPMGh_NWIbp",
        "colab_type": "code",
        "colab": {}
      },
      "source": [
        "b?\n"
      ],
      "execution_count": 12,
      "outputs": []
    },
    {
      "cell_type": "markdown",
      "metadata": {
        "id": "mMrL7AC6mUPB",
        "colab_type": "text"
      },
      "source": [
        "Declaring function to add two numbers"
      ]
    },
    {
      "cell_type": "code",
      "metadata": {
        "id": "WNq71owwWTms",
        "colab_type": "code",
        "colab": {}
      },
      "source": [
        "def add_numbers(a, b): \n",
        "  return a+b "
      ],
      "execution_count": 19,
      "outputs": []
    },
    {
      "cell_type": "markdown",
      "metadata": {
        "id": "v4RpAfz9mcm7",
        "colab_type": "text"
      },
      "source": [
        "Calling the add_numbers function to add two numbers which returns the result"
      ]
    },
    {
      "cell_type": "code",
      "metadata": {
        "id": "4O1okV5OWsAH",
        "colab_type": "code",
        "colab": {
          "base_uri": "https://localhost:8080/",
          "height": 34
        },
        "outputId": "82ad121b-18b9-42dd-a501-8113b5ecb0cc"
      },
      "source": [
        "add_numbers(12, 4)"
      ],
      "execution_count": 22,
      "outputs": [
        {
          "output_type": "execute_result",
          "data": {
            "text/plain": [
              "16"
            ]
          },
          "metadata": {
            "tags": []
          },
          "execution_count": 22
        }
      ]
    },
    {
      "cell_type": "markdown",
      "metadata": {
        "id": "pt3GnVWlmrbs",
        "colab_type": "text"
      },
      "source": [
        "Few other example functions:"
      ]
    },
    {
      "cell_type": "code",
      "metadata": {
        "id": "99I5Y_Z-W-ex",
        "colab_type": "code",
        "colab": {}
      },
      "source": [
        "def f(x, y, z): \n",
        "  return(x+y)/z"
      ],
      "execution_count": 23,
      "outputs": []
    },
    {
      "cell_type": "code",
      "metadata": {
        "id": "oqDOsDtSXBRq",
        "colab_type": "code",
        "colab": {
          "base_uri": "https://localhost:8080/",
          "height": 34
        },
        "outputId": "e6e353d4-5e4b-492b-c6b1-86eade6b91eb"
      },
      "source": [
        "a=14 \n",
        "b=15\n",
        "c=10\n",
        "final_result = f(a, b, c)\n",
        "final_result"
      ],
      "execution_count": 28,
      "outputs": [
        {
          "output_type": "execute_result",
          "data": {
            "text/plain": [
              "2.9"
            ]
          },
          "metadata": {
            "tags": []
          },
          "execution_count": 28
        }
      ]
    },
    {
      "cell_type": "code",
      "metadata": {
        "id": "0WHh4E2AX6j0",
        "colab_type": "code",
        "colab": {
          "base_uri": "https://localhost:8080/",
          "height": 34
        },
        "outputId": "21f44826-675b-48b6-aee7-99f3b43266e6"
      },
      "source": [
        "x= 6\n",
        "y= 7 \n",
        "if x > 5:\n",
        "  x+=1 \n",
        "  y=8\n",
        "print(x,y)"
      ],
      "execution_count": 34,
      "outputs": [
        {
          "output_type": "stream",
          "text": [
            "7 8\n"
          ],
          "name": "stdout"
        }
      ]
    },
    {
      "cell_type": "markdown",
      "metadata": {
        "id": "OlPqH5TWm0dM",
        "colab_type": "text"
      },
      "source": [
        "MAGIC COMMAND\n",
        "\n",
        "A magic command is any com‐ mand prefixed by the percent symbol %. For example, we can check the execution time of any Python statement, such as a matrix multiplication, using the %timeit magic function"
      ]
    },
    {
      "cell_type": "code",
      "metadata": {
        "id": "0ffv-CM5YwU9",
        "colab_type": "code",
        "colab": {
          "base_uri": "https://localhost:8080/",
          "height": 51
        },
        "outputId": "1269f825-46b8-454d-8737-3152558bb458"
      },
      "source": [
        "a = np.random.randn(100, 100)\n",
        "%timeit np.dot(a, a)"
      ],
      "execution_count": 36,
      "outputs": [
        {
          "output_type": "stream",
          "text": [
            "The slowest run took 129.06 times longer than the fastest. This could mean that an intermediate result is being cached.\n",
            "10000 loops, best of 3: 89.5 µs per loop\n"
          ],
          "name": "stdout"
        }
      ]
    },
    {
      "cell_type": "markdown",
      "metadata": {
        "id": "DBcxLjHInK6b",
        "colab_type": "text"
      },
      "source": [
        "The %matplotlib magic function configures its integration with the IPy‐ thon shell or Jupyter notebook.Running %matplotlib sets up the integration so that we can create multiple plot windows without interfering with the console session."
      ]
    },
    {
      "cell_type": "code",
      "metadata": {
        "id": "ZUGiFoUtZOpF",
        "colab_type": "code",
        "colab": {
          "base_uri": "https://localhost:8080/",
          "height": 282
        },
        "outputId": "0c886dc1-6832-4de6-8afe-2c4952d6b949"
      },
      "source": [
        "import matplotlib.pyplot as plt\n",
        "plt.plot(np.random.randn(50).cumsum())"
      ],
      "execution_count": 38,
      "outputs": [
        {
          "output_type": "execute_result",
          "data": {
            "text/plain": [
              "[<matplotlib.lines.Line2D at 0x7f1fc16fe4a8>]"
            ]
          },
          "metadata": {
            "tags": []
          },
          "execution_count": 38
        },
        {
          "output_type": "display_data",
          "data": {
            "image/png": "[encoded data removed]",
            "text/plain": [
              "<Figure size 432x288 with 1 Axes>"
            ]
          },
          "metadata": {
            "tags": [],
            "needs_background": "light"
          }
        }
      ]
    },
    {
      "cell_type": "markdown",
      "metadata": {
        "id": "UcHH2lBxnT3z",
        "colab_type": "text"
      },
      "source": [
        "Appending a value into the list"
      ]
    },
    {
      "cell_type": "code",
      "metadata": {
        "id": "EqpQcrVSZwAV",
        "colab_type": "code",
        "colab": {
          "base_uri": "https://localhost:8080/",
          "height": 34
        },
        "outputId": "95d28b6c-b0f8-434a-abd0-6ac16a5b7996"
      },
      "source": [
        "a=[1,2,3]\n",
        "b = a\n",
        "a.append(4)\n",
        "b"
      ],
      "execution_count": 41,
      "outputs": [
        {
          "output_type": "execute_result",
          "data": {
            "text/plain": [
              "[1, 2, 3, 4]"
            ]
          },
          "metadata": {
            "tags": []
          },
          "execution_count": 41
        }
      ]
    },
    {
      "cell_type": "markdown",
      "metadata": {
        "id": "Iv6M6MLNnfVb",
        "colab_type": "text"
      },
      "source": [
        "Finding the type of the variable"
      ]
    },
    {
      "cell_type": "code",
      "metadata": {
        "id": "FTS24FX9aYjF",
        "colab_type": "code",
        "colab": {
          "base_uri": "https://localhost:8080/",
          "height": 34
        },
        "outputId": "d8d33786-f010-4610-9392-55af54cdf4fe"
      },
      "source": [
        "a=5\n",
        "type(a)\n"
      ],
      "execution_count": 43,
      "outputs": [
        {
          "output_type": "execute_result",
          "data": {
            "text/plain": [
              "str"
            ]
          },
          "metadata": {
            "tags": []
          },
          "execution_count": 43
        }
      ]
    },
    {
      "cell_type": "code",
      "metadata": {
        "id": "5RcmoA1safa6",
        "colab_type": "code",
        "colab": {}
      },
      "source": [
        "b = 'string'\n",
        "type(b)"
      ],
      "execution_count": null,
      "outputs": []
    },
    {
      "cell_type": "code",
      "metadata": {
        "id": "sqq6aaonawAi",
        "colab_type": "code",
        "colab": {
          "base_uri": "https://localhost:8080/",
          "height": 164
        },
        "outputId": "10777890-b15f-4949-8a36-cdb0fdb9ace3"
      },
      "source": [
        "'5'+5"
      ],
      "execution_count": 117,
      "outputs": [
        {
          "output_type": "error",
          "ename": "TypeError",
          "evalue": "ignored",
          "traceback": [
            "\u001b[0;31m---------------------------------------------------------------------------\u001b[0m",
            "\u001b[0;31mTypeError\u001b[0m                                 Traceback (most recent call last)",
            "\u001b[0;32m<ipython-input-117-e84694abbbbf>\u001b[0m in \u001b[0;36m<module>\u001b[0;34m()\u001b[0m\n\u001b[0;32m----> 1\u001b[0;31m \u001b[0;34m'5'\u001b[0m\u001b[0;34m+\u001b[0m\u001b[0;36m5\u001b[0m\u001b[0;34m\u001b[0m\u001b[0;34m\u001b[0m\u001b[0m\n\u001b[0m",
            "\u001b[0;31mTypeError\u001b[0m: must be str, not int"
          ]
        }
      ]
    },
    {
      "cell_type": "markdown",
      "metadata": {
        "id": "8ukVQLdanlHM",
        "colab_type": "text"
      },
      "source": [
        "We will get an error if we try to concatenate string and int togethere. To avoid this error , we need to typecast string into int."
      ]
    },
    {
      "cell_type": "code",
      "metadata": {
        "id": "Bt_d7PNwa0ZX",
        "colab_type": "code",
        "colab": {
          "base_uri": "https://localhost:8080/",
          "height": 34
        },
        "outputId": "3d9147ce-52d1-4d1a-ef6e-b63564f86037"
      },
      "source": [
        "a = 4.5\n",
        "b = 5\n",
        "print('a is {0}, b is {1}'.format(type(a), type(b)))"
      ],
      "execution_count": 45,
      "outputs": [
        {
          "output_type": "stream",
          "text": [
            "a is <class 'float'>, b is <class 'int'>\n"
          ],
          "name": "stdout"
        }
      ]
    },
    {
      "cell_type": "code",
      "metadata": {
        "id": "179d--SNbHtt",
        "colab_type": "code",
        "colab": {
          "base_uri": "https://localhost:8080/",
          "height": 34
        },
        "outputId": "a4aa89d7-cb87-4f09-f4bc-9d77b5ca8796"
      },
      "source": [
        "a/b"
      ],
      "execution_count": 46,
      "outputs": [
        {
          "output_type": "execute_result",
          "data": {
            "text/plain": [
              "0.9"
            ]
          },
          "metadata": {
            "tags": []
          },
          "execution_count": 46
        }
      ]
    },
    {
      "cell_type": "markdown",
      "metadata": {
        "id": "XP79pR6DoFTR",
        "colab_type": "text"
      },
      "source": [
        "We can check an instance of an object in a particular type using the isinstance function:"
      ]
    },
    {
      "cell_type": "code",
      "metadata": {
        "id": "zKm_M6hObRtr",
        "colab_type": "code",
        "colab": {
          "base_uri": "https://localhost:8080/",
          "height": 34
        },
        "outputId": "5e3f96a8-b8e2-4147-8e37-77675a946e63"
      },
      "source": [
        "isinstance(a, (int, float))"
      ],
      "execution_count": 47,
      "outputs": [
        {
          "output_type": "execute_result",
          "data": {
            "text/plain": [
              "True"
            ]
          },
          "metadata": {
            "tags": []
          },
          "execution_count": 47
        }
      ]
    },
    {
      "cell_type": "markdown",
      "metadata": {
        "id": "rh4U2t8OoZXR",
        "colab_type": "text"
      },
      "source": [
        "To check if two references refer to the same object,we can use \"is\" keyword"
      ]
    },
    {
      "cell_type": "code",
      "metadata": {
        "id": "FBANXyFlctZc",
        "colab_type": "code",
        "colab": {
          "base_uri": "https://localhost:8080/",
          "height": 34
        },
        "outputId": "d6cc4081-389c-416b-8c49-c19bde055414"
      },
      "source": [
        "a=[1,2,3]\n",
        "b=a\n",
        "c = list(a)\n",
        "a is not c "
      ],
      "execution_count": 51,
      "outputs": [
        {
          "output_type": "execute_result",
          "data": {
            "text/plain": [
              "True"
            ]
          },
          "metadata": {
            "tags": []
          },
          "execution_count": 51
        }
      ]
    },
    {
      "cell_type": "markdown",
      "metadata": {
        "id": "V7SagMhTomyF",
        "colab_type": "text"
      },
      "source": [
        " Using == operator below:"
      ]
    },
    {
      "cell_type": "code",
      "metadata": {
        "id": "VNJcmmvgdA71",
        "colab_type": "code",
        "colab": {
          "base_uri": "https://localhost:8080/",
          "height": 34
        },
        "outputId": "cd32ee5b-e6b2-479c-faca-1a2ce58f9272"
      },
      "source": [
        "a==c"
      ],
      "execution_count": 52,
      "outputs": [
        {
          "output_type": "execute_result",
          "data": {
            "text/plain": [
              "True"
            ]
          },
          "metadata": {
            "tags": []
          },
          "execution_count": 52
        }
      ]
    },
    {
      "cell_type": "markdown",
      "metadata": {
        "id": "pU4XOMp6orhC",
        "colab_type": "text"
      },
      "source": [
        " The use of is and is not is to check if a variable is None or it has any instance."
      ]
    },
    {
      "cell_type": "code",
      "metadata": {
        "id": "nfBwXH26dx2a",
        "colab_type": "code",
        "colab": {
          "base_uri": "https://localhost:8080/",
          "height": 34
        },
        "outputId": "17af9b79-a978-4444-cbcf-eccca2d2ca26"
      },
      "source": [
        "a is None"
      ],
      "execution_count": 53,
      "outputs": [
        {
          "output_type": "execute_result",
          "data": {
            "text/plain": [
              "False"
            ]
          },
          "metadata": {
            "tags": []
          },
          "execution_count": 53
        }
      ]
    },
    {
      "cell_type": "markdown",
      "metadata": {
        "id": "AlHDnHPIo1TS",
        "colab_type": "text"
      },
      "source": [
        "List and dictonaries are mutable."
      ]
    },
    {
      "cell_type": "code",
      "metadata": {
        "id": "uC0AWRVMeLd3",
        "colab_type": "code",
        "colab": {
          "base_uri": "https://localhost:8080/",
          "height": 34
        },
        "outputId": "9c26445d-58ef-4d84-f39e-a9f9b516422f"
      },
      "source": [
        "a_list = ['foo', 2, [4, 5]]\n",
        "a_list[2] = (3, 4)\n",
        "a_list"
      ],
      "execution_count": 54,
      "outputs": [
        {
          "output_type": "execute_result",
          "data": {
            "text/plain": [
              "['foo', 2, (3, 4)]"
            ]
          },
          "metadata": {
            "tags": []
          },
          "execution_count": 54
        }
      ]
    },
    {
      "cell_type": "markdown",
      "metadata": {
        "id": "OJKawEMxpDqR",
        "colab_type": "text"
      },
      "source": [
        "\n",
        "Strings and tuples, are immutable thats the reason it gives error"
      ]
    },
    {
      "cell_type": "code",
      "metadata": {
        "id": "xNlgKPIWeTug",
        "colab_type": "code",
        "colab": {
          "base_uri": "https://localhost:8080/",
          "height": 181
        },
        "outputId": "2d35b35f-8c01-4f7e-a311-c5e0de724955"
      },
      "source": [
        "a_tuple = (3, 5, (4, 5))\n",
        "a_tuple[1] = 'four'"
      ],
      "execution_count": 55,
      "outputs": [
        {
          "output_type": "error",
          "ename": "TypeError",
          "evalue": "ignored",
          "traceback": [
            "\u001b[0;31m---------------------------------------------------------------------------\u001b[0m",
            "\u001b[0;31mTypeError\u001b[0m                                 Traceback (most recent call last)",
            "\u001b[0;32m<ipython-input-55-2c9bddc8679c>\u001b[0m in \u001b[0;36m<module>\u001b[0;34m()\u001b[0m\n\u001b[1;32m      1\u001b[0m \u001b[0ma_tuple\u001b[0m \u001b[0;34m=\u001b[0m \u001b[0;34m(\u001b[0m\u001b[0;36m3\u001b[0m\u001b[0;34m,\u001b[0m \u001b[0;36m5\u001b[0m\u001b[0;34m,\u001b[0m \u001b[0;34m(\u001b[0m\u001b[0;36m4\u001b[0m\u001b[0;34m,\u001b[0m \u001b[0;36m5\u001b[0m\u001b[0;34m)\u001b[0m\u001b[0;34m)\u001b[0m\u001b[0;34m\u001b[0m\u001b[0;34m\u001b[0m\u001b[0m\n\u001b[0;32m----> 2\u001b[0;31m \u001b[0ma_tuple\u001b[0m\u001b[0;34m[\u001b[0m\u001b[0;36m1\u001b[0m\u001b[0;34m]\u001b[0m \u001b[0;34m=\u001b[0m \u001b[0;34m'four'\u001b[0m\u001b[0;34m\u001b[0m\u001b[0;34m\u001b[0m\u001b[0m\n\u001b[0m",
            "\u001b[0;31mTypeError\u001b[0m: 'tuple' object does not support item assignment"
          ]
        }
      ]
    },
    {
      "cell_type": "markdown",
      "metadata": {
        "id": "qP55OCJfpuNc",
        "colab_type": "text"
      },
      "source": [
        "Integer Division"
      ]
    },
    {
      "cell_type": "code",
      "metadata": {
        "id": "KqzMs32qegrU",
        "colab_type": "code",
        "colab": {
          "base_uri": "https://localhost:8080/",
          "height": 34
        },
        "outputId": "3afa627b-6948-473f-a62e-cf33e127ad7d"
      },
      "source": [
        "3/2 "
      ],
      "execution_count": 56,
      "outputs": [
        {
          "output_type": "execute_result",
          "data": {
            "text/plain": [
              "1.5"
            ]
          },
          "metadata": {
            "tags": []
          },
          "execution_count": 56
        }
      ]
    },
    {
      "cell_type": "markdown",
      "metadata": {
        "id": "fvjsAhLVpxJ4",
        "colab_type": "text"
      },
      "source": [
        "Floor Division operator //"
      ]
    },
    {
      "cell_type": "code",
      "metadata": {
        "id": "HZNiAuD7e-Fg",
        "colab_type": "code",
        "colab": {
          "base_uri": "https://localhost:8080/",
          "height": 34
        },
        "outputId": "1a4179b5-3e05-4029-9a91-c77581bcb208"
      },
      "source": [
        "3//2 "
      ],
      "execution_count": 58,
      "outputs": [
        {
          "output_type": "execute_result",
          "data": {
            "text/plain": [
              "1"
            ]
          },
          "metadata": {
            "tags": []
          },
          "execution_count": 58
        }
      ]
    },
    {
      "cell_type": "markdown",
      "metadata": {
        "id": "7DXgkySpp2B6",
        "colab_type": "text"
      },
      "source": [
        "Ways to declare string"
      ]
    },
    {
      "cell_type": "code",
      "metadata": {
        "id": "38tN3WgVfZv4",
        "colab_type": "code",
        "colab": {}
      },
      "source": [
        "a = 'one way of writing a string'\n",
        "b = \"another way\""
      ],
      "execution_count": 62,
      "outputs": []
    },
    {
      "cell_type": "markdown",
      "metadata": {
        "id": "7blnHGEGp5xV",
        "colab_type": "text"
      },
      "source": [
        "Way to declare the For multiline strings with line breaks, we can use triple quotes, either ''' or \"\"\" shown below:"
      ]
    },
    {
      "cell_type": "code",
      "metadata": {
        "id": "aYLTXqlLfR7H",
        "colab_type": "code",
        "colab": {}
      },
      "source": [
        "c=\"\"\"\n",
        "This is a longer string that spans multiple lines\n",
        "\"\"\""
      ],
      "execution_count": 59,
      "outputs": []
    },
    {
      "cell_type": "markdown",
      "metadata": {
        "id": "SawAo7gHqLQB",
        "colab_type": "text"
      },
      "source": [
        "Count the new line characters for the c count method below:"
      ]
    },
    {
      "cell_type": "code",
      "metadata": {
        "id": "t2A0qyCxfVzC",
        "colab_type": "code",
        "colab": {
          "base_uri": "https://localhost:8080/",
          "height": 34
        },
        "outputId": "62573da1-9080-4864-bea1-0bfd235ef528"
      },
      "source": [
        "c.count('\\n')"
      ],
      "execution_count": 60,
      "outputs": [
        {
          "output_type": "execute_result",
          "data": {
            "text/plain": [
              "2"
            ]
          },
          "metadata": {
            "tags": []
          },
          "execution_count": 60
        }
      ]
    },
    {
      "cell_type": "markdown",
      "metadata": {
        "id": "iwKITpVZqRJI",
        "colab_type": "text"
      },
      "source": [
        "Python strings are immutable,  we cannot modify a string, it will give an error if we do so."
      ]
    },
    {
      "cell_type": "code",
      "metadata": {
        "id": "HmE59shlfcIp",
        "colab_type": "code",
        "colab": {
          "base_uri": "https://localhost:8080/",
          "height": 181
        },
        "outputId": "2c92abca-89a4-476c-d97b-4a341d73b5a8"
      },
      "source": [
        "a = 'this is a string'\n",
        "a[10] = 'f'"
      ],
      "execution_count": 63,
      "outputs": [
        {
          "output_type": "error",
          "ename": "TypeError",
          "evalue": "ignored",
          "traceback": [
            "\u001b[0;31m---------------------------------------------------------------------------\u001b[0m",
            "\u001b[0;31mTypeError\u001b[0m                                 Traceback (most recent call last)",
            "\u001b[0;32m<ipython-input-63-cfa170a67205>\u001b[0m in \u001b[0;36m<module>\u001b[0;34m()\u001b[0m\n\u001b[1;32m      1\u001b[0m \u001b[0ma\u001b[0m \u001b[0;34m=\u001b[0m \u001b[0;34m'this is a string'\u001b[0m\u001b[0;34m\u001b[0m\u001b[0;34m\u001b[0m\u001b[0m\n\u001b[0;32m----> 2\u001b[0;31m \u001b[0ma\u001b[0m\u001b[0;34m[\u001b[0m\u001b[0;36m10\u001b[0m\u001b[0;34m]\u001b[0m \u001b[0;34m=\u001b[0m \u001b[0;34m'f'\u001b[0m\u001b[0;34m\u001b[0m\u001b[0;34m\u001b[0m\u001b[0m\n\u001b[0m",
            "\u001b[0;31mTypeError\u001b[0m: 'str' object does not support item assignment"
          ]
        }
      ]
    },
    {
      "cell_type": "markdown",
      "metadata": {
        "id": "edxklDjoqZ2A",
        "colab_type": "text"
      },
      "source": [
        "String Replacement"
      ]
    },
    {
      "cell_type": "code",
      "metadata": {
        "id": "oATn6xUqfrJB",
        "colab_type": "code",
        "colab": {
          "base_uri": "https://localhost:8080/",
          "height": 37
        },
        "outputId": "f99e6f74-773b-4a36-cbf0-ca4e2799cc7f"
      },
      "source": [
        "b = a.replace('string', 'longer string')\n",
        "b"
      ],
      "execution_count": 64,
      "outputs": [
        {
          "output_type": "execute_result",
          "data": {
            "application/vnd.google.colaboratory.intrinsic+json": {
              "type": "string"
            },
            "text/plain": [
              "'this is a longer string'"
            ]
          },
          "metadata": {
            "tags": []
          },
          "execution_count": 64
        }
      ]
    },
    {
      "cell_type": "markdown",
      "metadata": {
        "id": "rw5MU6Gbqhfm",
        "colab_type": "text"
      },
      "source": [
        "Converting interger to a string using the str function"
      ]
    },
    {
      "cell_type": "code",
      "metadata": {
        "id": "Nj6hnEBsf0w5",
        "colab_type": "code",
        "colab": {
          "base_uri": "https://localhost:8080/",
          "height": 34
        },
        "outputId": "0ff0b1d3-6613-4135-963a-b65a5cb24322"
      },
      "source": [
        "a=13.546\n",
        "s = str(a) # converted to a string using the str function\n",
        "print(s)"
      ],
      "execution_count": 66,
      "outputs": [
        {
          "output_type": "stream",
          "text": [
            "13.546\n"
          ],
          "name": "stdout"
        }
      ]
    },
    {
      "cell_type": "markdown",
      "metadata": {
        "id": "V-KTW-Kuqoau",
        "colab_type": "text"
      },
      "source": [
        "Slicing the elements of a list below:"
      ]
    },
    {
      "cell_type": "code",
      "metadata": {
        "id": "6ePnjN3VgCGV",
        "colab_type": "code",
        "colab": {
          "base_uri": "https://localhost:8080/",
          "height": 54
        },
        "outputId": "1cdf185e-a9e4-4598-ce07-1d6550ef1c6a"
      },
      "source": [
        "s = 'python'\n",
        "print(list(s))\n",
        "s[:3]"
      ],
      "execution_count": 67,
      "outputs": [
        {
          "output_type": "stream",
          "text": [
            "['p', 'y', 't', 'h', 'o', 'n']\n"
          ],
          "name": "stdout"
        },
        {
          "output_type": "execute_result",
          "data": {
            "application/vnd.google.colaboratory.intrinsic+json": {
              "type": "string"
            },
            "text/plain": [
              "'pyt'"
            ]
          },
          "metadata": {
            "tags": []
          },
          "execution_count": 67
        }
      ]
    },
    {
      "cell_type": "code",
      "metadata": {
        "id": "_FCBg8CegYA9",
        "colab_type": "code",
        "colab": {
          "base_uri": "https://localhost:8080/",
          "height": 37
        },
        "outputId": "ec3eca98-7062-452b-df77-4392800f2519"
      },
      "source": [
        "s = r'this\\has\\no\\special\\characters'\n",
        "s"
      ],
      "execution_count": 68,
      "outputs": [
        {
          "output_type": "execute_result",
          "data": {
            "application/vnd.google.colaboratory.intrinsic+json": {
              "type": "string"
            },
            "text/plain": [
              "'this\\\\has\\\\no\\\\special\\\\characters'"
            ]
          },
          "metadata": {
            "tags": []
          },
          "execution_count": 68
        }
      ]
    },
    {
      "cell_type": "markdown",
      "metadata": {
        "id": "HGapjgnSqzRg",
        "colab_type": "text"
      },
      "source": [
        "Concatenation of two Strings below:"
      ]
    },
    {
      "cell_type": "code",
      "metadata": {
        "id": "G4TExxQ-gcDq",
        "colab_type": "code",
        "colab": {
          "base_uri": "https://localhost:8080/",
          "height": 37
        },
        "outputId": "1d47abb9-f826-46c0-d970-a314bfd813e6"
      },
      "source": [
        "a = 'this is the first half '\n",
        "b = 'and this is the second half'\n",
        "a+b #concatenates them"
      ],
      "execution_count": 70,
      "outputs": [
        {
          "output_type": "execute_result",
          "data": {
            "application/vnd.google.colaboratory.intrinsic+json": {
              "type": "string"
            },
            "text/plain": [
              "'this is the first half and this is the second half'"
            ]
          },
          "metadata": {
            "tags": []
          },
          "execution_count": 70
        }
      ]
    },
    {
      "cell_type": "markdown",
      "metadata": {
        "id": "yvkfJ9GMq57S",
        "colab_type": "text"
      },
      "source": [
        "Typecasting the int str float variables below:"
      ]
    },
    {
      "cell_type": "code",
      "metadata": {
        "id": "igKVpQBZg7vc",
        "colab_type": "code",
        "colab": {
          "base_uri": "https://localhost:8080/",
          "height": 34
        },
        "outputId": "15a9ec14-bb1c-48ed-e3c2-5257eb39235e"
      },
      "source": [
        "s = '3.14159'\n",
        "fval = float(s)\n",
        "fval"
      ],
      "execution_count": 72,
      "outputs": [
        {
          "output_type": "execute_result",
          "data": {
            "text/plain": [
              "3.14159"
            ]
          },
          "metadata": {
            "tags": []
          },
          "execution_count": 72
        }
      ]
    },
    {
      "cell_type": "code",
      "metadata": {
        "id": "6cQVGFuVg_xy",
        "colab_type": "code",
        "colab": {
          "base_uri": "https://localhost:8080/",
          "height": 34
        },
        "outputId": "92a2f1e2-9ba3-47d4-a024-b5037b92bff8"
      },
      "source": [
        " int(fval)"
      ],
      "execution_count": 74,
      "outputs": [
        {
          "output_type": "execute_result",
          "data": {
            "text/plain": [
              "3"
            ]
          },
          "metadata": {
            "tags": []
          },
          "execution_count": 74
        }
      ]
    },
    {
      "cell_type": "code",
      "metadata": {
        "id": "VCIA8DeohOew",
        "colab_type": "code",
        "colab": {
          "base_uri": "https://localhost:8080/",
          "height": 34
        },
        "outputId": "a2591cc6-97b2-4eca-ba77-3b20a76bc329"
      },
      "source": [
        "bool(fval)"
      ],
      "execution_count": 75,
      "outputs": [
        {
          "output_type": "execute_result",
          "data": {
            "text/plain": [
              "True"
            ]
          },
          "metadata": {
            "tags": []
          },
          "execution_count": 75
        }
      ]
    },
    {
      "cell_type": "markdown",
      "metadata": {
        "id": "ujgithHyrFi0",
        "colab_type": "text"
      },
      "source": [
        "There is a built-in Python datetime module which provides datetime, date, and time types. example is given below :"
      ]
    },
    {
      "cell_type": "code",
      "metadata": {
        "id": "kZsSN_bQhbkZ",
        "colab_type": "code",
        "colab": {
          "base_uri": "https://localhost:8080/",
          "height": 34
        },
        "outputId": "5aad119c-3289-447e-cb91-093a4852355c"
      },
      "source": [
        "from datetime import datetime, date, time\n",
        "dt = datetime(2011, 10, 29, 20, 30, 21)\n",
        "dt.day"
      ],
      "execution_count": 79,
      "outputs": [
        {
          "output_type": "execute_result",
          "data": {
            "text/plain": [
              "29"
            ]
          },
          "metadata": {
            "tags": []
          },
          "execution_count": 79
        }
      ]
    },
    {
      "cell_type": "markdown",
      "metadata": {
        "id": "_h4cb-4lrQJS",
        "colab_type": "text"
      },
      "source": [
        "formating the date in MONTH/DAY/YEAR HOURS:MINS below:"
      ]
    },
    {
      "cell_type": "code",
      "metadata": {
        "id": "Rj3sn_F8hs6d",
        "colab_type": "code",
        "colab": {
          "base_uri": "https://localhost:8080/",
          "height": 37
        },
        "outputId": "a0c7e1c1-58d0-47ac-dd64-7f05431d3ed6"
      },
      "source": [
        "dt.strftime('%m/%d/%Y %H:%M')"
      ],
      "execution_count": 80,
      "outputs": [
        {
          "output_type": "execute_result",
          "data": {
            "application/vnd.google.colaboratory.intrinsic+json": {
              "type": "string"
            },
            "text/plain": [
              "'10/29/2011 20:30'"
            ]
          },
          "metadata": {
            "tags": []
          },
          "execution_count": 80
        }
      ]
    },
    {
      "cell_type": "code",
      "metadata": {
        "id": "e9b-S2Odhu96",
        "colab_type": "code",
        "colab": {
          "base_uri": "https://localhost:8080/",
          "height": 34
        },
        "outputId": "ba490c42-14ef-44e7-a4e1-e7101a25399f"
      },
      "source": [
        "datetime.strptime('20091031', '%Y%m%d')"
      ],
      "execution_count": 81,
      "outputs": [
        {
          "output_type": "execute_result",
          "data": {
            "text/plain": [
              "datetime.datetime(2009, 10, 31, 0, 0)"
            ]
          },
          "metadata": {
            "tags": []
          },
          "execution_count": 81
        }
      ]
    },
    {
      "cell_type": "markdown",
      "metadata": {
        "id": "RneUnFFArbq5",
        "colab_type": "text"
      },
      "source": [
        "Control Flows : IF-ELIF-ELSE LOOP"
      ]
    },
    {
      "cell_type": "code",
      "metadata": {
        "id": "-5Z_0E1Bh5_D",
        "colab_type": "code",
        "colab": {
          "base_uri": "https://localhost:8080/",
          "height": 34
        },
        "outputId": "bf7d689f-0363-4634-f7f6-5046bd180a28"
      },
      "source": [
        "if x<0:\n",
        " print('It is negative')\n",
        "elif x==0:\n",
        " print('Equal to zero')\n",
        "elif 0<x<5:\n",
        " print('Positive but smaller than 5')\n",
        "else:\n",
        " print('Positive and larger than or equal to 5')"
      ],
      "execution_count": 83,
      "outputs": [
        {
          "output_type": "stream",
          "text": [
            "Positive and larger than or equal to 5\n"
          ],
          "name": "stdout"
        }
      ]
    },
    {
      "cell_type": "code",
      "metadata": {
        "id": "vdBA2VE-iGwJ",
        "colab_type": "code",
        "colab": {
          "base_uri": "https://localhost:8080/",
          "height": 34
        },
        "outputId": "c65529a6-28d1-4cb1-8860-79f41a0f3a40"
      },
      "source": [
        "a=5;b=7;c=5;d=6\n",
        "if a<b or c>d:\n",
        "   print('inside loop')"
      ],
      "execution_count": 84,
      "outputs": [
        {
          "output_type": "stream",
          "text": [
            "inside loop\n"
          ],
          "name": "stdout"
        }
      ]
    },
    {
      "cell_type": "markdown",
      "metadata": {
        "id": "lLh2nWI6rmKK",
        "colab_type": "text"
      },
      "source": [
        "FOR LOOP"
      ]
    },
    {
      "cell_type": "code",
      "metadata": {
        "id": "bmk2Tou5iftw",
        "colab_type": "code",
        "colab": {
          "base_uri": "https://localhost:8080/",
          "height": 187
        },
        "outputId": "06632d9d-4dd7-49ee-eb3b-22f041edd1fa"
      },
      "source": [
        "for i in range(4):\n",
        "    for j in range(4): \n",
        "       if j>i:\n",
        "          break \n",
        "       print((i, j))"
      ],
      "execution_count": 89,
      "outputs": [
        {
          "output_type": "stream",
          "text": [
            "(0, 0)\n",
            "(1, 0)\n",
            "(1, 1)\n",
            "(2, 0)\n",
            "(2, 1)\n",
            "(2, 2)\n",
            "(3, 0)\n",
            "(3, 1)\n",
            "(3, 2)\n",
            "(3, 3)\n"
          ],
          "name": "stdout"
        }
      ]
    },
    {
      "cell_type": "markdown",
      "metadata": {
        "id": "tQXyZCMNroaV",
        "colab_type": "text"
      },
      "source": [
        "WHILE LOOP"
      ]
    },
    {
      "cell_type": "code",
      "metadata": {
        "id": "LhKazlW0i7Th",
        "colab_type": "code",
        "colab": {
          "base_uri": "https://localhost:8080/",
          "height": 34
        },
        "outputId": "9986e434-15ff-479e-fa24-d82e04e55a4d"
      },
      "source": [
        "x=256 \n",
        "total = 0 \n",
        "while x > 0:\n",
        " if total > 50: \n",
        "   break\n",
        " total += x \n",
        " x=x//2\n",
        "total"
      ],
      "execution_count": 113,
      "outputs": [
        {
          "output_type": "execute_result",
          "data": {
            "text/plain": [
              "256"
            ]
          },
          "metadata": {
            "tags": []
          },
          "execution_count": 113
        }
      ]
    },
    {
      "cell_type": "markdown",
      "metadata": {
        "id": "rAjIjlIlrrWw",
        "colab_type": "text"
      },
      "source": [
        "USING PASS -  used in blocks where no action is to be taken"
      ]
    },
    {
      "cell_type": "code",
      "metadata": {
        "id": "9ndG_vFbjjHf",
        "colab_type": "code",
        "colab": {
          "base_uri": "https://localhost:8080/",
          "height": 34
        },
        "outputId": "a70ec3c0-dae2-4081-a200-5bb2ac8636c9"
      },
      "source": [
        "if x<0: \n",
        "  print('negative!')\n",
        "elif x==0:\n",
        "  # TODO: put something smart here \n",
        "  pass\n",
        "else:\n",
        "  print('positive!') "
      ],
      "execution_count": 111,
      "outputs": [
        {
          "output_type": "stream",
          "text": [
            "positive!\n"
          ],
          "name": "stdout"
        }
      ]
    },
    {
      "cell_type": "markdown",
      "metadata": {
        "id": "0SgSvBQyrzE4",
        "colab_type": "text"
      },
      "source": [
        "RANGE - returns an iterator that yields a sequence of evenly spaced integers:"
      ]
    },
    {
      "cell_type": "code",
      "metadata": {
        "id": "nnOiU1vOkjAM",
        "colab_type": "code",
        "colab": {
          "base_uri": "https://localhost:8080/",
          "height": 34
        },
        "outputId": "2082d481-74d6-4016-ac02-2e49f2b3c5e7"
      },
      "source": [
        "list(range(0, 20, 2))"
      ],
      "execution_count": 114,
      "outputs": [
        {
          "output_type": "execute_result",
          "data": {
            "text/plain": [
              "[0, 2, 4, 6, 8, 10, 12, 14, 16, 18]"
            ]
          },
          "metadata": {
            "tags": []
          },
          "execution_count": 114
        }
      ]
    },
    {
      "cell_type": "code",
      "metadata": {
        "id": "76SdTpmikgKa",
        "colab_type": "code",
        "colab": {
          "base_uri": "https://localhost:8080/",
          "height": 34
        },
        "outputId": "0c26406f-0d09-4443-93bb-fa0ba7086244"
      },
      "source": [
        "list(range(5, 0, -1))"
      ],
      "execution_count": 115,
      "outputs": [
        {
          "output_type": "execute_result",
          "data": {
            "text/plain": [
              "[5, 4, 3, 2, 1]"
            ]
          },
          "metadata": {
            "tags": []
          },
          "execution_count": 115
        }
      ]
    },
    {
      "cell_type": "markdown",
      "metadata": {
        "id": "pGuTcaMnr5Ot",
        "colab_type": "text"
      },
      "source": [
        "TERNARY EXPRESSION - combineS an if-else block which comes with a value into a single line or expression"
      ]
    },
    {
      "cell_type": "code",
      "metadata": {
        "id": "2y3uHv0Ek-w_",
        "colab_type": "code",
        "colab": {
          "base_uri": "https://localhost:8080/",
          "height": 37
        },
        "outputId": "aecea78d-58a8-40b2-8d7a-38012fd2269a"
      },
      "source": [
        "x=-2\n",
        "'Non-negative' if x >= 0 else 'Negative'"
      ],
      "execution_count": 116,
      "outputs": [
        {
          "output_type": "execute_result",
          "data": {
            "application/vnd.google.colaboratory.intrinsic+json": {
              "type": "string"
            },
            "text/plain": [
              "'Negative'"
            ]
          },
          "metadata": {
            "tags": []
          },
          "execution_count": 116
        }
      ]
    }
  ]
}