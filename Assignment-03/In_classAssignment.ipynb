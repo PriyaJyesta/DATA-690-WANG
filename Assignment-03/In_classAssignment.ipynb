{
  "nbformat": 4,
  "nbformat_minor": 0,
  "metadata": {
    "colab": {
      "name": "In-classAssignment.ipynb",
      "provenance": [],
      "collapsed_sections": []
    },
    "kernelspec": {
      "name": "python3",
      "display_name": "Python 3"
    }
  },
  "cells": [
    {
      "cell_type": "code",
      "metadata": {
        "id": "beWbYMsbbIxA",
        "colab_type": "code",
        "colab": {
          "base_uri": "https://localhost:8080/",
          "height": 54
        },
        "outputId": "129bbc6e-443f-44a0-e3f5-99b8489e30c5"
      },
      "source": [
        "list_names = \"Wang, Chaojie; Seelam, Arjun Reddy; Rius, Jonathan; Liang, Jinqing; Chowdhury, Debanjan; Maszkiewicz, Lori; Negussie, Neftalem; Steinruck, Michaella; Phogat, Shreshta; Fatima, Misha; Hirabayashi, Scott; Soroush, Masoud; Bolz, Jessica; Mbu Nyamsi, Tchuissi; Dokuzoglu, Yuksel; Gogineni, Shailesh; Pabbisetty, Sai Vinay; Preis, Liam; Jyesta, Vishnu Priya; Narne, Yoshita; Boban, Shruthi; Oberoi, Ashreen Kaur; Cohens, Nashika; Noppinger, Ken; Kakani, Goutham; Hayo, Alyssa\"\n",
        "print(list)"
      ],
      "execution_count": 63,
      "outputs": [
        {
          "output_type": "stream",
          "text": [
            "Wang, Chaojie; Seelam, Arjun Reddy; Rius, Jonathan; Liang, Jinqing; Chowdhury, Debanjan; Maszkiewicz, Lori; Negussie, Neftalem; Steinruck, Michaella; Phogat, Shreshta; Fatima, Misha; Hirabayashi, Scott; Soroush, Masoud; Bolz, Jessica; Mbu Nyamsi, Tchuissi; Dokuzoglu, Yuksel; Gogineni, Shailesh; Pabbisetty, Sai Vinay; Preis, Liam; Jyesta, Vishnu Priya; Narne, Yoshita; Boban, Shruthi; Oberoi, Ashreen Kaur; Cohens, Nashika; Noppinger, Ken; Kakani, Goutham; Hayo, Alyssa\n"
          ],
          "name": "stdout"
        }
      ]
    },
    {
      "cell_type": "code",
      "metadata": {
        "id": "wlsZugUTblpD",
        "colab_type": "code",
        "colab": {}
      },
      "source": [
        "changed_list = list_names.split(\";\")"
      ],
      "execution_count": 64,
      "outputs": []
    },
    {
      "cell_type": "code",
      "metadata": {
        "id": "_IahBIoKgRyF",
        "colab_type": "code",
        "colab": {
          "base_uri": "https://localhost:8080/",
          "height": 54
        },
        "outputId": "9550fe9c-6071-49da-ca0d-c4578e3f5567"
      },
      "source": [
        "print(changed_list)"
      ],
      "execution_count": 65,
      "outputs": [
        {
          "output_type": "stream",
          "text": [
            "['Wang, Chaojie', ' Seelam, Arjun Reddy', ' Rius, Jonathan', ' Liang, Jinqing', ' Chowdhury, Debanjan', ' Maszkiewicz, Lori', ' Negussie, Neftalem', ' Steinruck, Michaella', ' Phogat, Shreshta', ' Fatima, Misha', ' Hirabayashi, Scott', ' Soroush, Masoud', ' Bolz, Jessica', ' Mbu Nyamsi, Tchuissi', ' Dokuzoglu, Yuksel', ' Gogineni, Shailesh', ' Pabbisetty, Sai Vinay', ' Preis, Liam', ' Jyesta, Vishnu Priya', ' Narne, Yoshita', ' Boban, Shruthi', ' Oberoi, Ashreen Kaur', ' Cohens, Nashika', ' Noppinger, Ken', ' Kakani, Goutham', ' Hayo, Alyssa']\n"
          ],
          "name": "stdout"
        }
      ]
    },
    {
      "cell_type": "code",
      "metadata": {
        "id": "2eFgbOWqcGLi",
        "colab_type": "code",
        "colab": {
          "base_uri": "https://localhost:8080/",
          "height": 459
        },
        "outputId": "3ccd88fe-4c7b-4248-a037-b757378b145c"
      },
      "source": [
        "for i in changed_list:\n",
        "    a = i.split(\",\")\n",
        "    print(a[1])"
      ],
      "execution_count": 71,
      "outputs": [
        {
          "output_type": "stream",
          "text": [
            " Chaojie\n",
            " Arjun Reddy\n",
            " Jonathan\n",
            " Jinqing\n",
            " Debanjan\n",
            " Lori\n",
            " Neftalem\n",
            " Michaella\n",
            " Shreshta\n",
            " Misha\n",
            " Scott\n",
            " Masoud\n",
            " Jessica\n",
            " Tchuissi\n",
            " Yuksel\n",
            " Shailesh\n",
            " Sai Vinay\n",
            " Liam\n",
            " Vishnu Priya\n",
            " Yoshita\n",
            " Shruthi\n",
            " Ashreen Kaur\n",
            " Nashika\n",
            " Ken\n",
            " Goutham\n",
            " Alyssa\n"
          ],
          "name": "stdout"
        }
      ]
    },
    {
      "cell_type": "code",
      "metadata": {
        "id": "3HC3cm4bcjSz",
        "colab_type": "code",
        "colab": {}
      },
      "source": [
        ""
      ],
      "execution_count": null,
      "outputs": []
    }
  ]
}