{
  "nbformat": 4,
  "nbformat_minor": 0,
  "metadata": {
    "colab": {
      "name": "690-Stats-Assignment-03",
      "provenance": [],
      "collapsed_sections": []
    },
    "kernelspec": {
      "name": "python3",
      "display_name": "Python 3"
    }
  },
  "cells": [
    {
      "cell_type": "markdown",
      "metadata": {
        "id": "8kB_-xmnVHUy",
        "colab_type": "text"
      },
      "source": [
        "**Write a program that generates 100 random integers between 0 and 9.**\n",
        "\n",
        "**Print them in a 10 by 10 matrix neatly arranged like the following (one space between each number):**"
      ]
    },
    {
      "cell_type": "code",
      "metadata": {
        "id": "rxoBe_KKZX10",
        "colab_type": "code",
        "colab": {
          "base_uri": "https://localhost:8080/",
          "height": 187
        },
        "outputId": "f42686eb-b4f9-4aac-a857-665f51c5faff"
      },
      "source": [
        "import random\n",
        "for i in range (10):\n",
        "   for i in range(10):\n",
        "      print(\"\",random.randint(0,9),end='')\n",
        "   print(\"\")"
      ],
      "execution_count": 32,
      "outputs": [
        {
          "output_type": "stream",
          "text": [
            " 1 7 6 5 1 4 9 3 0 8\n",
            " 6 4 3 2 9 5 6 5 3 5\n",
            " 4 4 5 2 3 5 3 5 1 5\n",
            " 3 3 7 7 1 4 7 6 1 7\n",
            " 6 3 8 6 4 0 0 9 6 2\n",
            " 8 1 5 2 8 0 7 0 7 9\n",
            " 4 1 5 5 4 0 0 8 3 1\n",
            " 6 2 1 1 8 1 5 5 0 2\n",
            " 0 1 6 5 8 3 5 2 0 5\n",
            " 2 9 7 2 6 1 6 1 0 6\n"
          ],
          "name": "stdout"
        }
      ]
    },
    {
      "cell_type": "markdown",
      "metadata": {
        "id": "SZqWD0AhVU7l",
        "colab_type": "text"
      },
      "source": [
        "**2.If the random number is an odd number, print \"@\" instead. like the following:**"
      ]
    },
    {
      "cell_type": "code",
      "metadata": {
        "id": "cl2OzpGnqkGu",
        "colab_type": "code",
        "colab": {
          "base_uri": "https://localhost:8080/",
          "height": 187
        },
        "outputId": "f563c18a-735b-444c-d4d5-3ae24e6f3249"
      },
      "source": [
        "import random\n",
        "for i in range (10):\n",
        "   for i in range(10):\n",
        "      num = random.randint(0,9)\n",
        "      if (num%2 == 0):\n",
        "          print(\"\",num,end='')\n",
        "      else:\n",
        "         print(\"\",\"@\",end='')\n",
        "   print(\"\")"
      ],
      "execution_count": null,
      "outputs": [
        {
          "output_type": "stream",
          "text": [
            " 2 @ 0 @ @ 8 6 @ 2 @\n",
            " 0 @ 4 @ @ 6 6 4 @ 6\n",
            " @ 8 @ 2 2 4 4 @ 6 @\n",
            " @ 4 @ 8 @ 4 6 4 @ 0\n",
            " 0 @ 2 @ @ @ 0 0 @ 2\n",
            " 8 8 4 @ @ 0 @ @ @ @\n",
            " @ @ @ 4 @ @ @ @ 4 @\n",
            " 6 6 @ @ 2 @ 2 8 @ @\n",
            " @ 8 2 @ @ 6 @ 4 4 2\n",
            " 6 @ @ @ 6 @ 2 2 @ 2\n"
          ],
          "name": "stdout"
        }
      ]
    },
    {
      "cell_type": "markdown",
      "metadata": {
        "id": "DDTXtj7FVaWv",
        "colab_type": "text"
      },
      "source": [
        "**3.Calculate and Print the total of each row like the following (use \"*\" to separate the total from the numbers):**"
      ]
    },
    {
      "cell_type": "code",
      "metadata": {
        "id": "fTegKp2FrPs1",
        "colab_type": "code",
        "colab": {
          "base_uri": "https://localhost:8080/",
          "height": 187
        },
        "outputId": "334a9496-bcf2-4c87-9149-796258d79e79"
      },
      "source": [
        "import random\n",
        "for i in range (10):\n",
        "   sum = 0\n",
        "   for i in range(10):\n",
        "      num = random.randint(0,9)\n",
        "      print(\"\",num,end='')\n",
        "      sum += num\n",
        "   print(\"\",\"*\",sum)"
      ],
      "execution_count": null,
      "outputs": [
        {
          "output_type": "stream",
          "text": [
            " 6 2 3 9 3 4 0 3 7 4 * 41\n",
            " 0 9 5 7 2 8 3 2 3 0 * 39\n",
            " 8 4 6 2 2 4 4 2 5 5 * 42\n",
            " 6 7 2 2 0 3 3 6 4 3 * 36\n",
            " 5 4 2 3 5 1 8 5 2 6 * 41\n",
            " 9 1 7 3 2 4 2 8 5 1 * 42\n",
            " 9 0 9 7 0 6 4 7 2 9 * 53\n",
            " 9 6 0 4 9 1 9 8 5 9 * 60\n",
            " 5 6 6 3 1 0 3 2 4 9 * 39\n",
            " 2 3 1 3 5 7 7 9 7 4 * 48\n"
          ],
          "name": "stdout"
        }
      ]
    },
    {
      "cell_type": "markdown",
      "metadata": {
        "id": "IUDt6hEgVgTl",
        "colab_type": "text"
      },
      "source": [
        "**4.Optional: Surround the matrix with asterisks (*) like the following:**"
      ]
    },
    {
      "cell_type": "code",
      "metadata": {
        "id": "QEmRCRKstY0v",
        "colab_type": "code",
        "colab": {
          "base_uri": "https://localhost:8080/",
          "height": 221
        },
        "outputId": "d3b93db6-4bcf-4dc3-a719-a5ae44a17166"
      },
      "source": [
        "import random\n",
        "for i in range(12):\n",
        "   print(\"*\",end=\"\")\n",
        "   for a in range(10):\n",
        "      if (i == 0 or i == 11):\n",
        "        print(\"\",\"*\",end=\"\")\n",
        "      else:\n",
        "        num = random.randint(0,9)\n",
        "        print(\"\",num,end=\"\")\n",
        "   print(\"\",\"*\")"
      ],
      "execution_count": 27,
      "outputs": [
        {
          "output_type": "stream",
          "text": [
            "* * * * * * * * * * * *\n",
            "* 0 5 5 9 8 3 3 4 6 9 *\n",
            "* 2 8 6 3 6 5 3 9 8 1 *\n",
            "* 6 7 1 2 2 9 8 1 0 9 *\n",
            "* 3 4 5 2 3 1 6 2 3 7 *\n",
            "* 9 9 0 4 5 0 4 1 3 1 *\n",
            "* 7 3 4 3 2 5 1 9 9 0 *\n",
            "* 6 7 6 7 5 3 0 0 9 4 *\n",
            "* 1 9 3 2 9 5 6 1 0 3 *\n",
            "* 1 7 3 2 7 9 8 0 4 5 *\n",
            "* 6 8 9 7 0 8 6 6 5 8 *\n",
            "* * * * * * * * * * * *\n"
          ],
          "name": "stdout"
        }
      ]
    }
  ]
}
