{
 "cells": [
  {
   "cell_type": "markdown",
   "metadata": {
    "colab_type": "text",
    "id": "yQAxaD-_YzTs"
   },
   "source": [
    "# Assignment 04\n",
    "1. Write code to open the text file [census_cost.txt](census_cost.txt) and read all lines into a list named **\"line_list\"**. Print line_list.\n",
    "2. Extract the first two lines and put them in a different list named \"top2_list\". You will need to use them later. Print the top2_list.\n",
    "3. Put the rest of the lines (containing useful data elements) in a new list named \"data_list\". Print data_list.\n",
    "4. Extract the column **\"Census Year\"** from data_list and assign them to a list named **year_list**. Remove the \"*\" from the last element \"2010*\". Print the cleansed year_list.\n",
    "5. Extract the **\"Total Population\"** column from the data_list and assign them to a list named **\"pop_list\"**. Remove the \",\" from the numbers since Python doesn't recognize them. Print the cleansed \"pop_list\".\n",
    "6. Extract the **\"Census Cost\"** column from the data_list and assign them to a list named **\"cost_list\"**. Remove the \",\", and dollar symbol, and \"Billion\".\n",
    "Make sure to add the \"0\"s to the numbers from which you removed \"Billion\". Print the cleansed cost_list.  \n",
    "7. Extract the **\"Average Cost per Person\"** column from the data_list and assign them to a list named **\"avg_list\"**. Remove the \"cents\", and \"$\".\n",
    "Make sure to divide the numbers in cents by 100 so that all numbers are measured in dollar. Print the cleansed avg_list.\n",
    "8. Coalesce the cleansed data and save them to a text file named \"census_cost.csv\". The new file should look similar to the original source file except that it is in \n",
    "comma-delimited format and the numbers have been cleansed. The top two lines from the original file should be retained in the new file.\n",
    "9. Open the newly-created file \"census_cost.csv\", read all lines and display them. How does it look?"
   ]
  },
  {
   "cell_type": "code",
   "execution_count": 1,
   "metadata": {
    "colab": {
     "base_uri": "https://localhost:8080/",
     "height": 850
    },
    "colab_type": "code",
    "id": "hIZLM5SQRNBZ",
    "outputId": "12a5388c-bf00-42e4-a4ff-699a54f0e47e"
   },
   "outputs": [
    {
     "name": "stdout",
     "output_type": "stream",
     "text": [
      "Source: https://www.genealogybranches.com/censuscosts.html\n",
      "\n",
      "Census Year\tTotal Population\tCensus Cost\tAverage Cost Per Person\n",
      "\n",
      "1790\t3,929,214\t$44,377\t        1.13 cents\n",
      "\n",
      "1800\t5,308,483\t$66,109. \t1.24 cents\n",
      "\n",
      "1810\t7,239,881\t$178,445\t2.46 cents\n",
      "\n",
      "1820\t9,633,822\t$208,526\t2.16 cents\n",
      "\n",
      "1830\t12,866,020\t$378,545\t2.94 cents\n",
      "\n",
      "1840\t17,069,458\t$833,371\t4.88 cents\n",
      "\n",
      "1850\t23,191,876\t$1,423,351\t6.14 cents\n",
      "\n",
      "1860\t31,443,321\t$1,969,377\t6.26 cents\n",
      "\n",
      "1870\t38,558,371\t$3,421,198\t8.87 cents\n",
      "\n",
      "1880\t50,155,783\t$5,790,678\t11.54 cents\n",
      "\n",
      "1890\t62,979,766\t$11,547,127\t18.33 cents\n",
      "\n",
      "1900\t76,303,387\t$11,854,000\t15.54 cents\n",
      "\n",
      "1910\t91,972,266\t$15,968,000\t17.07 cents\n",
      "\n",
      "1920\t105,710,620\t$25,117,000\t23.76 cents\n",
      "\n",
      "1930\t122,775,046\t$40,156,000\t32.71 cents\n",
      "\n",
      "1940\t131,669,275\t$67,527,000\t51.29 cents\n",
      "\n",
      "1950\t151,325,798\t$91,462,000\t60.44 cents\n",
      "\n",
      "1960\t179,323,175\t$127,934,000\t71.34 cents\n",
      "\n",
      "1970\t203,302,031\t$247,653,000\t$1.22\n",
      "\n",
      "1980\t226,542,199\t$1,078,488,000\t$4.76\n",
      "\n",
      "1990\t248,718,301\t$2,492,830,000\t$10.02\n",
      "\n",
      "2000\t281,421,906\t$4.5 Billion\t$15.99\n",
      "\n",
      "2010*\t308,745,538\t$13 Billion\t$42.11\n"
     ]
    }
   ],
   "source": [
    "import csv\n",
    "with open(\"census_cost.txt\",\"rt\") as my_file:\n",
    "     census_cost = my_file.readlines()\n",
    "\n",
    "for line in census_cost:\n",
    "    print(line)"
   ]
  },
  {
   "cell_type": "code",
   "execution_count": 2,
   "metadata": {
    "colab": {
     "base_uri": "https://localhost:8080/",
     "height": 54
    },
    "colab_type": "code",
    "id": "1V_EQTc2ZpIz",
    "outputId": "a1c2edad-9ec6-477d-e6ec-f1405ad8c9c5"
   },
   "outputs": [
    {
     "name": "stdout",
     "output_type": "stream",
     "text": [
      "['Source: https://www.genealogybranches.com/censuscosts.html\\n', 'Census Year\\tTotal Population\\tCensus Cost\\tAverage Cost Per Person\\n', '1790\\t3,929,214\\t$44,377\\t        1.13 cents\\n', '1800\\t5,308,483\\t$66,109. \\t1.24 cents\\n', '1810\\t7,239,881\\t$178,445\\t2.46 cents\\n', '1820\\t9,633,822\\t$208,526\\t2.16 cents\\n', '1830\\t12,866,020\\t$378,545\\t2.94 cents\\n', '1840\\t17,069,458\\t$833,371\\t4.88 cents\\n', '1850\\t23,191,876\\t$1,423,351\\t6.14 cents\\n', '1860\\t31,443,321\\t$1,969,377\\t6.26 cents\\n', '1870\\t38,558,371\\t$3,421,198\\t8.87 cents\\n', '1880\\t50,155,783\\t$5,790,678\\t11.54 cents\\n', '1890\\t62,979,766\\t$11,547,127\\t18.33 cents\\n', '1900\\t76,303,387\\t$11,854,000\\t15.54 cents\\n', '1910\\t91,972,266\\t$15,968,000\\t17.07 cents\\n', '1920\\t105,710,620\\t$25,117,000\\t23.76 cents\\n', '1930\\t122,775,046\\t$40,156,000\\t32.71 cents\\n', '1940\\t131,669,275\\t$67,527,000\\t51.29 cents\\n', '1950\\t151,325,798\\t$91,462,000\\t60.44 cents\\n', '1960\\t179,323,175\\t$127,934,000\\t71.34 cents\\n', '1970\\t203,302,031\\t$247,653,000\\t$1.22\\n', '1980\\t226,542,199\\t$1,078,488,000\\t$4.76\\n', '1990\\t248,718,301\\t$2,492,830,000\\t$10.02\\n', '2000\\t281,421,906\\t$4.5 Billion\\t$15.99\\n', '2010*\\t308,745,538\\t$13 Billion\\t$42.11']\n"
     ]
    }
   ],
   "source": [
    "print(census_cost)"
   ]
  },
  {
   "cell_type": "code",
   "execution_count": 3,
   "metadata": {
    "colab": {
     "base_uri": "https://localhost:8080/",
     "height": 54
    },
    "colab_type": "code",
    "id": "XJPG0jR5aKsZ",
    "outputId": "b91bca82-fe25-43df-f2b5-539170687e57"
   },
   "outputs": [
    {
     "name": "stdout",
     "output_type": "stream",
     "text": [
      "['Source: https://www.genealogybranches.com/censuscosts.html', 'Census YearTotal PopulationCensus CostAverage Cost Per Person']\n"
     ]
    }
   ],
   "source": [
    "top2_list = []\n",
    "census_cost[0] = census_cost[0].replace(\"\\n\", \"\")\n",
    "census_cost[0] = census_cost[0].replace(\"\\t\", \"\")\n",
    "census_cost[1] = census_cost[1].replace(\"\\n\", \"\")\n",
    "census_cost[1] = census_cost[1].replace(\"\\t\", \"\")\n",
    "top2_list.append(census_cost[0])\n",
    "top2_list.append(census_cost[1])\n",
    "print(top2_list)"
   ]
  },
  {
   "cell_type": "code",
   "execution_count": 4,
   "metadata": {
    "colab": {
     "base_uri": "https://localhost:8080/",
     "height": 54
    },
    "colab_type": "code",
    "id": "IKQApOnFa9qD",
    "outputId": "8dcc3a1e-3c56-476d-f154-8538a555eb2d"
   },
   "outputs": [
    {
     "name": "stdout",
     "output_type": "stream",
     "text": [
      "['1790\\t3,929,214\\t$44,377\\t        1.13 cents\\n', '1800\\t5,308,483\\t$66,109. \\t1.24 cents\\n', '1810\\t7,239,881\\t$178,445\\t2.46 cents\\n', '1820\\t9,633,822\\t$208,526\\t2.16 cents\\n', '1830\\t12,866,020\\t$378,545\\t2.94 cents\\n', '1840\\t17,069,458\\t$833,371\\t4.88 cents\\n', '1850\\t23,191,876\\t$1,423,351\\t6.14 cents\\n', '1860\\t31,443,321\\t$1,969,377\\t6.26 cents\\n', '1870\\t38,558,371\\t$3,421,198\\t8.87 cents\\n', '1880\\t50,155,783\\t$5,790,678\\t11.54 cents\\n', '1890\\t62,979,766\\t$11,547,127\\t18.33 cents\\n', '1900\\t76,303,387\\t$11,854,000\\t15.54 cents\\n', '1910\\t91,972,266\\t$15,968,000\\t17.07 cents\\n', '1920\\t105,710,620\\t$25,117,000\\t23.76 cents\\n', '1930\\t122,775,046\\t$40,156,000\\t32.71 cents\\n', '1940\\t131,669,275\\t$67,527,000\\t51.29 cents\\n', '1950\\t151,325,798\\t$91,462,000\\t60.44 cents\\n', '1960\\t179,323,175\\t$127,934,000\\t71.34 cents\\n', '1970\\t203,302,031\\t$247,653,000\\t$1.22\\n', '1980\\t226,542,199\\t$1,078,488,000\\t$4.76\\n', '1990\\t248,718,301\\t$2,492,830,000\\t$10.02\\n', '2000\\t281,421,906\\t$4.5 Billion\\t$15.99\\n', '2010*\\t308,745,538\\t$13 Billion\\t$42.11']\n"
     ]
    }
   ],
   "source": [
    "data_list = []\n",
    "data_list = census_cost[2:]\n",
    "print(data_list)"
   ]
  },
  {
   "cell_type": "code",
   "execution_count": 5,
   "metadata": {
    "colab": {
     "base_uri": "https://localhost:8080/",
     "height": 54
    },
    "colab_type": "code",
    "id": "UXLD1bB6bDUX",
    "outputId": "194f4a2f-c30c-47fe-ff88-dcb4c8ecb733"
   },
   "outputs": [
    {
     "name": "stdout",
     "output_type": "stream",
     "text": [
      "['1790', '1800', '1810', '1820', '1830', '1840', '1850', '1860', '1870', '1880', '1890', '1900', '1910', '1920', '1930', '1940', '1950', '1960', '1970', '1980', '1990', '2000', '2010']\n"
     ]
    }
   ],
   "source": [
    "year_list=[]\n",
    "for i in data_list:\n",
    "    a = i.split(\"\\t\")\n",
    "    year_list.append(a[0].replace('*',\"\"))\n",
    "print(year_list)"
   ]
  },
  {
   "cell_type": "code",
   "execution_count": 6,
   "metadata": {
    "colab": {
     "base_uri": "https://localhost:8080/",
     "height": 54
    },
    "colab_type": "code",
    "id": "M_Rk3MYXdAT_",
    "outputId": "a35e757c-4090-4219-ced0-70bf778b6332"
   },
   "outputs": [
    {
     "name": "stdout",
     "output_type": "stream",
     "text": [
      "['3929214', '5308483', '7239881', '9633822', '12866020', '17069458', '23191876', '31443321', '38558371', '50155783', '62979766', '76303387', '91972266', '105710620', '122775046', '131669275', '151325798', '179323175', '203302031', '226542199', '248718301', '281421906', '308745538']\n"
     ]
    }
   ],
   "source": [
    "pop_list=[]\n",
    "for i in data_list:\n",
    "    a = i.split(\"\\t\")\n",
    "    pop_list.append(a[1].replace(\",\", \"\"))\n",
    "print(pop_list)"
   ]
  },
  {
   "cell_type": "code",
   "execution_count": 7,
   "metadata": {
    "colab": {
     "base_uri": "https://localhost:8080/",
     "height": 54
    },
    "colab_type": "code",
    "id": "hfUepg2pdI7f",
    "outputId": "191862bd-1caf-4131-c4fc-c4148d06d590"
   },
   "outputs": [
    {
     "name": "stdout",
     "output_type": "stream",
     "text": [
      "['44377', '66109', '178445', '208526', '378545', '833371', '1423351', '1969377', '3421198', '5790678', '11547127', '11854000', '15968000', '25117000', '40156000', '67527000', '91462000', '127934000', '247653000', '1078488000', '2492830000', '45000000000', '13000000000']\n"
     ]
    }
   ],
   "source": [
    "cost_list=[]\n",
    "for i in data_list:\n",
    "    a = i.split(\"\\t\")\n",
    "    a[2] = a[2].strip()\n",
    "    a[2] = a[2].replace(\",\", \"\")\n",
    "    a[2] = a[2].replace(\".\", \"\")\n",
    "    a[2] = a[2].replace(\"Billion\",\"000000000\")\n",
    "    a[2] = a[2].replace(\" \",\"\")\n",
    "    cost_list.append(a[2].replace(\"$\", \"\"))\n",
    "    #1 billion = 1,000,000,000\n",
    "print(cost_list)"
   ]
  },
  {
   "cell_type": "code",
   "execution_count": 8,
   "metadata": {
    "colab": {
     "base_uri": "https://localhost:8080/",
     "height": 54
    },
    "colab_type": "code",
    "id": "bSDslWZ_dpCG",
    "outputId": "0421078b-c71c-4052-c503-8d9838114f30"
   },
   "outputs": [
    {
     "name": "stdout",
     "output_type": "stream",
     "text": [
      "['0.0113', '0.0124', '0.0246', '0.0216', '0.0294', '0.0488', '0.0614', '0.0626', '0.0887', '0.1154', '0.1833', '0.1554', '0.1707', '0.2376', '0.3271', '0.5129', '0.6044', '0.7134', '1.22', '4.76', '10.02', '15.99', '42.11']\n"
     ]
    }
   ],
   "source": [
    "avg_list=[]\n",
    "for i in data_list:\n",
    "    a = i.split(\"\\t\")\n",
    "    a[3] = a[3].replace(\"\\n\", \"\")\n",
    "    a[3] = a[3].replace(\" \", \"\")      \n",
    "    a[3] = a[3].strip(\"$\")  \n",
    "\n",
    "    if \"cents\" in a[3]: \n",
    "        a[3] = a[3].replace(\"cents\", \"\").strip() \n",
    "        a[3] = float(a[3]) * float(0.01)\n",
    "        a[3] = format(a[3],'.4f')\n",
    "    avg_list.append(a[3])\n",
    "print(avg_list)"
   ]
  },
  {
   "cell_type": "code",
   "execution_count": 9,
   "metadata": {
    "colab": {
     "base_uri": "https://localhost:8080/",
     "height": 54
    },
    "colab_type": "code",
    "id": "lJx_vh0gOE9c",
    "outputId": "61eabe4b-6ba7-43d6-c843-c8a87f7992b9"
   },
   "outputs": [
    {
     "name": "stdout",
     "output_type": "stream",
     "text": [
      "['1790', '3929214', '44377', '0.0113', '1800', '5308483', '66109', '0.0124', '1810', '7239881', '178445', '0.0246', '1820', '9633822', '208526', '0.0216', '1830', '12866020', '378545', '0.0294', '1840', '17069458', '833371', '0.0488', '1850', '23191876', '1423351', '0.0614', '1860', '31443321', '1969377', '0.0626', '1870', '38558371', '3421198', '0.0887', '1880', '50155783', '5790678', '0.1154', '1890', '62979766', '11547127', '0.1833', '1900', '76303387', '11854000', '0.1554', '1910', '91972266', '15968000', '0.1707', '1920', '105710620', '25117000', '0.2376', '1930', '122775046', '40156000', '0.3271', '1940', '131669275', '67527000', '0.5129', '1950', '151325798', '91462000', '0.6044', '1960', '179323175', '127934000', '0.7134', '1970', '203302031', '247653000', '1.22', '1980', '226542199', '1078488000', '4.76', '1990', '248718301', '2492830000', '10.02', '2000', '281421906', '45000000000', '15.99', '2010', '308745538', '13000000000', '42.11']\n"
     ]
    }
   ],
   "source": [
    "result=[]\n",
    "array_length = len(data_list)\n",
    "for i in range(array_length):\n",
    "    result.append(year_list[i])\n",
    "    result.append(pop_list[i])\n",
    "    result.append(cost_list[i])\n",
    "    result.append(avg_list[i])\n",
    "print(result)"
   ]
  },
  {
   "cell_type": "code",
   "execution_count": 10,
   "metadata": {
    "colab": {
     "base_uri": "https://localhost:8080/",
     "height": 54
    },
    "colab_type": "code",
    "id": "QK6CDFRyVu_H",
    "outputId": "aea9275a-a596-4a6c-b4bc-871faa27b60e"
   },
   "outputs": [
    {
     "name": "stdout",
     "output_type": "stream",
     "text": [
      "[['1790', '3929214', '44377', '0.0113'], ['1800', '5308483', '66109', '0.0124'], ['1810', '7239881', '178445', '0.0246'], ['1820', '9633822', '208526', '0.0216'], ['1830', '12866020', '378545', '0.0294'], ['1840', '17069458', '833371', '0.0488'], ['1850', '23191876', '1423351', '0.0614'], ['1860', '31443321', '1969377', '0.0626'], ['1870', '38558371', '3421198', '0.0887'], ['1880', '50155783', '5790678', '0.1154'], ['1890', '62979766', '11547127', '0.1833'], ['1900', '76303387', '11854000', '0.1554'], ['1910', '91972266', '15968000', '0.1707'], ['1920', '105710620', '25117000', '0.2376'], ['1930', '122775046', '40156000', '0.3271'], ['1940', '131669275', '67527000', '0.5129'], ['1950', '151325798', '91462000', '0.6044'], ['1960', '179323175', '127934000', '0.7134'], ['1970', '203302031', '247653000', '1.22'], ['1980', '226542199', '1078488000', '4.76'], ['1990', '248718301', '2492830000', '10.02'], ['2000', '281421906', '45000000000', '15.99'], ['2010', '308745538', '13000000000', '42.11']]\n"
     ]
    }
   ],
   "source": [
    "i=0\n",
    "new_list=[]\n",
    "while i<len(result):\n",
    "    new_list.append(result[i:i+4])\n",
    "    i+=4\n",
    "print(new_list)\n"
   ]
  },
  {
   "cell_type": "code",
   "execution_count": 11,
   "metadata": {
    "colab": {
     "base_uri": "https://localhost:8080/",
     "height": 54
    },
    "colab_type": "code",
    "id": "RCfXHiW4t8sb",
    "outputId": "97b036ad-e10f-4d5d-831f-448b1334283b"
   },
   "outputs": [
    {
     "name": "stdout",
     "output_type": "stream",
     "text": [
      "[['Source: https://www.genealogybranches.com/censuscosts.html'], ['Census YearTotal PopulationCensus CostAverage Cost Per Person'], ['1790', '3929214', '44377', '0.0113'], ['1800', '5308483', '66109', '0.0124'], ['1810', '7239881', '178445', '0.0246'], ['1820', '9633822', '208526', '0.0216'], ['1830', '12866020', '378545', '0.0294'], ['1840', '17069458', '833371', '0.0488'], ['1850', '23191876', '1423351', '0.0614'], ['1860', '31443321', '1969377', '0.0626'], ['1870', '38558371', '3421198', '0.0887'], ['1880', '50155783', '5790678', '0.1154'], ['1890', '62979766', '11547127', '0.1833'], ['1900', '76303387', '11854000', '0.1554'], ['1910', '91972266', '15968000', '0.1707'], ['1920', '105710620', '25117000', '0.2376'], ['1930', '122775046', '40156000', '0.3271'], ['1940', '131669275', '67527000', '0.5129'], ['1950', '151325798', '91462000', '0.6044'], ['1960', '179323175', '127934000', '0.7134'], ['1970', '203302031', '247653000', '1.22'], ['1980', '226542199', '1078488000', '4.76'], ['1990', '248718301', '2492830000', '10.02'], ['2000', '281421906', '45000000000', '15.99'], ['2010', '308745538', '13000000000', '42.11']]\n"
     ]
    }
   ],
   "source": [
    "top1_list = []\n",
    "topheader2_list=[]\n",
    "top1_list.append(top2_list[0])\n",
    "topheader2_list.append(top2_list[1])\n",
    "new_list.insert(0,top1_list)\n",
    "new_list.insert(1,topheader2_list)\n",
    "print(new_list)"
   ]
  },
  {
   "cell_type": "code",
   "execution_count": 12,
   "metadata": {
    "colab": {},
    "colab_type": "code",
    "id": "I34IdTEsqWx5"
   },
   "outputs": [],
   "source": [
    "with open('cenus.csv', 'w', newline='') as csvfile:\n",
    "    writer = csv.writer(csvfile)\n",
    "    writer.writerows(new_list)"
   ]
  },
  {
   "cell_type": "code",
   "execution_count": 13,
   "metadata": {
    "colab": {
     "base_uri": "https://localhost:8080/",
     "height": 867
    },
    "colab_type": "code",
    "id": "8wRmTzcLrqYD",
    "outputId": "37b2b168-8c55-4a8f-b0bc-86cb56d3967b"
   },
   "outputs": [
    {
     "name": "stdout",
     "output_type": "stream",
     "text": [
      "Source: https://www.genealogybranches.com/censuscosts.html\n",
      "\n",
      "Census YearTotal PopulationCensus CostAverage Cost Per Person\n",
      "\n",
      "1790,3929214,44377,0.0113\n",
      "\n",
      "1800,5308483,66109,0.0124\n",
      "\n",
      "1810,7239881,178445,0.0246\n",
      "\n",
      "1820,9633822,208526,0.0216\n",
      "\n",
      "1830,12866020,378545,0.0294\n",
      "\n",
      "1840,17069458,833371,0.0488\n",
      "\n",
      "1850,23191876,1423351,0.0614\n",
      "\n",
      "1860,31443321,1969377,0.0626\n",
      "\n",
      "1870,38558371,3421198,0.0887\n",
      "\n",
      "1880,50155783,5790678,0.1154\n",
      "\n",
      "1890,62979766,11547127,0.1833\n",
      "\n",
      "1900,76303387,11854000,0.1554\n",
      "\n",
      "1910,91972266,15968000,0.1707\n",
      "\n",
      "1920,105710620,25117000,0.2376\n",
      "\n",
      "1930,122775046,40156000,0.3271\n",
      "\n",
      "1940,131669275,67527000,0.5129\n",
      "\n",
      "1950,151325798,91462000,0.6044\n",
      "\n",
      "1960,179323175,127934000,0.7134\n",
      "\n",
      "1970,203302031,247653000,1.22\n",
      "\n",
      "1980,226542199,1078488000,4.76\n",
      "\n",
      "1990,248718301,2492830000,10.02\n",
      "\n",
      "2000,281421906,45000000000,15.99\n",
      "\n",
      "2010,308745538,13000000000,42.11\n",
      "\n"
     ]
    }
   ],
   "source": [
    "with open(\"cenus.csv\",\"rt\") as my_file:\n",
    "     output = my_file.readlines()\n",
    "for line in output:\n",
    "    print(line)"
   ]
  },
  {
   "cell_type": "code",
   "execution_count": null,
   "metadata": {},
   "outputs": [],
   "source": []
  }
 ],
 "metadata": {
  "colab": {
   "collapsed_sections": [],
   "name": "Untitled74.ipynb",
   "provenance": [],
   "toc_visible": true
  },
  "kernelspec": {
   "display_name": "Python 3",
   "language": "python",
   "name": "python3"
  },
  "language_info": {
   "codemirror_mode": {
    "name": "ipython",
    "version": 3
   },
   "file_extension": ".py",
   "mimetype": "text/x-python",
   "name": "python",
   "nbconvert_exporter": "python",
   "pygments_lexer": "ipython3",
   "version": "3.7.4"
  }
 },
 "nbformat": 4,
 "nbformat_minor": 1
}
